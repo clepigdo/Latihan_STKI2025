{
  "nbformat": 4,
  "nbformat_minor": 0,
  "metadata": {
    "colab": {
      "provenance": [],
      "authorship_tag": "ABX9TyPqvuwsPL5N12AjCRhx1Bv4",
      "include_colab_link": true
    },
    "kernelspec": {
      "name": "python3",
      "display_name": "Python 3"
    },
    "language_info": {
      "name": "python"
    }
  },
  "cells": [
    {
      "cell_type": "markdown",
      "metadata": {
        "id": "view-in-github",
        "colab_type": "text"
      },
      "source": [
        "<a href=\"https://colab.research.google.com/github/clepigdo/Latihan_STKI2025/blob/main/PythonBasic.ipynb\" target=\"_parent\"><img src=\"https://colab.research.google.com/assets/colab-badge.svg\" alt=\"Open In Colab\"/></a>"
      ]
    },
    {
      "cell_type": "markdown",
      "source": [
        "# Python Basic-1\n",
        "- mengenal fungsi print();\n",
        "- tanda kurung buka;\n",
        "- tanda kutip;\n",
        "- kalimat 1 baris: Hello, World!;\n",
        "- fungsi beberapa tanda kutip lain;\n",
        "- tanda kurung tutup.\n"
      ],
      "metadata": {
        "id": "sYJ3q_slwKGO"
      }
    },
    {
      "cell_type": "code",
      "source": [
        "print(\"Hello World!@#!#!$\")\n",
        "print(\"test\")"
      ],
      "metadata": {
        "colab": {
          "base_uri": "https://localhost:8080/"
        },
        "id": "juN4J-I5wLC9",
        "outputId": "93271056-0e2f-4a13-9af6-7f1b3bf883a4"
      },
      "execution_count": 2,
      "outputs": [
        {
          "output_type": "stream",
          "name": "stdout",
          "text": [
            "Hello World!@#!#!$\n",
            "test\n"
          ]
        }
      ]
    },
    {
      "cell_type": "markdown",
      "source": [
        "#### Latihan: The print() function\n",
        "\n",
        "- Cetak kalimat \"Hello, Python!\"\n",
        "- Cetak nama pertamamu\n",
        "- Cetak nama pertamamu tanpa petik\n",
        "- apakah ada bedanya double quote \"\" dan single quote '?"
      ],
      "metadata": {
        "id": "6kDoOVaKwUhn"
      }
    },
    {
      "cell_type": "code",
      "source": [
        "print(\"Hello, Python!\")\n",
        "print(\"Aku Igdo Ragil Manuel\")\n",
        "print('Data Analyst')"
      ],
      "metadata": {
        "colab": {
          "base_uri": "https://localhost:8080/"
        },
        "id": "aQ6r10VswO7W",
        "outputId": "f08657b8-b41a-4645-d93b-fc184e2ad591"
      },
      "execution_count": 4,
      "outputs": [
        {
          "output_type": "stream",
          "name": "stdout",
          "text": [
            "Hello, Python!\n",
            "Aku Igdo Ragil Manuel\n",
            "Data Analyst\n"
          ]
        }
      ]
    },
    {
      "cell_type": "markdown",
      "source": [
        "## Formatting dengan Special Character\n",
        "`\\' = karakter spesial \"escaping nature\"\n",
        "\n",
        "`\\n` = untuk enter\n",
        "\n",
        "`\\` = escaping karakter\n",
        "\n",
        "```python\n",
        "print() = berarti line kosong\n",
        "```\n",
        "\n",
        "Tidak boleh ada 2 perintah dalam 1 baris\n",
        "```python\n",
        "print(\"nama depan\") print (\"nama belakang\")\n",
        "```"
      ],
      "metadata": {
        "id": "CZca2R4Awur2"
      }
    },
    {
      "cell_type": "code",
      "source": [
        "print()\n",
        "\n",
        "print(\"Saya suka mulai eksplor koding diatas jam 9 malam \\n dan di pagi hari sebelum jam 9\")\n",
        "print(\"dikarenakan suasana di jam tersebut tenang \\t dan sangat fokus\")"
      ],
      "metadata": {
        "colab": {
          "base_uri": "https://localhost:8080/"
        },
        "id": "_6ZZ-NZZwX42",
        "outputId": "33c33f5f-d6b7-4de4-9962-f00cd0a74cb0"
      },
      "execution_count": 7,
      "outputs": [
        {
          "output_type": "stream",
          "name": "stdout",
          "text": [
            "\n",
            "Saya suka mulai eksplor koding diatas jam 9 malam \n",
            " dan di pagi hari sebelum jam 9\n",
            "dikarenakan suasana di jam tersebut tenang \t dan sangat fokus\n"
          ]
        }
      ]
    },
    {
      "cell_type": "code",
      "source": [
        "print(\"nama saya \\\"Igdo\\\"\")"
      ],
      "metadata": {
        "colab": {
          "base_uri": "https://localhost:8080/"
        },
        "id": "c1HAxMvQxNAI",
        "outputId": "32434dcd-bf05-4830-9414-137db70350d5"
      },
      "execution_count": 8,
      "outputs": [
        {
          "output_type": "stream",
          "name": "stdout",
          "text": [
            "nama saya \"Igdo\"\n"
          ]
        }
      ]
    },
    {
      "cell_type": "code",
      "source": [
        "print(\"\\\"\")"
      ],
      "metadata": {
        "colab": {
          "base_uri": "https://localhost:8080/"
        },
        "id": "Gngc2p3nxQoZ",
        "outputId": "129f9b36-8127-4012-c249-3e9326658ce1"
      },
      "execution_count": 9,
      "outputs": [
        {
          "output_type": "stream",
          "name": "stdout",
          "text": [
            "\"\n"
          ]
        }
      ]
    },
    {
      "cell_type": "code",
      "source": [
        "print(\"satu.\",\"dua.\",\"tiga.\")"
      ],
      "metadata": {
        "colab": {
          "base_uri": "https://localhost:8080/"
        },
        "id": "JQGWciiLxROO",
        "outputId": "a6b2b434-b4a4-4cee-c1f9-30c7754582ee"
      },
      "execution_count": 10,
      "outputs": [
        {
          "output_type": "stream",
          "name": "stdout",
          "text": [
            "satu. dua. tiga.\n"
          ]
        }
      ]
    },
    {
      "cell_type": "code",
      "source": [
        "print(\"Nama saya\",\"Igdooo\", end=\" \")\n",
        "print(\"Manuel\")"
      ],
      "metadata": {
        "colab": {
          "base_uri": "https://localhost:8080/"
        },
        "id": "LjTjQcJ1xTat",
        "outputId": "b9c58ead-df6b-4096-8c9d-629c80737110"
      },
      "execution_count": 12,
      "outputs": [
        {
          "output_type": "stream",
          "name": "stdout",
          "text": [
            "Nama saya Igdooo Manuel\n"
          ]
        }
      ]
    },
    {
      "cell_type": "code",
      "source": [
        "print(\"satu\",\"dua\",\"tiga\", sep=\", \")"
      ],
      "metadata": {
        "colab": {
          "base_uri": "https://localhost:8080/"
        },
        "id": "g3qcINEzxcSH",
        "outputId": "446a8419-3469-47e4-f4d6-7849809320b3"
      },
      "execution_count": 13,
      "outputs": [
        {
          "output_type": "stream",
          "name": "stdout",
          "text": [
            "satu, dua, tiga\n"
          ]
        }
      ]
    },
    {
      "cell_type": "markdown",
      "source": [
        "## Latihan: The Print Function\n",
        "\n",
        "Buatlah Program untuk menghasilkan output:\n",
        "`Programming***Essentials***in...Python`"
      ],
      "metadata": {
        "id": "SLcF5f5Mx1x5"
      }
    },
    {
      "cell_type": "code",
      "source": [
        "#Clue\n",
        "print(\"Programming\",\"Essentials\",\"in\")\n",
        "print(\"Python\")"
      ],
      "metadata": {
        "colab": {
          "base_uri": "https://localhost:8080/"
        },
        "id": "yXH7PZDRxt4H",
        "outputId": "b61abb51-140f-4a73-c39b-b7011399f2f7"
      },
      "execution_count": 14,
      "outputs": [
        {
          "output_type": "stream",
          "name": "stdout",
          "text": [
            "Programming Essentials in\n",
            "Python\n"
          ]
        }
      ]
    },
    {
      "cell_type": "code",
      "source": [
        "#Programming***Essentials***in...PythonPython\n",
        "\n",
        "print(\"Programming\",\"Essentials\",\"in\", sep=\"***\", end=\"...\")\n",
        "print(\"Python\"*2)"
      ],
      "metadata": {
        "colab": {
          "base_uri": "https://localhost:8080/"
        },
        "id": "ieFbSh8pyAGb",
        "outputId": "de540530-e561-4707-822e-d34ded0a3168"
      },
      "execution_count": 15,
      "outputs": [
        {
          "output_type": "stream",
          "name": "stdout",
          "text": [
            "Programming***Essentials***in...PythonPython\n"
          ]
        }
      ]
    },
    {
      "cell_type": "markdown",
      "source": [
        "## Latihan: Formatting the output\n",
        "Membuat duplikasi pola gambar bintang"
      ],
      "metadata": {
        "id": "YgLDNIhryDS7"
      }
    },
    {
      "cell_type": "code",
      "source": [
        "#clue\n",
        "\n",
        "print(\"    *    \"*2)\n",
        "print(\"   * *   \"*2)\n",
        "print(\"  *   *  \"*2)\n",
        "print(\" *     * \"*2)\n",
        "print(\"***   ***\"*2)\n",
        "print(\"  *   *  \"*2)\n",
        "print(\"  *   *  \"*2)\n",
        "print(\"  *****  \"*2)"
      ],
      "metadata": {
        "colab": {
          "base_uri": "https://localhost:8080/"
        },
        "id": "1VlNzZSAyETc",
        "outputId": "58b5de8e-cba0-4992-e675-32de4f01ae35"
      },
      "execution_count": 16,
      "outputs": [
        {
          "output_type": "stream",
          "name": "stdout",
          "text": [
            "    *        *    \n",
            "   * *      * *   \n",
            "  *   *    *   *  \n",
            " *     *  *     * \n",
            "***   ******   ***\n",
            "  *   *    *   *  \n",
            "  *   *    *   *  \n",
            "  *****    *****  \n"
          ]
        }
      ]
    },
    {
      "cell_type": "code",
      "source": [
        "print(\"    *\\n   * *\\n  *   *\\n *     *\\n***   ***\\n  *   *\\n  *   *\\n  *****\\n\"*2)"
      ],
      "metadata": {
        "colab": {
          "base_uri": "https://localhost:8080/"
        },
        "id": "evwsW-XcyGaG",
        "outputId": "db2d79dc-7618-4fae-e9d0-37884b15c68c"
      },
      "execution_count": 17,
      "outputs": [
        {
          "output_type": "stream",
          "name": "stdout",
          "text": [
            "    *\n",
            "   * *\n",
            "  *   *\n",
            " *     *\n",
            "***   ***\n",
            "  *   *\n",
            "  *   *\n",
            "  *****\n",
            "    *\n",
            "   * *\n",
            "  *   *\n",
            " *     *\n",
            "***   ***\n",
            "  *   *\n",
            "  *   *\n",
            "  *****\n",
            "\n"
          ]
        }
      ]
    },
    {
      "cell_type": "markdown",
      "source": [
        "# Literal\n",
        "literal merupakan notasi untuk mensimbolkan nilai, dapat berupa string, boolean maupun angka (integer dan float)"
      ],
      "metadata": {
        "id": "x9leGJ7HyLWp"
      }
    },
    {
      "cell_type": "code",
      "source": [
        "print(\"2\"*2)\n",
        "print(2*2)\n",
        "\n",
        "print(type(\"2\"))\n",
        "print(type(2))"
      ],
      "metadata": {
        "colab": {
          "base_uri": "https://localhost:8080/"
        },
        "id": "yzJz-7qdyJM2",
        "outputId": "49912266-59b6-4715-ba81-00901da13af4"
      },
      "execution_count": 18,
      "outputs": [
        {
          "output_type": "stream",
          "name": "stdout",
          "text": [
            "22\n",
            "4\n",
            "<class 'str'>\n",
            "<class 'int'>\n"
          ]
        }
      ]
    },
    {
      "cell_type": "markdown",
      "source": [
        "## Integers vs Floats"
      ],
      "metadata": {
        "id": "TMKHTQuNyPwp"
      }
    },
    {
      "cell_type": "code",
      "source": [
        "print(5, \"mempunyai tipe\", type(5))\n",
        "print(.5, \"mempunyai tipe\", type(.5))"
      ],
      "metadata": {
        "colab": {
          "base_uri": "https://localhost:8080/"
        },
        "id": "d4yYjFlOyNvs",
        "outputId": "5c796d19-1286-4eb6-ff70-2cae60874bbf"
      },
      "execution_count": 19,
      "outputs": [
        {
          "output_type": "stream",
          "name": "stdout",
          "text": [
            "5 mempunyai tipe <class 'int'>\n",
            "0.5 mempunyai tipe <class 'float'>\n"
          ]
        }
      ]
    },
    {
      "cell_type": "markdown",
      "source": [
        "\n",
        "# Penulisan Float dan Integer\n",
        "Python versi 3 membolehkan pemisahan digit integer dengan underscore \"_\"\n",
        "agar mudah dibaca\n",
        "```python\n",
        "print (10_000_000)```\n",
        "\n",
        "Float dipisahkan dengan .(titik) bukan ,(koma)\n",
        "cara penulisan float bisa 3 cara\n",
        "\n",
        "- 4.0\n",
        "- .4 (terbaca nol koma 4)\n",
        "- 4. (terbaca 4 koma nol)\n",
        "\n",
        "> 3e08 berarti $ 3 x 10 ^ 8 $  \n",
        "3e-08 berarti $ 3 x 10 ^ {-8} $\n"
      ],
      "metadata": {
        "id": "vAnPD7B8yV10"
      }
    },
    {
      "cell_type": "markdown",
      "source": [
        "## String"
      ],
      "metadata": {
        "id": "CTjwW_Llyj1j"
      }
    },
    {
      "cell_type": "markdown",
      "source": [
        "Buatlah program untuk menghasilkan output `I'm Monty Python`"
      ],
      "metadata": {
        "id": "4kTxEgCXynEa"
      }
    },
    {
      "cell_type": "code",
      "source": [
        "print(\"I'm Monty Python\")"
      ],
      "metadata": {
        "colab": {
          "base_uri": "https://localhost:8080/"
        },
        "id": "99sZG3TDyW0K",
        "outputId": "b7ee2e8d-d2e3-44dd-dc35-72516eb36a6b"
      },
      "execution_count": 20,
      "outputs": [
        {
          "output_type": "stream",
          "name": "stdout",
          "text": [
            "I'm Monty Python\n"
          ]
        }
      ]
    },
    {
      "cell_type": "markdown",
      "source": [
        "## Booelan\n",
        "Logika benar salah, 1 bernilai benar (True) dan 0 bernilai salah (False)"
      ],
      "metadata": {
        "id": "3Sy2JHDdy7U0"
      }
    },
    {
      "cell_type": "code",
      "source": [
        "print(True)\n",
        "print(False)\n",
        "\n",
        "print(4>2)\n",
        "print(3>4)"
      ],
      "metadata": {
        "colab": {
          "base_uri": "https://localhost:8080/"
        },
        "id": "o3_bYnScy9XV",
        "outputId": "8018dedd-b609-4da2-8bb4-d7a52a6c7434"
      },
      "execution_count": 21,
      "outputs": [
        {
          "output_type": "stream",
          "name": "stdout",
          "text": [
            "True\n",
            "False\n",
            "True\n",
            "False\n"
          ]
        }
      ]
    },
    {
      "cell_type": "markdown",
      "source": [
        "## Latihan: Python literals - strings\n",
        "Buat output seperti ini dalam satu line <br/>\n",
        "`\"I'm\"`<br/>\n",
        "`\"\"learning\"\"`<br/>\n",
        "`\"\"\"Python\"\"\"`"
      ],
      "metadata": {
        "id": "_vUxgcGWy-0N"
      }
    },
    {
      "cell_type": "code",
      "source": [
        "print('\"I\\'m\"\\n\"\"learning\"\"\\n\"\"\"Python\"\"\"')\n",
        "\n",
        "print(\"\"\"\n",
        "\"I'm\"\n",
        "\"\"learning\"\"\n",
        "\\\"\"\"Python\"\"\\\"\n",
        "\"\"\")"
      ],
      "metadata": {
        "colab": {
          "base_uri": "https://localhost:8080/"
        },
        "id": "3ufgWSGCzBH0",
        "outputId": "bcf0e35a-4e77-47bf-cb0f-5d87a09a76c3"
      },
      "execution_count": 22,
      "outputs": [
        {
          "output_type": "stream",
          "name": "stdout",
          "text": [
            "\"I'm\"\n",
            "\"\"learning\"\"\n",
            "\"\"\"Python\"\"\"\n",
            "\n",
            "\"I'm\"\n",
            "\"\"learning\"\"\n",
            "\"\"\"Python\"\"\"\n",
            "\n"
          ]
        }
      ]
    },
    {
      "cell_type": "markdown",
      "source": [
        "# Operator"
      ],
      "metadata": {
        "id": "sXfw-pvGzHEN"
      }
    },
    {
      "cell_type": "markdown",
      "source": [
        "### Operator Aritmetika\n",
        "\n",
        "| Operator | Arti                                                                                          | Contoh                  |\n",
        "|----------|--------------------------------------------------------------------------------------------------|--------------------------|\n",
        "| +        | Penambahan                                                                   | x + y                 |\n",
        "| -        | Pengurangan                                              | x - y                  |\n",
        "| *        | Perkalian                                                                            | x * y                    |\n",
        "| /        | Pembagian                                 | x / y                    |\n",
        "| %        | Modulo - Sisa Pembagian                                 | x % y (sisa pembagian of x/y) |\n",
        "| //       | Pembagian dan dibulatkan ke bawah | x // y                   |\n",
        "| **       | Eksponen - Pangkat                                             | x**y (x pangkat y)  |"
      ],
      "metadata": {
        "id": "CS9Vsy1xzIFc"
      }
    },
    {
      "cell_type": "code",
      "source": [
        "print(2 ** 3)\n",
        "print(2 ** 3.)\n",
        "print(2. ** 3.)\n",
        "print(2. ** 3)"
      ],
      "metadata": {
        "colab": {
          "base_uri": "https://localhost:8080/"
        },
        "id": "jGj-C9PUzJ4Q",
        "outputId": "92340cfc-c6dc-437b-c6ac-9c34d99f9813"
      },
      "execution_count": 23,
      "outputs": [
        {
          "output_type": "stream",
          "name": "stdout",
          "text": [
            "8\n",
            "8.0\n",
            "8.0\n",
            "8.0\n"
          ]
        }
      ]
    },
    {
      "cell_type": "code",
      "source": [
        "print(10 / 3)\n",
        "print(10 // 3)\n",
        "\n",
        "print(6 / 3.)\n",
        "print(6 // 3.)\n",
        "\n",
        "print(-4 + 4)\n",
        "print(-4. + 8)"
      ],
      "metadata": {
        "colab": {
          "base_uri": "https://localhost:8080/"
        },
        "id": "-OtWip0izNOr",
        "outputId": "1c12f14c-b56a-4f5d-9f8e-d44628255413"
      },
      "execution_count": 24,
      "outputs": [
        {
          "output_type": "stream",
          "name": "stdout",
          "text": [
            "3.3333333333333335\n",
            "3\n",
            "2.0\n",
            "2.0\n",
            "0\n",
            "4.0\n"
          ]
        }
      ]
    },
    {
      "cell_type": "markdown",
      "source": [
        "### Urutan Operator"
      ],
      "metadata": {
        "id": "cOWoufnezQqo"
      }
    },
    {
      "cell_type": "markdown",
      "source": [
        "| Prioritas| Operator |        |\n",
        "|----------|----------|--------|\n",
        "| 1        | +, -     | unary  |\n",
        "| 2        | **       |        |\n",
        "| 3        | *,/,//,% |        |\n",
        "| 4        | +, -     | binary |"
      ],
      "metadata": {
        "id": "bHe-Psv5zTVE"
      }
    },
    {
      "cell_type": "code",
      "source": [
        "2 + 3 *5"
      ],
      "metadata": {
        "colab": {
          "base_uri": "https://localhost:8080/"
        },
        "id": "vOo28UQozU8I",
        "outputId": "a1addae3-8a44-4974-f1cc-f2043a2ae8e4"
      },
      "execution_count": 25,
      "outputs": [
        {
          "output_type": "execute_result",
          "data": {
            "text/plain": [
              "17"
            ]
          },
          "metadata": {},
          "execution_count": 25
        }
      ]
    },
    {
      "cell_type": "code",
      "source": [
        "print(9 % 6 % 2)\n",
        "print(9 % 6)\n",
        "print(3 % 2)\n",
        "\n",
        "print(2 ** 2 ** 3)\n",
        "print(2 ** 2)\n",
        "print(2 ** 8)"
      ],
      "metadata": {
        "colab": {
          "base_uri": "https://localhost:8080/"
        },
        "id": "bCeduPNEzXLk",
        "outputId": "2ac72863-b674-47f4-83be-3072cab4b75f"
      },
      "execution_count": 26,
      "outputs": [
        {
          "output_type": "stream",
          "name": "stdout",
          "text": [
            "1\n",
            "3\n",
            "1\n",
            "256\n",
            "4\n",
            "256\n"
          ]
        }
      ]
    },
    {
      "cell_type": "code",
      "source": [
        "print((5 * ((25 % 13)+100) / (2 * 13)) // 2)"
      ],
      "metadata": {
        "colab": {
          "base_uri": "https://localhost:8080/"
        },
        "id": "bm6vgaZxzYv4",
        "outputId": "ca80fe41-99e7-4637-bdd8-359ebb330ba5"
      },
      "execution_count": 27,
      "outputs": [
        {
          "output_type": "stream",
          "name": "stdout",
          "text": [
            "10.0\n"
          ]
        }
      ]
    },
    {
      "cell_type": "markdown",
      "source": [
        "# Variabel\n",
        "- Apa itu variabel?\n",
        "- Bagaimana Aturan Penamaannya?"
      ],
      "metadata": {
        "id": "P8o3zpZhzbEW"
      }
    },
    {
      "cell_type": "code",
      "source": [
        "var = 1\n",
        "print(var)"
      ],
      "metadata": {
        "colab": {
          "base_uri": "https://localhost:8080/"
        },
        "id": "t5zwRuxRzb2q",
        "outputId": "853bef10-336a-45c8-ea50-adabaad3c14d"
      },
      "execution_count": 28,
      "outputs": [
        {
          "output_type": "stream",
          "name": "stdout",
          "text": [
            "1\n"
          ]
        }
      ]
    },
    {
      "cell_type": "markdown",
      "source": [
        "Tulis rumus ini dalam kode program:<br/> $c=\\sqrt{a^2+b^2}$"
      ],
      "metadata": {
        "id": "-PoWCCttze5X"
      }
    },
    {
      "cell_type": "code",
      "source": [
        "a=2.\n",
        "b=3.\n",
        "c=(a**2 + b**2) ** 0.5\n",
        "print(\"c = \", c)"
      ],
      "metadata": {
        "colab": {
          "base_uri": "https://localhost:8080/"
        },
        "id": "iQmwxBjTzdeU",
        "outputId": "d03ca648-2244-482e-f9da-91fcc94d9d8d"
      },
      "execution_count": 29,
      "outputs": [
        {
          "output_type": "stream",
          "name": "stdout",
          "text": [
            "c =  3.605551275463989\n"
          ]
        }
      ]
    },
    {
      "cell_type": "markdown",
      "source": [
        "## Latihan: Variables\n",
        "\n",
        "<b>Cerita Pendek:</b>\n",
        "\n",
        "Suatu waktu di kebun apel, Darjo memiliki 3 apel, Darno memiliki 5 apel dan Waginem memiliki 6 Apel. mereka sangat bahagia dan hidup lama. selesai.\n",
        "\n",
        "Tugas Anda\n",
        "- buat variabe : `Darjo`, `Darno` dan `Waginem`\n",
        "- isi nilai sesuai dengan jumlah apel yang mereka miliki\n",
        "- cetak nama variabel dan jumlah apel setiap variabel dalam 1 baris, pisahkan dengan koma\n",
        "- buat variabel baru dengan nama `totalApel` yang berisi penjumlahan seluruh apel yang mereka miliki\n",
        "- coba otak atik code dengan membuat variable baru, diisi dengan nilai lain, dan dihitung dengan operator aritmetik lainnya"
      ],
      "metadata": {
        "id": "vGgfys1ozidB"
      }
    },
    {
      "cell_type": "code",
      "source": [
        "Darjo = 2\n",
        "Darno = 5\n",
        "Waginem = 6"
      ],
      "metadata": {
        "id": "75_1WFy0zkPq"
      },
      "execution_count": 30,
      "outputs": []
    },
    {
      "cell_type": "markdown",
      "source": [
        "## Latihan: Variables: a simple converter\n",
        "\n",
        "Mil dan kilometer adalah satuan panjang\n",
        "\n",
        "1 mil memiliki panjang sekitar 1.61 kilometer, buatlah program konversi di bawah ini\n",
        "- mil ke kilometer;\n",
        "- kilometer to mil.\n",
        "jangan ganti apapun terhadap kode yang sudah ada. tulis kodemu pada tanda ###, kemudian hapus tanda tersebut. Uji kode Anda dengan data yang kami sajikan dalam source code"
      ],
      "metadata": {
        "id": "ib0-Aikozo4o"
      }
    },
    {
      "cell_type": "markdown",
      "source": [
        "Kode:\n",
        "```python\n",
        "kilometer = 12.25\n",
        "mil = 7.38\n",
        "\n",
        "mil_ke_kilometer = ###\n",
        "kilometer_ke_mil = ###\n",
        "\n",
        "print(mil, \"1 mil adalah\", round(miles_to_kilometers, 2), \"kilometer\")\n",
        "print(kilometer, \"1 kilometer adalah\", round(kilometers_to_miles, 2), \"mil\")\n",
        "```"
      ],
      "metadata": {
        "id": "sHzlzdDqzrq-"
      }
    },
    {
      "cell_type": "code",
      "source": [
        "kilometer = 12.25\n",
        "mil = 7.38\n",
        "\n",
        "miles_to_kilometers = mil * 1.61\n",
        "kilometers_to_miles = kilometer / 1.61\n",
        "\n",
        "print(mil, \"1 mil adalah\", round(miles_to_kilometers, 2), \"kilometer\")\n",
        "print(kilometer, \"1 kilometer adalah\", round(kilometers_to_miles, 2), \"mil\")"
      ],
      "metadata": {
        "colab": {
          "base_uri": "https://localhost:8080/"
        },
        "id": "ahmwdSeXzto2",
        "outputId": "9526cd3c-c057-4f5a-cd85-27e62a7a9b8f"
      },
      "execution_count": 31,
      "outputs": [
        {
          "output_type": "stream",
          "name": "stdout",
          "text": [
            "7.38 1 mil adalah 11.88 kilometer\n",
            "12.25 1 kilometer adalah 7.61 mil\n"
          ]
        }
      ]
    },
    {
      "cell_type": "markdown",
      "source": [
        "## Latihan: Operators and expressions\n",
        "\n",
        "Skenario\n",
        "lihatlah kode dalam editor, nilai tersebut termasuk tipe float, letakkan nilai tersebut dalam variabel x, dan print variabel tersebut dalam variabel y. Tugasmu adalah melengkapi kode di bawah ini untk menyelesaikan persamaan di bawah\n",
        "\n",
        "$3x^3 - 2x^2 + 3x - 1$\n",
        "\n",
        "Hasil harus disimpan dalam variabel y.\n",
        "ingat bahwa aljabar klasik sering menghilangkan operator perkalian, kamu harus menggunakannya secara eksplisit. Ingat bagaimana cara mengubah tipe data untuk memastikan bahwa x bertipe float.\n",
        "\n",
        "usahakan kodemu mudah dibaca, uji kode dengan data yang telah kami berikan.\n",
        "\n",
        "```python\n",
        "x =  # hardcode your test data here\n",
        "x = float(x)\n",
        "# tulis kodemu disini\n",
        "print(\"y =\", y)\n",
        "```\n",
        "\n",
        "Test Data:\n",
        "```python\n",
        "#input\n",
        "x = 0\n",
        "x = 1\n",
        "x = -1\n",
        "\n",
        "#output\n",
        "y = -1.0\n",
        "y = 3.0\n",
        "y = -9.0\n",
        "```"
      ],
      "metadata": {
        "id": "3W8fb6LWzwiB"
      }
    },
    {
      "cell_type": "code",
      "source": [
        "var = 2\n",
        "var = 3\n",
        "print(var)"
      ],
      "metadata": {
        "colab": {
          "base_uri": "https://localhost:8080/"
        },
        "id": "av2TqHSwzxid",
        "outputId": "1b152757-b424-4a9d-fea0-4bc191b7d108"
      },
      "execution_count": 32,
      "outputs": [
        {
          "output_type": "stream",
          "name": "stdout",
          "text": [
            "3\n"
          ]
        }
      ]
    },
    {
      "cell_type": "markdown",
      "source": [
        "### Exercise\n",
        "\n",
        "Apa outputnya?\n",
        "```python\n",
        "var = 2\n",
        "var = 3\n",
        "print(var)\n",
        "```\n",
        "\n",
        "Nama variabel mana yang ilegal?\n",
        "```python\n",
        "my_var\n",
        "m\n",
        "101\n",
        "averylongvariablename\n",
        "m101\n",
        "m 101\n",
        "Del\n",
        "del\n",
        "```\n",
        "\n",
        "Apa Outputnya?\n",
        "```python\n",
        "a = '1'\n",
        "b = \"1\"\n",
        "print(a + b)\n",
        "```\n",
        "\n",
        "Apa outputnya?\n",
        "\n",
        "```python\n",
        "a = 6\n",
        "b = 3\n",
        "a /= 2 * b\n",
        "print(a)\n",
        "```"
      ],
      "metadata": {
        "id": "l8rOBMmwz0Yy"
      }
    },
    {
      "cell_type": "markdown",
      "source": [
        "# Comments\n",
        "Latihan: mana yang seharusnya menjadi komentar, mana yang tidak"
      ],
      "metadata": {
        "id": "ZePuW2FIz2yI"
      }
    },
    {
      "cell_type": "code",
      "source": [
        "#test\n",
        "print(\"Hai... AKU IGDO\")\n",
        "#test1\n",
        "#test2"
      ],
      "metadata": {
        "colab": {
          "base_uri": "https://localhost:8080/"
        },
        "id": "JImKyC0Uz1xI",
        "outputId": "cd8d23b8-17a0-4c73-d5d8-ee84a1fee9af"
      },
      "execution_count": 33,
      "outputs": [
        {
          "output_type": "stream",
          "name": "stdout",
          "text": [
            "Hai... AKU IGDO\n"
          ]
        }
      ]
    },
    {
      "cell_type": "markdown",
      "source": [
        "# How to talk to a computer\n",
        "katakunci `input()`<br/>\n",
        "hasil dari fungsi `input()` adalah <b>string</b>.<br/>\n",
        "Tidak bisa langsung dikenakan ke operasi aritmetika"
      ],
      "metadata": {
        "id": "hY2hbym8z74s"
      }
    },
    {
      "cell_type": "code",
      "source": [
        "print(\"Katakan sesuatu...\")\n",
        "sesuatu = input()\n",
        "print(\"mmmmm\", sesuatu, \" Oke\")"
      ],
      "metadata": {
        "colab": {
          "base_uri": "https://localhost:8080/"
        },
        "id": "hwN1Stoxz9rq",
        "outputId": "a0ae06d5-61c2-4227-8c24-b2f636d22ca3"
      },
      "execution_count": 34,
      "outputs": [
        {
          "output_type": "stream",
          "name": "stdout",
          "text": [
            "Katakan sesuatu...\n",
            "AKU MAU MAKAN\n",
            "mmmmm AKU MAU MAKAN  Oke\n"
          ]
        }
      ]
    },
    {
      "cell_type": "markdown",
      "source": [
        "### type casting"
      ],
      "metadata": {
        "id": "eO0xQEsH0FTY"
      }
    },
    {
      "cell_type": "code",
      "source": [
        "angka = float(input(\"Masukan Angka : \"))\n",
        "print(\"Pangkat duanya adalah \", angka**2)"
      ],
      "metadata": {
        "colab": {
          "base_uri": "https://localhost:8080/"
        },
        "id": "S8uZ39SH0C_D",
        "outputId": "0b0d0a26-68fe-4276-a10e-6215fa1bf546"
      },
      "execution_count": 35,
      "outputs": [
        {
          "output_type": "stream",
          "name": "stdout",
          "text": [
            "Masukan Angka : 4\n",
            "Pangkat duanya adalah  16.0\n"
          ]
        }
      ]
    },
    {
      "cell_type": "markdown",
      "source": [
        "#### Replication\n",
        "coba membuat cetak bangun datar persegi dengan replication\n",
        "\n",
        "![image.png](attachment:image.png)"
      ],
      "metadata": {
        "id": "vYePuLfr0N7B"
      }
    },
    {
      "cell_type": "code",
      "source": [
        "print(\"+\" + 10*\"-\" + \"+\")\n",
        "print((\"|\" + 10*\" \" + \"|\\n\") * 5, end=\"\")\n",
        "print(\"+\" + 10*\"-\" + \"+\")"
      ],
      "metadata": {
        "colab": {
          "base_uri": "https://localhost:8080/"
        },
        "id": "1RrYC7vs0Qj9",
        "outputId": "a923f74a-df9b-4f9b-9c24-1895716d78a0"
      },
      "execution_count": 36,
      "outputs": [
        {
          "output_type": "stream",
          "name": "stdout",
          "text": [
            "+----------+\n",
            "|          |\n",
            "|          |\n",
            "|          |\n",
            "|          |\n",
            "|          |\n",
            "+----------+\n"
          ]
        }
      ]
    },
    {
      "cell_type": "markdown",
      "source": [
        "## Latihan : Simple input and output\n",
        "Coba utak atik perintah kode dibawah ini\n",
        "``` python\n",
        "# Masukkan nilai a dalam float\n",
        "# Masukkan nilai b dalam float\n",
        "\n",
        "# hitung hasil penambahan disini\n",
        "# hitung hasil pengurangan disini\n",
        "# hitung hasil perkalian disini\n",
        "# hitung hasil pembagian disini\n",
        "\n",
        "\n",
        "print(\"\\nYeahhhh\")\n",
        "```"
      ],
      "metadata": {
        "id": "q-htvLA40TsG"
      }
    },
    {
      "cell_type": "markdown",
      "source": [
        "## Latihan: Operators and expressions\n",
        "Kerjakan rumus berikut:\n",
        "<img src=\"images/modul2_pembagian.PNG\" width=200px />\n",
        "\n",
        "input/output yang diharapkan\n",
        "```python\n",
        "x = 1\n",
        "y = 0.6000000000000001\n",
        "\n",
        "x = 10\n",
        "y = 0.09901951266867294\n",
        "```"
      ],
      "metadata": {
        "id": "7sTYlcyX0Vum"
      }
    },
    {
      "cell_type": "code",
      "source": [
        "print(\"\\\"I'm\\\"\\n \\\"\\\"learning\\\"\\\"\\n \\\"\\\"\\\"Python\\\"\\\"\\\"\\n\")"
      ],
      "metadata": {
        "colab": {
          "base_uri": "https://localhost:8080/"
        },
        "id": "-JGpGO4p0XQ5",
        "outputId": "fb59911c-ac80-4452-b9d1-80665568ce1c"
      },
      "execution_count": 37,
      "outputs": [
        {
          "output_type": "stream",
          "name": "stdout",
          "text": [
            "\"I'm\"\n",
            " \"\"learning\"\"\n",
            " \"\"\"Python\"\"\"\n",
            "\n"
          ]
        }
      ]
    }
  ]
}