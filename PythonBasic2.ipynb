{
  "cells": [
    {
      "cell_type": "markdown",
      "metadata": {
        "id": "view-in-github",
        "colab_type": "text"
      },
      "source": [
        "<a href=\"https://colab.research.google.com/github/clepigdo/Latihan_STKI2025/blob/main/PythonBasic2.ipynb\" target=\"_parent\"><img src=\"https://colab.research.google.com/assets/colab-badge.svg\" alt=\"Open In Colab\"/></a>"
      ]
    },
    {
      "cell_type": "markdown",
      "metadata": {
        "id": "olKWFKpa3wAP"
      },
      "source": [
        "# Python Dasar 2\n",
        "Nilai Boolean, eksekusi kondisional, perulangan, list dan pemrosesan list, operasi logika dan bitwise\n",
        "\n",
        "Referensi Tambahan:\n",
        "\n",
        "https://docs.python.org/3.8/\n",
        "\n",
        "https://docs.python.org/id/3.8/tutorial/\n",
        "\n",
        "\n",
        "## Materi\n",
        "\n",
        "- Operator relasional;\n",
        "- Operator aritmatika;\n",
        "- Struktur pemilihan if-elif-else;\n",
        "- Struktur perulangan while dan for;\n",
        "- Statement loncat;\n",
        "- Operasi logika dan bitwise;\n",
        "- Lists dan Array."
      ]
    },
    {
      "cell_type": "markdown",
      "metadata": {
        "id": "grz7EAKb3wAS"
      },
      "source": [
        "#### Mutable dan Immutable\n",
        "Mutable : List, Dictionary\n",
        "\n",
        "Immutable : String, Bilangan dan Tuple"
      ]
    },
    {
      "cell_type": "code",
      "execution_count": 62,
      "metadata": {
        "colab": {
          "base_uri": "https://localhost:8080/"
        },
        "id": "C0Yq8dvH3wAS",
        "outputId": "d2f535fa-7d1f-4cf6-eec1-4d76c671a332"
      },
      "outputs": [
        {
          "output_type": "stream",
          "name": "stdout",
          "text": [
            "20\n",
            "11642696\n"
          ]
        }
      ],
      "source": [
        "a=20\n",
        "print(a)\n",
        "print(id(a))"
      ]
    },
    {
      "cell_type": "code",
      "execution_count": 63,
      "metadata": {
        "colab": {
          "base_uri": "https://localhost:8080/"
        },
        "id": "EsVtqBCv3wAT",
        "outputId": "ea305664-0677-4888-fa8f-6509cf6285cc"
      },
      "outputs": [
        {
          "output_type": "stream",
          "name": "stdout",
          "text": [
            "30\n",
            "11643016\n"
          ]
        }
      ],
      "source": [
        "a=30\n",
        "print(a)\n",
        "print(id(a))"
      ]
    },
    {
      "cell_type": "code",
      "execution_count": 64,
      "metadata": {
        "colab": {
          "base_uri": "https://localhost:8080/"
        },
        "id": "8oIWj3Yl3wAU",
        "outputId": "52b66a4d-bfe5-43c8-c482-073b9bd690c8"
      },
      "outputs": [
        {
          "output_type": "stream",
          "name": "stdout",
          "text": [
            "[1, 2, 3, 4]\n",
            "<class 'list'>\n",
            "132921903916352\n"
          ]
        }
      ],
      "source": [
        "a=[1,2,3,4]\n",
        "print(a)\n",
        "print(type(a))\n",
        "print(id(a))"
      ]
    },
    {
      "cell_type": "code",
      "execution_count": 65,
      "metadata": {
        "colab": {
          "base_uri": "https://localhost:8080/"
        },
        "id": "0Ljub6x33wAU",
        "outputId": "86a92019-7887-440f-81fc-c37557a8cb46"
      },
      "outputs": [
        {
          "output_type": "stream",
          "name": "stdout",
          "text": [
            "[0, 2, 3, 4]\n",
            "132921903916352\n"
          ]
        }
      ],
      "source": [
        "a[0]=0\n",
        "print(a)\n",
        "print(id(a))"
      ]
    },
    {
      "cell_type": "markdown",
      "metadata": {
        "id": "ugKBWS-u3wAU"
      },
      "source": [
        "## Operator Relasional\n",
        "Operator relasional adalah operator yang digunakan untuk membandingkan dua buah nilai. Hasil yang akan diperoleh dari operasi perbandingan ini adalah logika (bertipe bool), yaitu True (benar) atau False (salah).\n",
        "\n",
        "![operator%20relasional.png](attachment:operator%20relasional.png)\n",
        "\n",
        "### Prioritas Operator\n",
        "| Prioritas| Operator |        |\n",
        "|----------|----------|--------|\n",
        "| 1        | +, -     | unary  |\n",
        "| 2        | **       |        |\n",
        "| 3        | *,/,//,% |        |\n",
        "| 4        | +, -     | binary |"
      ]
    },
    {
      "cell_type": "markdown",
      "metadata": {
        "id": "sy_4R1tY3wAV"
      },
      "source": [
        "## Latihan: Questions and answers\n",
        "\n",
        "Gunakan operator relasional untuk mendeteksi nilai integer < 100 atau >= 100\n",
        "\n",
        "#### Test Data\n",
        "\n",
        "Sample input: 55\n",
        "\n",
        "`Expected output: False`\n",
        "\n",
        "Sample input: 99\n",
        "\n",
        "`Expected output: False`\n",
        "\n",
        "Sample input: 100\n",
        "\n",
        "`Expected output: True`\n",
        "\n",
        "Sample input: 101\n",
        "\n",
        "`Expected output: True`\n",
        "\n",
        "Sample input: -5\n",
        "\n",
        "`Expected output: False`\n",
        "\n",
        "Sample input: +123\n",
        "\n",
        "`Expected output: True`"
      ]
    },
    {
      "cell_type": "code",
      "source": [
        "from google.colab import drive\n",
        "drive.mount('/content/drive')"
      ],
      "metadata": {
        "id": "UZtJptruknEc"
      },
      "execution_count": null,
      "outputs": []
    },
    {
      "cell_type": "code",
      "execution_count": null,
      "metadata": {
        "id": "pBovBO9b3wAV"
      },
      "outputs": [],
      "source": [
        "a=int(input(\"Sample input: \"))\n",
        "print(\"Expected output: \", a>=100)"
      ]
    },
    {
      "cell_type": "markdown",
      "metadata": {
        "id": "FtfDZ4pf3wAV"
      },
      "source": [
        "# Operator Aritmatika\n",
        "\n",
        "Operator aritmatika adalah operator yang digunakan untuk melakukan perhitungan terhadap data numerik. Berikut merupakan operator aritmatika yang digunakan dalam python :\n",
        "\n",
        "![operator%20aritmatika.JPG](attachment:operator%20aritmatika.JPG)"
      ]
    },
    {
      "cell_type": "markdown",
      "metadata": {
        "id": "Xr4DtDIB3wAW"
      },
      "source": [
        "</b> Prioritas operator </b>\n",
        "Setiap operator aritmatika memiliki prioritas yang berbeda. Sebagai contoh :\n",
        "\n",
        "</b> 3+5*7 </b>\n",
        "Seperti yang diketahui, operator perkalian (*) memiliki prioritas yang lebih tinggi dibandingkan dengan operator penjumlahan (+) sehingga operasi dapat dituliskan sebagai berikut (3+(5*7)).\n",
        "\n",
        "Untuk lebih jelasnya, tabel berikut memperlihatkan urutan prioritas dari operator aritmatika :\n",
        "![prioritas.JPG](attachment:prioritas.JPG)"
      ]
    },
    {
      "cell_type": "markdown",
      "metadata": {
        "id": "gCfnJzNq3wAW"
      },
      "source": [
        "Berikut merupakan mindmap dari operasi aritmatika :\n",
        "\n",
        "![mindmad%20aritmatika.JPG](attachment:mindmad%20aritmatika.JPG)\n",
        "\n",
        "Perhatikan contoh dibawah :\n",
        "\n",
        "x = 5 + 2 * 3 / (2 - 3) ** 2\n",
        "berapa nilai x?\n"
      ]
    },
    {
      "cell_type": "code",
      "execution_count": null,
      "metadata": {
        "id": "FDDhiIVA3wAW"
      },
      "outputs": [],
      "source": [
        "x = 5 + 2 * 3 / (2 - 3) ** 2\n",
        "print(x)"
      ]
    },
    {
      "cell_type": "markdown",
      "metadata": {
        "id": "zrQ1KWRP3wAW"
      },
      "source": [
        "## Struktur Pemilihan\n",
        "\n",
        "Berbeda dengan bahasa pemrograman lainnya, Python hanya memiliki satu statement untuk melakukan proses pemilihan, yaitu dengan menggunakan if. Untuk mempermudah pembahasan tentang statement if, pembahasan akan dibagi menjadi tiga kelompok :\n",
        "\n",
        " - Statement if untuk satu kasus\n",
        " - Statement if untuk dua kasus\n",
        " - Statement if untuk tiga kasus"
      ]
    },
    {
      "cell_type": "markdown",
      "metadata": {
        "id": "c82B-8od3wAW"
      },
      "source": [
        "### 1. Statement if untuk satu kasus\n",
        "\n",
        "Bentuk umum penggunaan perintah if untuk satu kasus dalam Python adalah :\n",
        "\n",
        "```python\n",
        "if kondisi:\n",
        "    statement1\n",
        "    statement2\n",
        "    ...\n",
        "    \n",
        "```\n",
        "Pada bentuk diatas, statement1, statement2 dan seterusnya hanya akan dieksekusi jika kondisi yang didefinisikan dalam perintah If terpenuhi (bernilai True). Jika kondisi bernilai False, statement tersebut akan diabaikan oleh program.\n",
        "\n",
        "Perhatikan contoh berikut :"
      ]
    },
    {
      "cell_type": "code",
      "execution_count": null,
      "metadata": {
        "id": "Hvt9Y6D33wAW"
      },
      "outputs": [],
      "source": [
        "a = 5\n",
        "b = 6\n",
        "\n",
        "if a==b:\n",
        "    print(\"oke\")\n",
        "    print(\"berhasil\")\n",
        "    print(\"Gagal\")"
      ]
    },
    {
      "cell_type": "markdown",
      "metadata": {
        "id": "FOfyRyVM3wAX"
      },
      "source": [
        "### 2. Statement if untuk dua kasus\n",
        "\n",
        "Untuk pemilihan yang mengandung dua kasus, bentuk umum yang digunakan adalah :\n",
        "\n",
        "```python\n",
        "if kondisi :\n",
        "    statement1\n",
        "    statement2\n",
        "    ...\n",
        "else\n",
        "    statement_alternatif1\n",
        "    statement_alternatif2\n",
        "    ...\n",
        "```\n",
        "\n",
        "Pada bentuk ini, jika kondisi bernilai True makan statement selanjutnya yang akan dieksekusi oleh program adalah statement1, stetement 2 dan seterusnya. Tapi jika kondisi bernilai False, maka program akan mengeksekusi statement yang berada pada bagian else, yaitu statement_alternatif1, statement_alternatif2 dan seterusnya."
      ]
    },
    {
      "cell_type": "code",
      "execution_count": null,
      "metadata": {
        "id": "81astdM13wAX"
      },
      "outputs": [],
      "source": [
        "a = 5\n",
        "b = 6\n",
        "\n",
        "if a==b:\n",
        "    print(\"oke\")\n",
        "    print(\"berhasil\")\n",
        "else:\n",
        "    print(\"Gagal\")"
      ]
    },
    {
      "cell_type": "markdown",
      "metadata": {
        "id": "kj0hrKai3wAX"
      },
      "source": [
        "#### Latihan 1\n",
        "Memasukan bilangan bulat dan mendeteksi bilangan tersebut genap / ganjil."
      ]
    },
    {
      "cell_type": "code",
      "execution_count": null,
      "metadata": {
        "id": "2kFC9h9g3wAY"
      },
      "outputs": [],
      "source": [
        "bil = int(input(\"Masukan bilangan bulat: \"))\n",
        "\n",
        "if(bil%2 == 0):\n",
        "    print(\"genap\")\n",
        "else:\n",
        "    print(\"ganjil\")"
      ]
    },
    {
      "cell_type": "markdown",
      "metadata": {
        "id": "TpwM2iwV3wAY"
      },
      "source": [
        "### 3. Statement if untuk Tiga kasus atau lebih\n",
        "\n",
        "Struktur pemilihan jenis ini merupakan bentuk yang paling kompleks jika dibandingkan dengan kedua jenis yang sudah di bahas diatas. Dalam struktur ini, ada beberapa kondisi yang harus diperiksa oleh program. Bentuk umum penggunaan perintah if untuk tiga kasus atau lebih adalah :\n",
        "\n",
        "```python\n",
        "if kondisi1:\n",
        "    statement1a\n",
        "    statement1b\n",
        "    ...\n",
        "elif kondisi2:\n",
        "    statement2a\n",
        "    statement2b\n",
        "    ...\n",
        "else:\n",
        "    statement_alternatif1\n",
        "    statement_alternatif2\n",
        "    ...\n",
        "```\n",
        "Perhatikan contoh dibawah ini :"
      ]
    },
    {
      "cell_type": "markdown",
      "metadata": {
        "id": "t1Kwy1QH3wAY"
      },
      "source": [
        "#### Latihan 2\n",
        "\n",
        "![kuadran.jpg](attachment:kuadran.jpg)\n",
        "\n",
        "Perhatikan gambar diatas. Penetuan kuadran dari suatu titik dilakukan dengan cara :\n",
        "\n",
        " - Jika x>0 dan y>0 maka titik akan berada pada Kuadran I\n",
        " - Jika x<0 dan y>0 maka titik akan berapa pada Kuadran II\n",
        " - Jika x<0 dan y<0 maka titik akan berada pada Kuadran III\n",
        " - JIka x>0 dan y<0 maka titik akan berada pada Kuadran IV\n",
        " - Jika keepat kondisi ini tidak dapat dipenuhi, maka titik tidak termasuk pada kuadran manapun\n",
        "\n",
        "Tuliskan kondisi tersebut dalam bahasa Python."
      ]
    },
    {
      "cell_type": "code",
      "execution_count": null,
      "metadata": {
        "id": "7d02KKTs3wAY"
      },
      "outputs": [],
      "source": [
        "print(\"Masukan nilai koordinat\")\n",
        "x = int(input(\"Nilai x: \"))\n",
        "y = int(input(\"Nilai y: \"))\n",
        "\n",
        "if x>0 and y>0:\n",
        "    print(\"Koordinat (\"+ str(x) + \",\"+ str(y) +\") berada pada Kuadran I\" )\n",
        "elif x<0 and y>0:\n",
        "    print(\"Koordinat (\"+ str(x) + \",\"+ str(y) +\") berada pada Kuadran II\" )\n",
        "elif x<0 and y<0:\n",
        "    print(\"Koordinat (\"+ str(x) + \",\"+ str(y) +\") berada pada Kuadran III\" )\n",
        "elif x>0 and y<0:\n",
        "    print(\"Koordinat (\"+ str(x) + \",\"+ str(y) +\") berada pada Kuadran IV\" )\n",
        "else:\n",
        "    pass"
      ]
    },
    {
      "cell_type": "markdown",
      "metadata": {
        "id": "8kdOc9Aw3wAY"
      },
      "source": [
        "#### Latihan 3\n",
        "Mencari bilangan terbesar, dari 3 inputan (a, b dan c)"
      ]
    },
    {
      "cell_type": "code",
      "execution_count": null,
      "metadata": {
        "id": "oEn7s6Ec3wAY"
      },
      "outputs": [],
      "source": [
        "num1 = int(input(\"First Number : \"))\n",
        "num2 = int(input(\"Second Number : \"))\n",
        "num3 = int(input(\"Third Number : \"))\n",
        "\n",
        "#set number1 sebagai yang terbesar\n",
        "largestNum = num1\n",
        "\n",
        "#deteksi apakah num2 > num1\n",
        "if num2 > largestNum:\n",
        "    largestNum = num2\n",
        "\n",
        "#deteksi apakah num3 > num2\n",
        "if num3 > largestNum:\n",
        "    largestNum = num3\n",
        "\n",
        "print(\"The largest number is: \", largestNum)"
      ]
    },
    {
      "cell_type": "markdown",
      "metadata": {
        "id": "LGh2hlVz3wAY"
      },
      "source": [
        "## Latihan\n",
        "Spathiphyllum, atau yang sering disebut dengan 'peace lily' atau tanaman 'white sail merupakan tanaman dalam rumah yang sangat populer yang dapat menjadi filter guna menyaring udara dari racun. Beberapa racun yang dapat di filter adalah benzena, fomaldehyde, dan amonia.\n",
        "\n",
        "Bayangkan bahwa program komputer anda sangat menyukai tanaman. Ketika komputer menerima masukan (input) pada form \"Spathiphyllum\", maka komputer akan merespon dengan \"Spathiphyllum is the best plant ever!\".\n",
        "\n",
        "Tulislah sebuah program dengan Python untuk beberapa kondisi berikut, input adalah sebuah string :\n",
        "\n",
        "- respon komputer :  `\"Yes - Spathiphyllum is the best plant ever!\"` ketika input berupa `\"Spathiphyllum\"` (upper-case)\n",
        "- respon komputer :  `\"No, I want a big Spathiphyllum!\"` ketika input berupa `\"spathiphyllum\"` (lower-case)\n",
        "- respon komputer :  `\"Spathiphyllum! Not [input]!\"` ketika input berupa \"input\"."
      ]
    },
    {
      "cell_type": "code",
      "execution_count": null,
      "metadata": {
        "id": "JwlhiV7Q3wAZ"
      },
      "outputs": [],
      "source": [
        "plant = input(\"Silakan masukkan nama tanaman terbaik = \")\n",
        "\n",
        "if plant == \"Spathiphyllum\":\n",
        "    print(\"Yes - Spathiphyllum is the best plant ever!\")\n",
        "elif plant == \"spathiphyllum\":\n",
        "    print(\"No, I want a big Spathiphyllum!\")\n",
        "else:\n",
        "    print(\"Spathiphyllum! Not \"+ plant +\"!\")"
      ]
    },
    {
      "cell_type": "markdown",
      "metadata": {
        "id": "7BKknl403wAZ"
      },
      "source": [
        "## Latihan\n",
        "\n",
        "\n",
        "Pada suatu masa terdapat sebuah daratan - daratan dengan susu dan madu, yang dihuni oleh masyarakat yang bahagia dan sejahtera. Masyarakat tersebut membayar pajak, sehingga kebahagiaan mereka memiliki batas. Pajak yang paling penting adalah Personal Income Tax atau disebut PIT yang mana harus dibayarkan tiap tahun, dan dievaluasi dengan peraturan sebagai berikut :  \n",
        "\n",
        "- Jika penghasilan tidak lebih besar daripada 85,528 thaler, maka pajak adalah sebesar 18% dari pemasukan dikurangi 556 thaler dan 2 sen (disebut juga tax relief)\n",
        "- Jika penghasilan lebih dari nilai tersebut, maka pajak adalah sebesar 14,839 thaler and 2 cents, ditambah 32% dari selisih penghasilan dengan 85,528 thalers.\n",
        "\n",
        "Tugas anda adalah membuat <b>tax calculator</b>.\n",
        "\n",
        "- Harus menerima satu masukan : penghasilan\n",
        "- Berikutnya, print pajak yang telah dihitung, nilai dibulatkan penuh ke thaler (tanpa sen). Fungsi round() akan membantu anda untuk membulatkan nilai.\n",
        "\n",
        "Catatan : Negara yang bahagia ini tidak pernah mengembalikan uang tersebut ke warganya. Jika perhitungan pajak kurang dari nol, itu berarti warga tidak dikenakan pajak sama sekali (pajak = 0).\n",
        "    \n",
        "Perhatikan syntax dibawah ini, hanya membaca satu input dan output sebagai hasilnya. Lengkapi syntax tersebut dengan sebuah perhitungan yang cerdas.\n",
        "\n",
        "```python\n",
        "income = float(input(\"Enter the annual income: \"))\n",
        "\n",
        "#\n",
        "# Put your code here.\n",
        "#\n",
        "\n",
        "tax = round(tax, 0)\n",
        "print(\"The tax is:\", tax, \"thalers\")\n",
        "```\n",
        "\n",
        "Test your code using the data we've provided.\n",
        "\n",
        "```python\n",
        "Sample input: 10000\n",
        "\n",
        "Expected output: The tax is: 1244.0 thalers\n",
        "        \n",
        "Sample input: 100000\n",
        "\n",
        "Expected output: The tax is: 19470.0 thalers\n",
        "        \n",
        "Sample input: 1000\n",
        "\n",
        "Expected output: The tax is: 0.0 thalers\n",
        "\n",
        "Sample input: -100\n",
        "\n",
        "Expected output: The tax is: 0.0 thalers"
      ]
    },
    {
      "cell_type": "code",
      "execution_count": null,
      "metadata": {
        "id": "0i6cOBFE3wAZ"
      },
      "outputs": [],
      "source": [
        "penghasilan = float(input(\"Masukkan penghasilan tahunan: \"))\n",
        "\n",
        "pajak = 0.0\n",
        "\n",
        "#\n",
        "# Letakkan kode Anda di sini.\n",
        "#\n",
        "if penghasilan <= 85528:\n",
        "    pajak = (0.18 * penghasilan) - 556.02\n",
        "else:\n",
        "    pajak = 14839.02 + (0.32 * (penghasilan - 85528))\n",
        "\n",
        "# Jika pajak negatif, maka dianggap 0\n",
        "if pajak < 0:\n",
        "    pajak = 0.0\n",
        "\n",
        "pajak = round(pajak, 0)\n",
        "print(\"Pajaknya adalah:\", pajak, \"thaler\")"
      ]
    },
    {
      "cell_type": "markdown",
      "metadata": {
        "id": "DVoiD-Vk3wAZ"
      },
      "source": [
        "Latihan\n",
        "Seperti yang Anda ketahui, karena beberapa alasan astronomis, tahun bisa berupa tahun kabisat atau tahun biasa. Tahun kabisat memiliki 366 hari, sedangkan tahun biasa memiliki 365 hari.\n",
        "\n",
        "Sejak diperkenalkannya kalender Gregorian (pada tahun 1582), aturan berikut digunakan untuk menentukan jenis tahun:\n",
        "\n",
        "jika angka tahun tidak habis dibagi empat, itu adalah tahun biasa;\n",
        "\n",
        "jika tidak, jika angka tahun tidak habis dibagi 100, itu adalah tahun kabisat;\n",
        "\n",
        "jika tidak, jika angka tahun tidak habis dibagi 400, itu adalah tahun biasa;\n",
        "\n",
        "jika tidak, itu adalah tahun kabisat.\n",
        "\n",
        "Lihatlah kode di editor - kode tersebut hanya membaca sebuah angka tahun, dan perlu dilengkapi dengan instruksi yang menerapkan pengujian yang baru saja kita jelaskan.\n",
        "\n",
        "``` python\n",
        "year = int(input(\"Masukkan Tahun: \"))\n",
        "\n",
        "#\n",
        "# Put your code here.\n",
        "#\n",
        "\n",
        "```\n",
        "\n",
        "Kode tersebut harus menghasilkan salah satu dari dua pesan yang mungkin, yaitu Tahun Kabisat atau Tahun Biasa, tergantung pada nilai yang dimasukkan.\n",
        "\n",
        "Sebaiknya verifikasi apakah tahun yang dimasukkan termasuk dalam era Gregorian, dan tampilkan peringatan jika tidak: Bukan dalam periode kalender Gregorian. Tip: gunakan operator != dan %.\n",
        "\n",
        "Uji kode Anda menggunakan data yang telah kami sediakan.\n",
        "\n",
        "Input Sampel: 2000\n",
        "Output yang Diharapkan: Tahun Kabisat\n",
        "\n",
        "Input Sampel: 2015\n",
        "Output yang Diharapkan: Tahun Biasa\n",
        "\n",
        "Input Sampel: 1999\n",
        "Output yang Diharapkan: Tahun Biasa\n",
        "\n",
        "Input Sampel: 1996\n",
        "Output yang Diharapkan: Tahun Kabisat\n",
        "\n",
        "Input Sampel: 1580\n",
        "Output yang Diharapkan: Bukan dalam periode kalender Gregorian"
      ]
    },
    {
      "cell_type": "code",
      "execution_count": null,
      "metadata": {
        "id": "nJ0kiOr23wAZ"
      },
      "outputs": [],
      "source": [
        "tahun = int(input(\"Masukkan sebuah tahun: \"))\n",
        "\n",
        "#\n",
        "# Letakkan kode Anda di sini.\n",
        "#\n",
        "if tahun < 1582:\n",
        "    print(\"Bukan dalam periode kalender Gregorian\")\n",
        "elif tahun % 4 != 0:\n",
        "    print(\"Tahun Biasa\")\n",
        "elif tahun % 100 != 0:\n",
        "    print(\"Tahun Kabisat\")\n",
        "elif tahun % 400 != 0:\n",
        "    print(\"Tahun Biasa\")\n",
        "else:\n",
        "    print(\"Tahun Kabisat\")"
      ]
    },
    {
      "cell_type": "markdown",
      "metadata": {
        "id": "J4bKc0GV3wAZ"
      },
      "source": [
        "#### Latihan-latihan"
      ]
    },
    {
      "cell_type": "markdown",
      "metadata": {
        "id": "XgXDn3wW3wAZ"
      },
      "source": [
        "Apakah luaran dari syntax berikut :"
      ]
    },
    {
      "cell_type": "code",
      "execution_count": null,
      "metadata": {
        "id": "5_rC43kc3wAa"
      },
      "outputs": [],
      "source": [
        "x = 5\n",
        "y = 10\n",
        "z = 8\n",
        "\n",
        "print(x > y)\n",
        "print(y > z)"
      ]
    },
    {
      "cell_type": "code",
      "execution_count": null,
      "metadata": {
        "id": "0Mk3_5IO3wAa"
      },
      "outputs": [],
      "source": [
        "x, y, z = 5, 10, 8\n",
        "\n",
        "print(x > z)\n",
        "print((y - 5) == x)"
      ]
    },
    {
      "cell_type": "code",
      "execution_count": null,
      "metadata": {
        "id": "xglZk_R03wAa"
      },
      "outputs": [],
      "source": [
        "x, y, z = 5, 10, 8\n",
        "x, y, z = z, y, x\n",
        "\n",
        "print(x > z)\n",
        "print((y - 5) == x)"
      ]
    },
    {
      "cell_type": "code",
      "execution_count": null,
      "metadata": {
        "id": "i7firLt13wAa"
      },
      "outputs": [],
      "source": [
        "x = 10\n",
        "\n",
        "if x == 10:\n",
        "    print(x == 10)\n",
        "\n",
        "if x > 5:\n",
        "    print(x > 5)\n",
        "\n",
        "if x < 10:\n",
        "    print(x < 10)\n",
        "else:\n",
        "    print(\"else\")"
      ]
    },
    {
      "cell_type": "code",
      "execution_count": null,
      "metadata": {
        "id": "nETAgpb43wAa"
      },
      "outputs": [],
      "source": [
        "x = \"1\"\n",
        "\n",
        "if x == 1:\n",
        "    print(\"one\")\n",
        "elif x == \"1\":\n",
        "    if int(x) > 1:\n",
        "        print(\"two\")\n",
        "    elif int(x) < 1:\n",
        "        print(\"three\")\n",
        "    else:\n",
        "        print(\"four\")\n",
        "\n",
        "if int(x) == 1:\n",
        "    print(\"five\")\n",
        "else:\n",
        "    print(\"six\")"
      ]
    },
    {
      "cell_type": "code",
      "execution_count": null,
      "metadata": {
        "id": "Fjs-f9f03wAa"
      },
      "outputs": [],
      "source": [
        "x = 1\n",
        "y = 1.0\n",
        "z = \"1\"\n",
        "\n",
        "if x == y:\n",
        "    print(\"one\")\n",
        "if y == z:\n",
        "    print(\"two\")\n",
        "    print(x)\n",
        "    print(y)\n",
        "elif x == y:\n",
        "    print(\"three\")\n",
        "else:\n",
        "    print(\"four\")"
      ]
    },
    {
      "cell_type": "markdown",
      "metadata": {
        "id": "MLAHibub3wAe"
      },
      "source": [
        "## 3.2 Struktur perulangan\n",
        "\n",
        "Python menyediakan dua statement untuk melakukan proses perulangan yaitu for dan while. Diantara kedua statement ini, secara umum for lebih banyak digunakan daripada while.\n",
        "\n",
        "### 1. Statement while\n",
        "\n",
        "Sama seperti kebanyakan bahasa pemrograman lainnya, Python juga mendukung statement while untuk melakukan perulangan satu atau sekelompok statement. Bentuk umum dari perulangan while adalah sebagai berikut :\n",
        "\n",
        "```python\n",
        "while kondisi:\n",
        "    statement1\n",
        "    statement2\n",
        "    statement1\n",
        "    :\n",
        "    :\n",
        "    statementn\n",
        "```\n",
        "Pada bentuk perulangan diatas, statement1, statement2 dan seterusnya merupakan sekelompok statement yang akan diulang. Statement tersebut akan terus dieksekusi/ diulang selama kondisi bernilai True. Maka diperlukan sebuah statement yang akan bernilai False, agar proses dapat berhenti. Perhatikan syntax berikut :\n"
      ]
    },
    {
      "cell_type": "code",
      "execution_count": null,
      "metadata": {
        "id": "RqIJbpgM3wAe"
      },
      "outputs": [],
      "source": [
        "i = 1\n",
        "\n",
        "while i<10:\n",
        "    print(i**2)\n",
        "    i = i+2"
      ]
    },
    {
      "cell_type": "markdown",
      "metadata": {
        "id": "6-6LJEoD3wAf"
      },
      "source": [
        "#### Perhatikan contoh program untuk menghitung berapa ganjil dan genap dari rangkaian bilangan :"
      ]
    },
    {
      "cell_type": "code",
      "execution_count": null,
      "metadata": {
        "id": "mCjjpuNn3wAf"
      },
      "outputs": [],
      "source": [
        "# program yang membaca serangkaian angka\n",
        "# dan menghitung berapa banyak angka genap dan berapa banyak yang ganjil\n",
        "# program berhenti ketika angka nol dimasukkan\n",
        "\n",
        "angkaGanjil = 0\n",
        "angkaGenap = 0\n",
        "\n",
        "# baca angka pertama\n",
        "angka = int(input(\"Masukkan sebuah angka atau ketik 0 untuk berhenti: \"))\n",
        "\n",
        "# 0 menghentikan eksekusi\n",
        "while angka != 0:\n",
        "    # periksa apakah angkanya ganjil\n",
        "    if angka % 2 == 1:\n",
        "        # tambah penghitung angka ganjil\n",
        "        angkaGanjil += 1\n",
        "    else:\n",
        "        # tambah penghitung angka genap\n",
        "        angkaGenap += 1\n",
        "    # baca angka berikutnya\n",
        "    angka = int(input(\"Masukkan sebuah angka atau ketik 0 untuk berhenti: \"))\n",
        "\n",
        "# cetak hasil\n",
        "print(\"Jumlah angka ganjil:\", angkaGanjil)\n",
        "print(\"Jumlah angka genap:\", angkaGenap)"
      ]
    },
    {
      "cell_type": "markdown",
      "metadata": {
        "id": "7j9t3aGS3wAf"
      },
      "source": [
        "## Latihan\n",
        "Seorang pesulap junior telah memilih sebuah angka rahasia. Ia menyembunyikannya dalam sebuah variabel bernama `secretNumber`. Ia ingin semua orang yang menjalankan programnya memainkan permainan Tebak Angka Rahasia, dan menebak angka yang telah ia pilih. Mereka yang tidak menebak angka tersebut akan terjebak dalam lingkaran tanpa akhir selamanya! Sayangnya, ia tidak tahu cara menyelesaikan kode tersebut.\n",
        "\n",
        "Tugas Anda adalah membantu pesulap menyelesaikan kode di editor sedemikian rupa sehingga kode tersebut:\n",
        "\n",
        "- akan meminta pengguna untuk memasukkan angka integer;\n",
        "- akan menggunakan perulangan `while`;\n",
        "- akan memeriksa apakah angka yang dimasukkan oleh pengguna sama dengan angka yang dipilih oleh pesulap. Jika angka yang dipilih oleh pengguna berbeda dengan angka rahasia pesulap, pengguna akan melihat pesan `\"Ha ha! Anda terjebak dalam lingkaran saya!\"` dan diminta untuk memasukkan angka lagi. Jika angka yang dimasukkan pengguna cocok dengan angka yang dipilih pesulap, angka tersebut akan tercetak di layar, dan pesulap harus mengucapkan kata-kata berikut: `\"Bagus sekali, muggle! Kamu bebas sekarang.\"`\n",
        "\n",
        "```python\n",
        "secretNumber = 777\n",
        "\n",
        "print(\n",
        "\"\"\"\n",
        "+================================+\n",
        "| Selamat datang di permainanku, muggle! |\n",
        "| Masukkan angka bulat |\n",
        "| dan tebak angka apa yang |\n",
        "| kupilihkan untukmu. |\n",
        "| Jadi, berapa angka rahasianya? |\n",
        "+================================+\n",
        "\"\"\")\n",
        "```\n",
        "\n",
        "Pesulap mengandalkanmu! Jangan mengecewakannya."
      ]
    },
    {
      "cell_type": "code",
      "execution_count": null,
      "metadata": {
        "id": "XmOIcXqe3wAf"
      },
      "outputs": [],
      "source": [
        "secretNum = 777\n",
        "\n",
        "guessNum = 0\n",
        "\n",
        "while guessNum != secretNum:\n",
        "    guessNum = int(input(\"Input angka rahasia untuk berhenti : \"))\n",
        "    if guessNum != secretNum:\n",
        "        print(\"Perulangan akan terus lanjut...\")\n",
        "\n",
        "print(\"Well done, Congrats...\")"
      ]
    },
    {
      "cell_type": "markdown",
      "metadata": {
        "id": "29dwvNqY3wAf"
      },
      "source": [
        "### 2. Statement for\n",
        "\n",
        "Selain menggunakan statement while, kita juga dapat melakukan perulangan dengan statement for. Perintah for biasanya digunakan untuk mengambil atau menelusuri data (item) yang terdapat pada tipe-tipe koleksi seperti string, list, tuple, dictionary dan set. Dalam pemrograman, proses penelusuran data dalam sebuah koleksi disebut iterasi. Selain itu, for juga dapat melakukan perulangan normal (sama seperti while), yaitu dengan menggunakan fungsi range(). Dengan menggunakan range(), kita akan dapat dengan mudah melakukan perulangan dari indeks awal ke indeks tertentu.\n",
        "\n",
        "Bentuk perintah for dapat dituliskan sebagai berikut :\n",
        "\n",
        "1. Statement for untuk perintah koleksi\n",
        "```python\n",
        "for indeks tipe koleksi:\n",
        "    statement1\n",
        "    statement2\n",
        "    ...\n",
        "```\n",
        "2. Statement for untuk rentang nilai tertentu\n",
        "```python\n",
        "for indeks in range (nilai_awal, nilai_akhir, step):\n",
        "    statement1\n",
        "    statement2\n",
        "    ...\n",
        "```\n",
        "Perhatikan contoh-contoh dibawah ini :"
      ]
    },
    {
      "cell_type": "code",
      "execution_count": null,
      "metadata": {
        "id": "_8SuB-vv3wAg"
      },
      "outputs": [],
      "source": [
        "for i in range(5):\n",
        "    print(i)"
      ]
    },
    {
      "cell_type": "code",
      "execution_count": null,
      "metadata": {
        "id": "diyJIuB43wAg"
      },
      "outputs": [],
      "source": [
        "for i in range(2,8):\n",
        "    print(i)"
      ]
    },
    {
      "cell_type": "code",
      "execution_count": null,
      "metadata": {
        "id": "nAQJLLt13wAg"
      },
      "outputs": [],
      "source": [
        "for i in range(2,18,3):\n",
        "    print(i)"
      ]
    },
    {
      "cell_type": "code",
      "execution_count": null,
      "metadata": {
        "id": "s0E7Id1U3wAg"
      },
      "outputs": [],
      "source": [
        "for i in range(5):\n",
        "    print(i)\n",
        "else:\n",
        "    print(\"masuk else\")"
      ]
    },
    {
      "cell_type": "markdown",
      "metadata": {
        "id": "MLbxlbXT3wAg"
      },
      "source": [
        "## Latihan\n",
        "\n",
        "Tahukah Anda apa itu Mississippi? Ya, itu nama salah satu negara bagian dan sungai di Amerika Serikat. Sungai Mississippi panjangnya sekitar 3.800 kilometer, menjadikannya sungai terpanjang kedua di Amerika Serikat (yang terpanjang adalah Sungai Missouri). Saking panjangnya, setetes air pun membutuhkan 90 hari untuk menempuh seluruh panjangnya!\n",
        "\n",
        "Kata Mississippi juga digunakan untuk tujuan yang sedikit berbeda: menghitung detik.\n",
        "\n",
        "Jika Anda belum familiar dengan frasa ini, kami di sini untuk menjelaskan artinya: digunakan untuk menghitung detik.\n",
        "\n",
        "Ide di baliknya adalah menambahkan kata Mississippi ke angka saat menghitung detik dengan keras akan membuatnya terdengar lebih dekat dengan waktu jam, sehingga \"satu Mississippi, dua Mississippi, tiga Mississippi\" akan membutuhkan waktu sekitar tiga detik! Ungkapan ini sering digunakan oleh anak-anak yang bermain petak umpet untuk memastikan si pencari menghitung dengan jujur.\n",
        "\n",
        "Tugas Anda sangat sederhana di sini: tulis program yang menggunakan perulangan for untuk \"menghitung Mississippi\" sampai lima. Setelah menghitung sampai lima, program akan menampilkan pesan terakhir \"Siap atau tidak, aku datang!\" di layar.\n",
        "\n",
        "Gunakan kerangka yang telah kami sediakan di editor.\n",
        "\n",
        "```python\n",
        "import time\n",
        "\n",
        "# Tulis perulangan for yang menghitung sampai lima.\n",
        "# Isi perulangan - cetak nomor iterasi perulangan dan kata \"Mississippi\".\n",
        "# Isi perulangan - gunakan: time.sleep(1)\n",
        "\n",
        "# Tulis fungsi cetak dengan pesan terakhir.\n",
        "```\n",
        "\n",
        "<strong> INFO TAMBAHAN </strong>\n",
        "\n",
        "Perhatikan bahwa kode di editor berisi dua elemen yang mungkin belum sepenuhnya Anda pahami saat ini: pernyataan import time, dan metode sleep(). Kita akan segera membahasnya.\n",
        "\n",
        "Untuk saat ini, perlu diketahui bahwa kami telah mengimpor modul waktu dan menggunakan metode sleep() untuk menangguhkan eksekusi setiap fungsi print() berikutnya di dalam for loop selama satu detik, sehingga pesan yang ditampilkan di konsol menyerupai penghitungan yang sebenarnya. Jangan khawatir - Anda akan segera mempelajari lebih lanjut tentang modul dan metode."
      ]
    },
    {
      "cell_type": "code",
      "execution_count": null,
      "metadata": {
        "id": "dBREB2RF3wAg"
      },
      "outputs": [],
      "source": [
        "import time\n",
        "\n",
        "for i in range(5):\n",
        "    print(i,\" AKU IGDO RAGIL MANUEL\")\n",
        "    time.sleep(1)"
      ]
    },
    {
      "cell_type": "markdown",
      "metadata": {
        "id": "jiPGzmnP3wAg"
      },
      "source": [
        "### 3. Statement Loncat\n",
        "\n",
        "Statement loncat merupakan perintah yang digunakan untuk memindahkan eksekusi program dari satu bagian tertentu ke bagian lain. Python menyediakan tiga statement yaitu : break, continue dan return.\n",
        "\n",
        "#### 3.1 Statement break\n",
        "\n",
        "Statement break digunakan untuk menghentikan secara paksa proses perulangan, meskipun kondisi perulangan sebenarnya masih bernilai True. Perhatikan contoh-contoh berikut ini :"
      ]
    },
    {
      "cell_type": "code",
      "execution_count": null,
      "metadata": {
        "id": "zRJrwJyw3wAh"
      },
      "outputs": [],
      "source": [
        "for i in range (11):\n",
        "    print(i, end=\" \")\n",
        "    if i==7:\n",
        "        print(\" masih dalam for\")\n",
        "        break"
      ]
    },
    {
      "cell_type": "code",
      "execution_count": null,
      "metadata": {
        "id": "i-x211VO3wAh"
      },
      "outputs": [],
      "source": [
        "# break - example\n",
        "\n",
        "print(\"The break instruction:\")\n",
        "for i in range(1, 6):\n",
        "    if i == 3:\n",
        "        break\n",
        "    print(\"Inside the loop.\", i)\n",
        "print(\"Outside the loop.\")"
      ]
    },
    {
      "cell_type": "code",
      "execution_count": null,
      "metadata": {
        "id": "RFiSXCCF3wAh"
      },
      "outputs": [],
      "source": [
        "largestNumber = -99999999\n",
        "counter = 0\n",
        "\n",
        "while True:\n",
        "    number = int(input(\"Enter a number or type -1 to end program: \"))\n",
        "    if number == -1:\n",
        "        break\n",
        "    counter += 1\n",
        "    if number > largestNumber:\n",
        "        largestNumber = number\n",
        "\n",
        "if counter != 0:\n",
        "    print(\"The largest number is\", largestNumber)\n",
        "else:\n",
        "    print(\"You haven't entered any number.\")"
      ]
    },
    {
      "cell_type": "markdown",
      "metadata": {
        "id": "gTSpTx3I3wAh"
      },
      "source": [
        "#### 3.2 Statement continue\n",
        "\n",
        "Statement continue berguna untuk memaksa pengulangan agar memroses indeks selanjutnya meskipun statement didalam blok pengulangan sebenarna belum semua di eksekusi. Dengan kata lain, statement yang ada dibawah statement continue akan diabaikan (tidak dieksekusi)"
      ]
    },
    {
      "cell_type": "code",
      "execution_count": null,
      "metadata": {
        "id": "Igxsh2RY3wAh"
      },
      "outputs": [],
      "source": [
        "for i in range (1,11):\n",
        "    if i % 2 ==0:\n",
        "        continue\n",
        "    print(i, end=\"\\t\")"
      ]
    },
    {
      "cell_type": "code",
      "execution_count": null,
      "metadata": {
        "id": "9M-hWhQ23wAh"
      },
      "outputs": [],
      "source": [
        "for i in range (1,11):\n",
        "    if i % 2 ==0:\n",
        "        print(i)"
      ]
    },
    {
      "cell_type": "code",
      "execution_count": null,
      "metadata": {
        "id": "No8wFmLy3wAh"
      },
      "outputs": [],
      "source": [
        "# continue - example\n",
        "\n",
        "print(\"\\nThe continue instruction:\")\n",
        "for i in range(1, 6):\n",
        "    if i == 3:\n",
        "        continue\n",
        "    print(\"Inside the loop.\", i)\n",
        "print(\"Outside the loop.\")"
      ]
    },
    {
      "cell_type": "code",
      "execution_count": null,
      "metadata": {
        "id": "ktUOFh9q3wAi"
      },
      "outputs": [],
      "source": [
        "largestNumber = -99999999\n",
        "counter = 0\n",
        "\n",
        "number = int(input(\"Enter a number or type -1 to end program: \"))\n",
        "\n",
        "while number != -1:\n",
        "    if number == -1:\n",
        "        continue\n",
        "    counter += 1\n",
        "\n",
        "    if number > largestNumber:\n",
        "        largestNumber = number\n",
        "    number = int(input(\"Enter a number or type -1 to end program: \"))\n",
        "\n",
        "if counter:\n",
        "    print(\"The largest number is\", largestNumber)\n",
        "else:\n",
        "    print(\"You haven't entered any number.\")"
      ]
    },
    {
      "cell_type": "markdown",
      "metadata": {
        "id": "pf096o2X3wAi"
      },
      "source": [
        "## Latihan\n",
        "\n",
        "Pernyataan `break` digunakan untuk keluar/mengakhiri perulangan.\n",
        "\n",
        "Rancanglah program yang menggunakan perulangan `while` dan terus-menerus meminta pengguna untuk memasukkan kata, kecuali jika pengguna memasukkan `\"chupacabra\"` sebagai kata keluar rahasia. Jika demikian, pesan `\"Anda telah berhasil meninggalkan perulangan.\"` akan ditampilkan di layar, dan perulangan akan berakhir.\n",
        "\n",
        "Jangan mencetak kata apa pun yang dimasukkan oleh pengguna. Gunakan konsep eksekusi bersyarat dan pernyataan break."
      ]
    },
    {
      "cell_type": "code",
      "execution_count": null,
      "metadata": {
        "id": "gVef7Nrg3wAi"
      },
      "outputs": [],
      "source": [
        "while True:\n",
        "    word = input(\"Masukkan Sebuah Kata untuk keluar dari perulangan = \")\n",
        "    if(word==\"stopbang\"):\n",
        "        break\n",
        "\n",
        "print(\"You've successfully left the loop\")"
      ]
    },
    {
      "cell_type": "markdown",
      "metadata": {
        "id": "Mn_dLHa83wAi"
      },
      "source": [
        "## Latihan\n",
        "\n",
        "Pernyataan `continue` digunakan untuk melewati blok saat ini dan melanjutkan ke iterasi berikutnya, tanpa mengeksekusi pernyataan di dalam loop.\n",
        "\n",
        "Pernyataan ini dapat digunakan dengan loop while maupun for.\n",
        "\n",
        "Tugas Anda di sini sangat istimewa: Anda harus merancang sebuah program pemakan vokal! Tulis program yang menggunakan:\n",
        "\n",
        "- loop for;\n",
        "- konsep eksekusi bersyarat (if-elif-else)\n",
        "- pernyataan continue.\n",
        "\n",
        "Program Anda harus:\n",
        "\n",
        "- meminta pengguna untuk memasukkan sebuah kata;\n",
        "- menggunakan `userWord = userWord.upper()` untuk mengubah kata yang dimasukkan oleh pengguna menjadi huruf kapital; kita akan membahas apa yang disebut metode string dan metode `upper()` segera - jangan khawatir;\n",
        "- menggunakan eksekusi bersyarat dan pernyataan `continue` untuk \"memakan\" vokal berikut A, E, I, O, U dari kata yang dimasukkan;\n",
        "- tampilkan huruf-huruf yang tidak dimakan ke layar, masing-masing pada baris terpisah.\n",
        "\n",
        "```python\n",
        "# Minta pengguna untuk memasukkan sebuah kata\n",
        "# dan tetapkan ke variabel userWord.\n",
        "\n",
        "for letter in userWord:\n",
        "# Lengkapi isi perulangan for.\n",
        "```\n",
        "\n",
        "Uji program Anda dengan data yang telah kami sediakan.\n",
        "\n",
        "Data uji\n",
        "\n",
        "Contoh masukan: `Gregory`\n",
        "\n",
        "Keluaran yang diharapkan:\n",
        "```\n",
        "G\n",
        "R\n",
        "G\n",
        "R\n",
        "Y\n",
        "```\n",
        "Contoh masukan: `abstemious`\n",
        "\n",
        "Keluaran yang diharapkan:\n",
        "```\n",
        "B\n",
        "S\n",
        "T\n",
        "M\n",
        "S\n",
        "```"
      ]
    },
    {
      "cell_type": "code",
      "execution_count": null,
      "metadata": {
        "id": "oPXvilna3wAi"
      },
      "outputs": [],
      "source": [
        "# Prompt the user to enter a word\n",
        "# and assign it to the userWord variable.\n",
        "userWord = input(\"Masukkan sebuah kata = \")\n",
        "\n",
        "for letter in userWord:\n",
        "    if letter.upper() in ['A','I','U','E','O']:\n",
        "        continue\n",
        "\n",
        "    print(letter.upper())"
      ]
    },
    {
      "cell_type": "markdown",
      "metadata": {
        "id": "XvyGOe7G3wAi"
      },
      "source": [
        "## Latihan\n",
        "\n",
        "Dengarkan cerita ini: seorang anak laki-laki dan ayahnya, seorang programmer komputer, sedang bermain dengan balok kayu. Mereka sedang membangun sebuah piramida.\n",
        "\n",
        "Piramida mereka agak aneh, karena sebenarnya dindingnya berbentuk piramida - datar. Piramida tersebut disusun berdasarkan satu prinsip sederhana: setiap lapisan bawah berisi satu balok lebih banyak daripada lapisan di atasnya.\n",
        "\n",
        "Gambar di bawah ini mengilustrasikan aturan yang digunakan oleh para pembangun:\n",
        "```\n",
        "=\n",
        "==\n",
        "===\n",
        "```\n",
        "blok: 6\n",
        "tinggi: 3\n",
        "Tugas Anda adalah menulis program yang membaca jumlah balok yang dimiliki para pembangun, dan menampilkan tinggi piramida yang dapat dibangun menggunakan balok-balok tersebut.\n",
        "\n",
        "Catatan: tinggi diukur berdasarkan jumlah lapisan yang telah selesai sepenuhnya - jika para pembangun tidak memiliki jumlah balok yang cukup dan tidak dapat menyelesaikan lapisan berikutnya, mereka akan segera menyelesaikan pekerjaan mereka.\n",
        "\n",
        "Uji kode Anda menggunakan data yang telah kami sediakan.\n",
        "\n",
        "Contoh masukan: 6\n",
        "\n",
        "Keluaran yang diharapkan: Tinggi piramida: 3\n",
        "\n",
        "Contoh masukan: 20\n",
        "\n",
        "Keluaran yang diharapkan: Tinggi piramida: 5\n",
        "\n",
        "Contoh masukan: 1000\n",
        "\n",
        "Keluaran yang diharapkan: Tinggi piramida: 44\n",
        "\n",
        "Contoh masukan: 2\n",
        "\n",
        "Keluaran yang diharapkan: Tinggi piramida: 1"
      ]
    },
    {
      "cell_type": "code",
      "execution_count": null,
      "metadata": {
        "id": "0ZWadaZ73wAi"
      },
      "outputs": [],
      "source": [
        "blocks = int(input(\"Masukkan Angka Blok : \"))\n",
        "current_block = 0\n",
        "height = 0\n",
        "i=0\n",
        "\n",
        "while i<blocks:\n",
        "    height += 1\n",
        "    current_block += height\n",
        "    # print(i,current_block)\n",
        "    if current_block> blocks:\n",
        "        break\n",
        "\n",
        "height -= 1\n",
        "\n",
        "print(\"The height of the pyramid:\", height)"
      ]
    },
    {
      "cell_type": "markdown",
      "metadata": {
        "id": "N_0HFu703wAj"
      },
      "source": [
        "### Latihan\n",
        "\n",
        "1. Buatlah perulangan dengan menggunakan for yang mulai dari 0 sampai dengan 10, dan cetak nomer ganjil pada layar.\n",
        "\n",
        "2. Buatlah perulangan dengan menggunakan while dari 0 sampai dengan 10, dan cetak nomer ganjil pada layar\n",
        "\n",
        "3. Buatlah sebuah program dengan perulangan for dan statement break. Program harus diiterasi sebanyak jumlah karakter didalam sebuah alamat email, dan loop akan berhenti jika menemukan simbol '@' dan cetak karakter yang ditemukan sebelum simbol '@' didalam sebuah line\n",
        "\n",
        "4. Buatlah sebuah perulangan loop dan statement continue. Program harus diiterasi sebanyak nomer yang ditemukan dalam string (digit = \"0165031806510\"), ganti 0 dengan x, lalu cetak string yang telah dimodifikasi."
      ]
    },
    {
      "cell_type": "code",
      "execution_count": null,
      "metadata": {
        "id": "1IDaIpYg3wAj"
      },
      "outputs": [],
      "source": [
        "for i in range(1, 11):\n",
        "    if i % 2 !=0:\n",
        "        print(i,end=' ')"
      ]
    },
    {
      "cell_type": "code",
      "execution_count": null,
      "metadata": {
        "id": "WKH5wcib3wAj"
      },
      "outputs": [],
      "source": [
        "x=1\n",
        "while x<11:\n",
        "    if x % 2 !=0:\n",
        "        print(x,end=' ')\n",
        "    x +=1"
      ]
    },
    {
      "cell_type": "code",
      "execution_count": null,
      "metadata": {
        "id": "aAVEiy-53wAj"
      },
      "outputs": [],
      "source": [
        "for ch in \"ratna.lestari@ugm.ac.id\":\n",
        "    if ch == \"@\":\n",
        "        break\n",
        "    print(ch,end=' ')"
      ]
    },
    {
      "cell_type": "code",
      "execution_count": null,
      "metadata": {
        "id": "FFKGhXyS3wAj"
      },
      "outputs": [],
      "source": [
        "for digit in \"0165031806510\":\n",
        "    if digit == \"0\":\n",
        "        print (\"x\")\n",
        "        continue\n",
        "    print(digit)"
      ]
    },
    {
      "cell_type": "markdown",
      "metadata": {
        "id": "5JUYWGda3wAj"
      },
      "source": [
        "#### Apakah output dari kode-kode berikut?"
      ]
    },
    {
      "cell_type": "code",
      "execution_count": null,
      "metadata": {
        "id": "DYNqK_vQ3wAj"
      },
      "outputs": [],
      "source": [
        "n = 3\n",
        "\n",
        "while n > 0:\n",
        "    print(n + 1)\n",
        "    n -= 1\n",
        "else:\n",
        "    print(n)"
      ]
    },
    {
      "cell_type": "code",
      "execution_count": null,
      "metadata": {
        "id": "e53zta4l3wAk"
      },
      "outputs": [],
      "source": [
        "n = range(4)\n",
        "\n",
        "for num in n:\n",
        "    print(num - 1)\n",
        "else:\n",
        "    print(num)"
      ]
    },
    {
      "cell_type": "code",
      "execution_count": null,
      "metadata": {
        "id": "4em7f9nP3wAk"
      },
      "outputs": [],
      "source": [
        "for i in range(0, 6, 3):\n",
        "    print(i)"
      ]
    },
    {
      "cell_type": "markdown",
      "metadata": {
        "id": "o8a8gDR83wAk"
      },
      "source": [
        "## 3.3 Operasi Logika\n",
        "\n",
        "Operasi Logika `and`\n",
        "\n",
        "| Argument A | Argument B | A and B |\n",
        "|------------|------------|---------|\n",
        "| False      | False      | False   |\n",
        "| False      | True       | False   |\n",
        "| True       | False      | False   |\n",
        "| True       | True       | True    |\n",
        "\n",
        "Operasi Logika `or`\n",
        "\n",
        "| Argument A | Argument B | A or B |\n",
        "|------------|------------|--------|\n",
        "| False      | False      | False  |\n",
        "| False      | True       | True   |\n",
        "| True       | False      | True   |\n",
        "| True       | True       | True   |\n",
        "\n",
        "Operasi Logika `not`\n",
        "\n",
        "| Argument | not Argument |\n",
        "|----------|--------------|\n",
        "| False    | True         |\n",
        "| True     | False        |\n"
      ]
    },
    {
      "cell_type": "markdown",
      "metadata": {
        "id": "_EkyvMVt3wAk"
      },
      "source": [
        "> Kalau kita punya waktu luang, <b>dan</b> cuacanya bagus, kita akan jalan-jalan.\n",
        "\n",
        "> Kalau kamu di mal <b>atau</b> aku di mal, salah satu dari kita akan membeli hadiah untuk Ibu.\n",
        "\n",
        "Perhatikan contoh di bawah ini:"
      ]
    },
    {
      "cell_type": "code",
      "execution_count": null,
      "metadata": {
        "id": "XR7_nmRQ3wAk"
      },
      "outputs": [],
      "source": [
        "x = 1\n",
        "y = 0\n",
        "\n",
        "z = ((x == y) and (x == y)) or not(x == y)\n",
        "print(not(z))"
      ]
    },
    {
      "cell_type": "markdown",
      "metadata": {
        "id": "AwkJ2nuD3wAk"
      },
      "source": [
        "## 3.4 List dan Array\n",
        "\n",
        "Tipe list dalam python sebenernya mirip dengan array normal pada bahasa pemrograman lain. List juga dapat menampung beberapa tipe data sekaligus.\n",
        "\n",
        "Bentuk umum untuk membuat list dalam python adalah :\n",
        "\n",
        "```python\n",
        "\n",
        "nama_list = [nilai1, nilai2, nilai3,...]\n",
        "```\n",
        "\n",
        "Perhatikan contoh dibawah ini :"
      ]
    },
    {
      "cell_type": "code",
      "execution_count": null,
      "metadata": {
        "id": "rox-PCu83wAk"
      },
      "outputs": [],
      "source": [
        "var1=1\n",
        "var2=2\n",
        "var3=3\n",
        "var4=4\n",
        "var5=5\n",
        "\n",
        "#bandingkan\n",
        "\n",
        "var=[1,2,3,4,5]\n",
        "print(var)"
      ]
    },
    {
      "cell_type": "markdown",
      "metadata": {
        "id": "iiX5und43wAk"
      },
      "source": [
        "### Indexing List\n",
        "Dalam list, elemen tidak diindeks berdasarkan key tertentu yang namanya bisa didefinisikan sendiri melainkan berdasarkan indeks bilangan yang diawali dengan nilai nol(0). Perhatikan contoh berikut :"
      ]
    },
    {
      "cell_type": "code",
      "execution_count": null,
      "metadata": {
        "id": "u8ZSiBQB3wAl"
      },
      "outputs": [],
      "source": [
        "num = [2,3,4,5]\n",
        "print(num)\n",
        "print(num[2])\n",
        "print(num[-1])"
      ]
    },
    {
      "cell_type": "markdown",
      "metadata": {
        "id": "Nl7qcmgP3wAl"
      },
      "source": [
        "Indeks dapat juga bernilai negatif yaitu menghitung indeks mulai dari kanan. Perhatikan contoh berikut :"
      ]
    },
    {
      "cell_type": "code",
      "execution_count": null,
      "metadata": {
        "id": "Ozo5nxgN3wAl"
      },
      "outputs": [],
      "source": [
        "lst = [100,200,300,400,500]\n",
        "print(lst[-1])\n",
        "print(lst[-2])\n",
        "print(lst[-5])\n",
        "\n",
        "print(\"\\n\")\n",
        "print(lst[4])\n",
        "print(lst[3])\n",
        "print(lst[0])"
      ]
    },
    {
      "cell_type": "markdown",
      "metadata": {
        "id": "wYK0d54H3wAl"
      },
      "source": [
        "## Slicing List"
      ]
    },
    {
      "cell_type": "code",
      "execution_count": null,
      "metadata": {
        "id": "5MStF5_A3wAl"
      },
      "outputs": [],
      "source": [
        "lst=[4,1,6,9,10,8]\n",
        "\n",
        "print(lst[0:3])\n",
        "print(lst[1:3])\n",
        "\n",
        "print(lst[-3:])\n",
        "print(lst[:-3])\n",
        "\n",
        "print(lst[:])"
      ]
    },
    {
      "cell_type": "markdown",
      "metadata": {
        "id": "JlmJPflM3wAm"
      },
      "source": [
        "### Swap\n",
        "\n",
        "Nilai elemen didalam list selain dapat diakses juga dapat dimanipulasi dengan swapping. Perhatikan contoh berikut :"
      ]
    },
    {
      "cell_type": "code",
      "execution_count": null,
      "metadata": {
        "id": "Se7xv6lC3wAm"
      },
      "outputs": [],
      "source": [
        "num=[2,3,4]\n",
        "num[0],num[1] = num[1], num[0]\n",
        "print(num)"
      ]
    },
    {
      "cell_type": "markdown",
      "metadata": {
        "id": "HsD14o0b3wAm"
      },
      "source": [
        "#### Bubble Short\n",
        "![BubbleSort_worst_case.gif](attachment:BubbleSort_worst_case.gif)"
      ]
    },
    {
      "cell_type": "code",
      "execution_count": null,
      "metadata": {
        "id": "7ubp7lnf3wAm"
      },
      "outputs": [],
      "source": [
        "myList = [8, 10, 6, 2, 4] # list to sort\n",
        "swapped = True # it's a little fake - we need it to enter the while loop\n",
        "\n",
        "while swapped:\n",
        "    swapped = False # no swaps so far\n",
        "    for i in range(len(myList) - 1):\n",
        "        if myList[i] > myList[i + 1]:\n",
        "            swapped = True # swap occured!\n",
        "            myList[i], myList[i + 1] = myList[i + 1], myList[i]\n",
        "\n",
        "print(myList)"
      ]
    },
    {
      "cell_type": "markdown",
      "metadata": {
        "id": "i3ox5OLL3wAm"
      },
      "source": [
        "### Lab 3.4.1.6: Dasar-dasar List\n",
        "Dahulu kala ada sebuah topi. Topi itu tidak berisi kelinci, melainkan sebuah daftar berisi lima angka: 1, 2, 3, 4, dan 5.\n",
        "\n",
        "Tugas Anda adalah:\n",
        "\n",
        "- menulis baris kode yang meminta pengguna untuk mengganti angka tengah dalam daftar dengan bilangan bulat yang dimasukkan oleh pengguna (langkah 1)\n",
        "- menulis baris kode yang menghapus elemen terakhir dari daftar (langkah 2)\n",
        "- menulis baris kode yang mencetak panjang daftar yang ada (langkah 3).\n",
        "Siap untuk tantangan ini?"
      ]
    },
    {
      "cell_type": "code",
      "execution_count": null,
      "metadata": {
        "id": "odPwgZem3wAm"
      },
      "outputs": [],
      "source": [
        "hatList = [1, 2, 3, 4, 5]  # This is an existing list of numbers hidden in the hat.\n",
        "\n",
        "# Step 1: write a line of code that prompts the user\n",
        "# to replace the middle number with an integer number entered by the user.\n",
        "\n",
        "# Step 2: write a line of code here that removes the last element from the list.\n",
        "\n",
        "# Step 3: write a line of code here that prints the length of the existing list.\n",
        "\n",
        "print(hatList)"
      ]
    },
    {
      "cell_type": "markdown",
      "metadata": {
        "id": "D72cWNZc3wAm"
      },
      "source": [
        "### Menambah Elemen ke dalam list\n",
        "\n",
        "Terdapat tiga cara untuk menambahkan elemen baru kedalam sebuah list yaitu :\n",
        "\n",
        " - Menggunakan metode append() : Metode ini digunakan untuk menambah elemen tunggal dibagian akhir list. Perhatikan contoh dibawah :"
      ]
    },
    {
      "cell_type": "code",
      "execution_count": null,
      "metadata": {
        "id": "gK70pgcT3wAn"
      },
      "outputs": [],
      "source": [
        "buah=[\"Salak\",\"Mangga\",\"Apel\"]\n",
        "buah.append(\"Jeruk\")\n",
        "print(buah)"
      ]
    },
    {
      "cell_type": "code",
      "execution_count": null,
      "metadata": {
        "id": "O9sb1QQl3wAn"
      },
      "outputs": [],
      "source": [
        "myList = [] # creating an empty list\n",
        "\n",
        "for i in range(5):\n",
        "    myList.append(i + 1)\n",
        "\n",
        "print(myList)"
      ]
    },
    {
      "cell_type": "markdown",
      "metadata": {
        "id": "rIzysqTD3wAn"
      },
      "source": [
        "`Menggunakan metode insert() : Metode ini digunakan untuk menambah elemen tunggal di indeks / posisi tertentu. Perhatikan contoh dibawah :`"
      ]
    },
    {
      "cell_type": "code",
      "execution_count": null,
      "metadata": {
        "id": "7fDPzqZ93wAn"
      },
      "outputs": [],
      "source": [
        "buah = [\"durian\", \"mangga\", \"apel\"]\n",
        "buah.insert(1,\"kiwi\")\n",
        "print (buah)"
      ]
    },
    {
      "cell_type": "code",
      "execution_count": null,
      "metadata": {
        "id": "3dnk9GOe3wAn"
      },
      "outputs": [],
      "source": [
        "numbers = [111, 7, 2, 1]\n",
        "print(len(numbers))\n",
        "print(numbers)\n",
        "\n",
        "###\n",
        "\n",
        "numbers.append(4)\n",
        "\n",
        "print(len(numbers))\n",
        "print(numbers)\n",
        "\n",
        "###\n",
        "\n",
        "numbers.insert(0, 222)\n",
        "print(len(numbers))\n",
        "print(numbers)\n",
        "\n",
        "#"
      ]
    },
    {
      "cell_type": "markdown",
      "metadata": {
        "id": "qNayyJl-3wAn"
      },
      "source": [
        "### Menghapus Elemen kedalam list\n",
        "\n",
        "Menghapus elemen dapat dilakukan dengan :\n",
        "\n",
        "```python\n",
        "nama_list.remove(nilai)\n",
        "```\n",
        "\n",
        "atau dengan memberikan indeksnya menggunakan instruksi delete :\n",
        "\n",
        "```python\n",
        "del nama_list[indeks]"
      ]
    },
    {
      "cell_type": "code",
      "execution_count": null,
      "metadata": {
        "id": "fQ-HCrTO3wAn"
      },
      "outputs": [],
      "source": [
        "num = [5,4,3,2,1]\n",
        "\n",
        "del num[1]\n",
        "print(num)"
      ]
    },
    {
      "cell_type": "markdown",
      "metadata": {
        "id": "qlw0V_Ef3wAn"
      },
      "source": [
        "## Latihan\n",
        "\n",
        "The Beatles were one of the most popular music group of the 1960s, and the best-selling band in history. Some people consider them to be the most influential act of the rock era. Indeed, they were included in Time magazine's compilation of the 20th Century's 100 most influential people.\n",
        "\n",
        "The band underwent many line-up changes, culminating in 1962 with the line-up of John Lennon, Paul McCartney, George Harrison, and Richard Starkey (better known as Ringo Starr).\n",
        "\n",
        "\n",
        "Write a program that reflects these changes and lets you practice with the concept of lists. Your task is to:\n",
        "\n",
        "- step 1: create an empty list named `beatles`;\n",
        "- step 2: use the `append()` method to add the following members of the band to the list: `John Lennon`, `Paul McCartney`, and `George Harrison`;\n",
        "- step 3: use the `for` loop and the `append()` method to prompt the user to add the following members of the band to the list: `Stu Sutcliffe`, and `Pete Best`;\n",
        "- step 4: use the `del` instruction to remove `Stu Sutcliffe` and `Pete Best` from the list;\n",
        "- step 5: use the `insert()` method to add `Ringo Starr` to the beginning of the list.\n",
        "By the way, are you a Beatles fan?"
      ]
    },
    {
      "cell_type": "code",
      "execution_count": null,
      "metadata": {
        "id": "DLD9W7T23wAo"
      },
      "outputs": [],
      "source": [
        "# step 1\n",
        "beatles = []\n",
        "print(\"Step 1:\", beatles)\n",
        "\n",
        "# step 2\n",
        "beatles.append(\"John Lennon\")\n",
        "beatles.append(\"Paul McCartney\")\n",
        "beatles.append(\"George Harrison\")\n",
        "print(\"Step 2:\", beatles)\n",
        "\n",
        "# step 3\n",
        "for i in range(2):\n",
        "    nama = input(\"Masukkan anggota baru = \")\n",
        "    beatles.append(nama)\n",
        "print(\"Step 3:\", beatles)\n",
        "\n",
        "# step 4\n",
        "del beatles[-2:]\n",
        "print(\"Step 4:\", beatles)\n",
        "\n",
        "# step 5\n",
        "beatles.insert(0,\"Ringo Starr\")\n",
        "print(\"Step 5:\", beatles)\n",
        "\n",
        "\n",
        "# testing list legth\n",
        "print(\"The Fab\", len(beatles))"
      ]
    },
    {
      "cell_type": "markdown",
      "metadata": {
        "id": "GBSuCZwt3wAo"
      },
      "source": [
        "## Tambahan Method"
      ]
    },
    {
      "cell_type": "code",
      "execution_count": null,
      "metadata": {
        "id": "-eiV_pTP3wAo"
      },
      "outputs": [],
      "source": [
        "lst = [5, 1, 3, 2, 10]\n",
        "print(lst)\n",
        "lst.sort()\n",
        "print(lst)\n",
        "lst.reverse()\n",
        "print(lst)"
      ]
    },
    {
      "cell_type": "code",
      "execution_count": null,
      "metadata": {
        "id": "WQPm9y4y3wAo"
      },
      "outputs": [],
      "source": [
        "vehiclesOne = ['car', 'bicycle', 'motor']\n",
        "print(vehiclesOne) # outputs: ['car', 'bicycle', 'motor']\n",
        "\n",
        "vehiclesTwo = vehiclesOne\n",
        "del vehiclesOne[0] # deletes 'car'\n",
        "print(vehiclesTwo) # outputs: ['bicycle', 'motor']\n",
        "print(vehiclesOne)"
      ]
    },
    {
      "cell_type": "code",
      "execution_count": null,
      "metadata": {
        "id": "ofVcj3ce3wAo"
      },
      "outputs": [],
      "source": [
        "vehiclesOne = ['car', 'bicycle', 'motor']\n",
        "print(vehiclesOne) # outputs: ['car', 'bicycle', 'motor']\n",
        "\n",
        "vehiclesTwo = vehiclesOne[:]\n",
        "del vehiclesOne[0] # deletes 'car'\n",
        "print(vehiclesTwo) # outputs: ['bicycle', 'motor']\n",
        "print(vehiclesOne)"
      ]
    },
    {
      "cell_type": "code",
      "execution_count": null,
      "metadata": {
        "id": "E8GCb6Ea3wAo"
      },
      "outputs": [],
      "source": [
        "nama = [\"Ana\",\"Budi\",\"Citra\"]\n",
        "kata_kunci = \"Budi\"\n",
        "\n",
        "print(kata_kunci not in nama)\n",
        "\n",
        "if kata_kunci in nama:\n",
        "    print(\"Nama \"+kata_kunci+\" ada di list\")"
      ]
    },
    {
      "cell_type": "code",
      "execution_count": null,
      "metadata": {
        "id": "Sn1paVGE3wAo"
      },
      "outputs": [],
      "source": [
        "for i in range(10):\n",
        "    print(i, end=\" \")\n",
        "\n",
        "print()\n",
        "for i in range(1,7):\n",
        "    print(i, end=\" \")\n",
        "\n",
        "print()\n",
        "for i in range(1,10,2):\n",
        "    print(i, end=\" \")\n",
        "\n",
        "print()\n",
        "for i in range(10,-10,-2):\n",
        "    print(i, end=\" \")"
      ]
    },
    {
      "cell_type": "code",
      "execution_count": null,
      "metadata": {
        "id": "dfjDVcmS3wAp"
      },
      "outputs": [],
      "source": [
        "for i in range(1, 11):\n",
        "    if i%2 != 0:\n",
        "        print(i, end=\" \")"
      ]
    },
    {
      "cell_type": "code",
      "execution_count": null,
      "metadata": {
        "id": "CBGW6l0H3wAp"
      },
      "outputs": [],
      "source": [
        "x = 1\n",
        "while x < 11:\n",
        "    if x%2!=0:\n",
        "        print(x, end=\" \")\n",
        "    x += 1"
      ]
    },
    {
      "cell_type": "code",
      "execution_count": null,
      "metadata": {
        "id": "bvPDDBVF3wAp"
      },
      "outputs": [],
      "source": [
        "for ch in \"john.smith@pythoninstitute.org\":\n",
        "    if ch == \"@\":\n",
        "        break\n",
        "    print(ch,end=\"\")"
      ]
    },
    {
      "cell_type": "code",
      "execution_count": null,
      "metadata": {
        "id": "bDeNpuL23wAp"
      },
      "outputs": [],
      "source": [
        "for digit in \"0165031806510\":\n",
        "    if digit == \"0\":\n",
        "        print(\"x\",end=\"\")\n",
        "        continue\n",
        "    print(digit,end=\"\")"
      ]
    },
    {
      "cell_type": "markdown",
      "metadata": {
        "id": "s69FZ5Xt3wAp"
      },
      "source": [
        "### List Method (Advance)\n",
        "\n",
        "Perhatikan contoh berikut :"
      ]
    },
    {
      "cell_type": "code",
      "execution_count": null,
      "metadata": {
        "id": "NOEGZJ573wAp"
      },
      "outputs": [],
      "source": [
        "myList = [10, 1, 8, 3, 5]\n",
        "total = 0\n",
        "\n",
        "for i in range(len(myList)):\n",
        "    total += myList[i]\n",
        "\n",
        "print(total)"
      ]
    },
    {
      "cell_type": "code",
      "execution_count": null,
      "metadata": {
        "id": "qcrm1C1d3wAp"
      },
      "outputs": [],
      "source": [
        "#squares = [x ** 2 for x in range(10)]\n",
        "#print (squares)\n",
        "\n",
        "squares = []\n",
        "for x in range(10):\n",
        "    squares.append(x ** 2)\n",
        "print(squares)"
      ]
    },
    {
      "cell_type": "code",
      "execution_count": null,
      "metadata": {
        "id": "oHp---Kx3wAp"
      },
      "outputs": [],
      "source": [
        "twos = [2 ** i for i in range(8)]\n",
        "print(twos)"
      ]
    },
    {
      "cell_type": "code",
      "execution_count": null,
      "metadata": {
        "id": "M9ibw-S73wAq"
      },
      "outputs": [],
      "source": [
        "squares = []\n",
        "odds = [x for x in squares if x % 2 != 0 ]\n",
        "print (odds)\n",
        "\n",
        "# sama dengan\n",
        "odds = []\n",
        "for x in squares:\n",
        "    if x % 2 != 0:\n",
        "        odds.append(x)\n",
        "print (odds)"
      ]
    },
    {
      "cell_type": "markdown",
      "metadata": {
        "id": "jdj-ICjo3wAq"
      },
      "source": [
        "### List Dua Dimensi (Array)\n",
        "\n",
        "List dapat berisi berbagai tipe data seperti strings, boolean maupun list lainnya. Kita sering sekali menemukan bentuk array seperti ini dikehidupan kita, salah satu contohnya adalah papan catur. Papan catur terdiri dari baris dan kolom, terdapat 8 baris dan juga 8 kolom. Setiap kolom ditandai oleh huruf A sampai dengan H, dan setiap baris ditandai oleh 1 sampai dengan 8.\n",
        "\n",
        "Perhatikan kode berikut :"
      ]
    },
    {
      "cell_type": "code",
      "execution_count": null,
      "metadata": {
        "id": "8mPGqKl03wAq"
      },
      "outputs": [],
      "source": [
        "# Contoh List di dalam List\n",
        "i = [2,3,4,5]\n",
        "print(i[0])\n",
        "\n",
        "k = [[3,5,1],[6,1,8],[9,10,4]]\n",
        "print(k)\n",
        "print(k[1])\n",
        "print(k[1][0])\n",
        "print(k[-1][-2:])"
      ]
    },
    {
      "cell_type": "code",
      "execution_count": null,
      "metadata": {
        "id": "8vztQZ6k3wAq"
      },
      "outputs": [],
      "source": [
        "EMPTY = \"-\"\n",
        "board = []\n",
        "\n",
        "for i in range(8):\n",
        "    row = [EMPTY for i in range(8)] #membuat satu list\n",
        "    board.append(row) #membuat 8 list\n",
        "    print(row)\n",
        "#print(board)"
      ]
    },
    {
      "cell_type": "markdown",
      "metadata": {
        "id": "E5mHJT9O3wAq"
      },
      "source": [
        "List diatas menggambarkan list papan catur yang masih kosong sebagaimana gambar ilustrasi dibawah :\n",
        "\n",
        "![rook.JPG](attachment:rook.JPG)\n",
        "\n",
        "Mari kita isi list sersebut dengan sesuatu yang kita inginkan. Perhatikan kode berikut :"
      ]
    },
    {
      "cell_type": "code",
      "execution_count": null,
      "metadata": {
        "id": "zkrIzZl23wAq"
      },
      "outputs": [],
      "source": [
        "EMPTY = \"-\"\n",
        "LIMALIMA = \"LIMA\"\n",
        "ROOK = \"ROOK\"\n",
        "KNIGHT = \"KNIGHT\"\n",
        "PAWN = \"PAWN\"\n",
        "board = []\n",
        "\n",
        "for i in range(8):\n",
        "    row = [EMPTY for i in range(8)]\n",
        "    board.append(row)\n",
        "\n",
        "#isi dengan ROOK\n",
        "board[0][0] = ROOK\n",
        "board[5][5] = LIMALIMA\n",
        "board[0][7] = ROOK\n",
        "board[7][0] = ROOK\n",
        "board[7][7] = ROOK\n",
        "\n",
        "#isi dengan KNIGHT\n",
        "board[4][2] = KNIGHT\n",
        "\n",
        "#isi dengan PAWN\n",
        "board[3][4] = PAWN\n",
        "\n",
        "\n",
        "print(board)\n",
        "print(\"\\n\")"
      ]
    },
    {
      "cell_type": "markdown",
      "metadata": {
        "id": "FFybqSMA3wAq"
      },
      "source": [
        "#### List Multidimensi (Array)\n",
        "\n",
        "Untuk mencari sebuah elemen pada list dua dimensi adalah dengan menggunakan dua koordinat yaitu nomer baris dan juga nomer kolom. Bayangkan ketika anda akan mengembangkan sebuah program untuk perekam cuaca otomatis. Alat ini akan mampu merekam suhu udara tiap jam sampai dengan satu bulan. Maka total data yang akan direkam adalah 24 jam x 31 hari = 744 data.\n",
        "\n",
        "Pertama-tama, kita harus memutuskan tipe data yang akan tepat untuk aplikasi ini. Pada kasus ini, tipe float adalah yang paling sesuai karena suhu biasanya diukur sampai dengan akurasi satu dibelakang koma (0.1). Selanjutnya, kita akan menentukan bahwa baris akan merepresentasikan jam (sehingga ada 24 baris) dan setiap baris akan direpresentasikan untuk satu hari (sehingga kita membutuhkan lagi 31 baris)."
      ]
    },
    {
      "cell_type": "code",
      "execution_count": null,
      "metadata": {
        "id": "gFwYhsvH3wAr"
      },
      "outputs": [],
      "source": [
        "temps = [[0.0 for h in range(2)] for d in range(4)]\n",
        "print (temps)"
      ]
    },
    {
      "cell_type": "code",
      "execution_count": null,
      "metadata": {
        "id": "TtkEhQdz3wAr"
      },
      "outputs": [],
      "source": [
        "temps = [[0.0 for h in range(24)] for d in range(31)]\n",
        "\n",
        "# 1. the monthly average noon temperature\n",
        "sum = 0.0\n",
        "\n",
        "for day in temps:\n",
        "    sum += day[11]\n",
        "\n",
        "average = sum / 31\n",
        "\n",
        "print(\"Average temperature at noon:\", average)\n",
        "\n",
        "# 2. the highest temperature during the whole month\n",
        "highest = -100.0\n",
        "\n",
        "for day in temps:\n",
        "    for temp in day:\n",
        "        if temp > highest:\n",
        "            highest = temp\n",
        "\n",
        "print(\"The highest temperature was:\", highest)\n",
        "\n",
        "# 3.count the days when the temperature at noon was at least 20 ℃\n",
        "hotDays = 0\n",
        "\n",
        "for day in temps:\n",
        "    if day[11] > 20.0:\n",
        "        hotDays += 1\n",
        "\n",
        "print(hotDays, \"days were hot.\")"
      ]
    },
    {
      "cell_type": "markdown",
      "metadata": {
        "id": "8_68gH4g3wAr"
      },
      "source": [
        "#### 3. Array tiga dimensi\n",
        "\n",
        "Python tidak memiliki batasan dalam list-in-list. Ini merupakan contoh untuk array tiga dimensi.\n",
        "\n",
        "Bayangkan sebuah hotel yang besar terdiri dari tiga bangunan, 15 lantai untuk tiap  bangunannya. Pada setiap lantai terdapat 20 kamar.\n",
        "\n",
        "Langkah pertama adalah tentukan tipe data dari array yang akan dibuat. Dalam kasus ini nilai Boolean yang paling sesuai, nilai True jika kamar telah di pesan dan nilai False jika kamar kosong. Langkah kedua adalah dengan menganalisa kondisi yang diberikan.\n",
        "\n",
        "Kode dibawah akan menghasilkan array :"
      ]
    },
    {
      "cell_type": "code",
      "execution_count": null,
      "metadata": {
        "id": "M0YOcQGN3wAr"
      },
      "outputs": [],
      "source": [
        "rooms = [[[False for r in range(2)] for f in range(3)] for t in range(4)]\n",
        "print (rooms)"
      ]
    },
    {
      "cell_type": "markdown",
      "metadata": {
        "id": "KyD0w_DU3wAr"
      },
      "source": [
        "Coba berikan input untuk kondisi bibawah ini :\n",
        "1. Pesan satu kamar pada gedung 2, lantai 10, kamar 14\n",
        "2. Kosongkan satu kamar pada gedung 1, lantai 5, kamar 2\n",
        "3. Periksa apakah ada kamar kosong di lantai 15"
      ]
    },
    {
      "cell_type": "code",
      "execution_count": null,
      "metadata": {
        "id": "SlCbN7zD3wAs"
      },
      "outputs": [],
      "source": [
        "rooms = [[[False for r in range(20)] for f in range(15)] for t in range(3)]\n",
        "\n",
        "rooms[1][9][13] = True\n",
        "rooms[0][4][1] = False\n",
        "\n",
        "print(rooms)\n",
        "\n",
        "vacancy = 0\n",
        "\n",
        "for roomNumber in range(20):\n",
        "    if not rooms[2][14][roomNumber]:\n",
        "        vacancy += 1\n",
        "\n",
        "print(roomNumber)"
      ]
    }
  ],
  "metadata": {
    "kernelspec": {
      "display_name": "Python 3 (ipykernel)",
      "language": "python",
      "name": "python3"
    },
    "language_info": {
      "codemirror_mode": {
        "name": "ipython",
        "version": 3
      },
      "file_extension": ".py",
      "mimetype": "text/x-python",
      "name": "python",
      "nbconvert_exporter": "python",
      "pygments_lexer": "ipython3",
      "version": "3.9.5"
    },
    "colab": {
      "provenance": [],
      "include_colab_link": true
    }
  },
  "nbformat": 4,
  "nbformat_minor": 0
}