{
  "cells": [
    {
      "cell_type": "markdown",
      "metadata": {
        "id": "view-in-github",
        "colab_type": "text"
      },
      "source": [
        "<a href=\"https://colab.research.google.com/github/clepigdo/Latihan_STKI2025/blob/main/PythonBasic3.ipynb\" target=\"_parent\"><img src=\"https://colab.research.google.com/assets/colab-badge.svg\" alt=\"Open In Colab\"/></a>"
      ]
    },
    {
      "cell_type": "markdown",
      "metadata": {
        "id": "36wY7ji5yH3S"
      },
      "source": [
        "\n",
        "\n",
        "## Materi\n",
        "\n",
        "- defining and using functions;\n",
        "- different ways of passing arguments;\n",
        "- name scopes;\n",
        "- tuples and dictionaries;\n",
        "- data processing."
      ]
    },
    {
      "cell_type": "markdown",
      "metadata": {
        "id": "PSDZswjbyH3W"
      },
      "source": [
        "\n",
        "\n"
      ]
    },
    {
      "cell_type": "markdown",
      "metadata": {
        "id": "ShyAQ2NjyH3W"
      },
      "source": [
        "# Function\n",
        "Fungsi\n",
        "\n",
        "\n",
        "Ketika Anda memanggil suatu fungsi, Python mengingat tempat terjadinya dan melompat ke fungsi yang dipanggil;\n",
        "isi fungsi kemudian dieksekusi;\n",
        "mencapai akhir fungsi memaksa Python untuk kembali ke tempat tepat setelah titik pemanggilan."
      ]
    },
    {
      "cell_type": "code",
      "execution_count": 1,
      "metadata": {
        "colab": {
          "base_uri": "https://localhost:8080/"
        },
        "id": "uhbdeClhyH3X",
        "outputId": "c71fa0a7-fe26-4322-9a70-5d2c0d43cc46"
      },
      "outputs": [
        {
          "output_type": "stream",
          "name": "stdout",
          "text": [
            "Angka 1 :\n",
            "2\n",
            "2\n",
            "Angka 2 :\n",
            "3\n",
            "3\n",
            "Angka 3 :\n",
            "4\n",
            "4\n"
          ]
        }
      ],
      "source": [
        "# Motivasi function adalah perulangan kode\n",
        "\n",
        "print(\"Angka 1 :\")\n",
        "a = int(input())\n",
        "print(a)\n",
        "\n",
        "print(\"Angka 2 :\")\n",
        "b = int(input())\n",
        "print(b)\n",
        "\n",
        "print(\"Angka 3 :\")\n",
        "c = int(input())\n",
        "print(c)"
      ]
    },
    {
      "cell_type": "markdown",
      "metadata": {
        "id": "VxqBD906yH3Y"
      },
      "source": [
        "Sintaks Function:\n",
        "\n",
        "```python\n",
        "def functionName():\n",
        "    functionBody\n",
        "```"
      ]
    },
    {
      "cell_type": "code",
      "execution_count": 2,
      "metadata": {
        "colab": {
          "base_uri": "https://localhost:8080/"
        },
        "id": "v9wbCxF9yH3Y",
        "outputId": "73997cd9-89fd-4109-9717-f7f87624a5c7"
      },
      "outputs": [
        {
          "output_type": "stream",
          "name": "stdout",
          "text": [
            "Start disini... \n",
            "Input Angka :\n",
            "3\n",
            "3\n",
            "Input Angka :\n",
            "2\n",
            "2\n",
            "Input Angka :\n",
            "1\n",
            "1\n",
            "Stop disini... \n"
          ]
        }
      ],
      "source": [
        "def inputAngka():\n",
        "    print(\"Input Angka :\")\n",
        "    a = int(input())\n",
        "    print(a)\n",
        "\n",
        "print(\"Start disini... \")\n",
        "\n",
        "inputAngka()\n",
        "inputAngka()\n",
        "inputAngka()\n",
        "\n",
        "print(\"Stop disini... \")"
      ]
    },
    {
      "cell_type": "markdown",
      "metadata": {
        "id": "ZWgs_WdJyH3Z"
      },
      "source": [
        "### Fungsi parametrik\n",
        "\n",
        "\n",
        "\n"
      ]
    },
    {
      "cell_type": "code",
      "execution_count": 3,
      "metadata": {
        "colab": {
          "base_uri": "https://localhost:8080/"
        },
        "id": "TgHccM_DyH3Z",
        "outputId": "ae2e01f6-2f8f-4c53-c30f-0c1496e457f2"
      },
      "outputs": [
        {
          "output_type": "stream",
          "name": "stdout",
          "text": [
            "Pesan  hallo\n",
            "Pesan  kamu siapa ?\n"
          ]
        }
      ],
      "source": [
        "def pesan(m):\n",
        "    print(\"Pesan \",m.lower())\n",
        "\n",
        "pesan(\"Hallo\")\n",
        "pesan(\"Kamu siapa ?\")"
      ]
    },
    {
      "cell_type": "code",
      "execution_count": 6,
      "metadata": {
        "colab": {
          "base_uri": "https://localhost:8080/"
        },
        "id": "RTxqW9A_yH3Z",
        "outputId": "56db29b2-268e-4d4a-9e19-d5d28b088d7c"
      },
      "outputs": [
        {
          "output_type": "stream",
          "name": "stdout",
          "text": [
            "Nama :  Igdo No Hp :  12331231\n",
            "Nama :  Manuel No Hp :  08172442131\n"
          ]
        }
      ],
      "source": [
        "def pesan(nama, nohp):\n",
        "    print(\"Nama : \",nama, \"No Hp : \",nohp)\n",
        "\n",
        "pesan(\"Igdo\", 12331231)\n",
        "pesan(\"Manuel\", \"08172442131\")"
      ]
    },
    {
      "cell_type": "code",
      "execution_count": 8,
      "metadata": {
        "colab": {
          "base_uri": "https://localhost:8080/"
        },
        "id": "yQ-WnM4oyH3a",
        "outputId": "0892a35b-a1ef-40e8-cbd6-f3d124033210"
      },
      "outputs": [
        {
          "output_type": "stream",
          "name": "stdout",
          "text": [
            "Igdo Manuel 30.5\n"
          ]
        }
      ],
      "source": [
        "def tambahUsia(nama, umur):\n",
        "    umur = umur + 0.5\n",
        "    print(nama, umur)\n",
        "\n",
        "tambahUsia(\"Igdo Manuel\", 30)"
      ]
    },
    {
      "cell_type": "markdown",
      "metadata": {
        "id": "FPJm9xpgyH3a"
      },
      "source": [
        "### Posisi Parameter\n",
        "\n"
      ]
    },
    {
      "cell_type": "code",
      "execution_count": 10,
      "metadata": {
        "colab": {
          "base_uri": "https://localhost:8080/"
        },
        "id": "uy6ZOvXFyH3a",
        "outputId": "bc73a61c-d5b1-4778-bc38-eb9e0973935b"
      },
      "outputs": [
        {
          "output_type": "stream",
          "name": "stdout",
          "text": [
            "Hallo namanya adalah :  Igdo Manuel\n",
            "Hallo namanya adalah :  Manuel Igdo\n"
          ]
        }
      ],
      "source": [
        "def perkenalan(namaDepan, namaBelakang):\n",
        "    print(\"Hallo namanya adalah : \", namaDepan, namaBelakang)\n",
        "\n",
        "perkenalan(\"Igdo\",\"Manuel\")\n",
        "perkenalan(\"Manuel\",\"Igdo\")"
      ]
    },
    {
      "cell_type": "code",
      "execution_count": 11,
      "metadata": {
        "colab": {
          "base_uri": "https://localhost:8080/"
        },
        "id": "tsvv9yQpyH3a",
        "outputId": "ca048812-423e-4ed4-e4c0-e7fb029d7aa3"
      },
      "outputs": [
        {
          "output_type": "stream",
          "name": "stdout",
          "text": [
            "Hallo namanya adalah :  Igdodols Manuel\n",
            "Hallo namanya adalah :  Rahmawati Firnanda\n"
          ]
        }
      ],
      "source": [
        "perkenalan(namaDepan = \"Igdodols\", namaBelakang = \"Manuel\")\n",
        "perkenalan(namaBelakang = \"Firnanda\", namaDepan = \"Rahmawati\")"
      ]
    },
    {
      "cell_type": "code",
      "execution_count": 12,
      "metadata": {
        "colab": {
          "base_uri": "https://localhost:8080/"
        },
        "id": "F3HwMBbCyH3a",
        "outputId": "99ae43ab-b461-4757-83c3-54cfadb83440"
      },
      "outputs": [
        {
          "output_type": "stream",
          "name": "stdout",
          "text": [
            "4 + 1 + 5 = 10\n"
          ]
        }
      ],
      "source": [
        "def jumlah(a, b, c):\n",
        "    print(a, \"+\", b, \"+\", c, \"=\", a + b + c)\n",
        "\n",
        "jumlah(4,1,5)"
      ]
    },
    {
      "cell_type": "markdown",
      "metadata": {
        "id": "MFZbf32CyH3b"
      },
      "source": [
        "## Default parameter"
      ]
    },
    {
      "cell_type": "code",
      "execution_count": 13,
      "metadata": {
        "colab": {
          "base_uri": "https://localhost:8080/"
        },
        "id": "RgCAQ7QWyH3b",
        "outputId": "08df9ae3-e687-4409-c67a-8d270993650c"
      },
      "outputs": [
        {
          "output_type": "stream",
          "name": "stdout",
          "text": [
            "Hello, my name is Igdo Smith\n",
            "Hello, my name is Igdo Manuel\n",
            "Hello, my name is Igdo Manuel\n"
          ]
        }
      ],
      "source": [
        "def introduction(firstName=\"John\",lastName=\"Smith\"):\n",
        "    print(\"Hello, my name is\", firstName, lastName)\n",
        "\n",
        "#Call the Function here\n",
        "introduction(firstName=\"Igdo\")\n",
        "introduction(firstName=\"Igdo\", lastName=\"Manuel\")\n",
        "introduction(\"Igdo\", lastName=\"Manuel\")"
      ]
    },
    {
      "cell_type": "code",
      "execution_count": 14,
      "metadata": {
        "colab": {
          "base_uri": "https://localhost:8080/"
        },
        "id": "DAr6q4wJyH3b",
        "outputId": "ca8d7375-8ecc-4bc5-bdbe-571cc38135d4"
      },
      "outputs": [
        {
          "output_type": "stream",
          "name": "stdout",
          "text": [
            "Hello, my name is Igdo IGBRO Manuel\n"
          ]
        }
      ],
      "source": [
        "def introductionLengkap(firstName, lastName, middleName=\"Ragil\"):\n",
        "    print(\"Hello, my name is\", firstName, middleName, lastName)\n",
        "\n",
        "#Call the Function here\n",
        "introductionLengkap(firstName=\"Igdo\", lastName=\"Manuel\", middleName=\"IGBRO\")"
      ]
    },
    {
      "cell_type": "markdown",
      "metadata": {
        "id": "_TD0ndDnyH3b"
      },
      "source": [
        "## Function dengan Return"
      ]
    },
    {
      "cell_type": "code",
      "execution_count": 15,
      "metadata": {
        "colab": {
          "base_uri": "https://localhost:8080/"
        },
        "id": "bf-cR23cyH3b",
        "outputId": "506664bc-463b-4709-e6a5-de78900116d4"
      },
      "outputs": [
        {
          "output_type": "stream",
          "name": "stdout",
          "text": [
            "113.09733552923255\n",
            "25.0\n"
          ]
        }
      ],
      "source": [
        "def hitungLuasLingkaran(r):\n",
        "    import math\n",
        "    pi = math.pi\n",
        "    luas = pi * r * r\n",
        "    return luas\n",
        "\n",
        "# buat sebuah fungsi untuk menghitung luas segitiga\n",
        "def hitungLuasSegitiga(a,t):\n",
        "    luas = 0.5 * a * t\n",
        "    return luas\n",
        "\n",
        "\n",
        "x = hitungLuasLingkaran(6)\n",
        "y = hitungLuasSegitiga(5,10)\n",
        "\n",
        "print(x)\n",
        "print(y)"
      ]
    },
    {
      "cell_type": "code",
      "execution_count": 16,
      "metadata": {
        "colab": {
          "base_uri": "https://localhost:8080/"
        },
        "id": "stzztMAvyH3b",
        "outputId": "693c333e-3505-4ca6-d0fd-d9864ccb9f42"
      },
      "outputs": [
        {
          "output_type": "stream",
          "name": "stdout",
          "text": [
            "This Lesson is interesting!\n",
            "'Boredom Mode' ON.\n",
            "123\n",
            "test\n"
          ]
        }
      ],
      "source": [
        "def boringFunction():\n",
        "    print(\"'Boredom Mode' ON.\")\n",
        "    return 123\n",
        "\n",
        "print(\"This Lesson is interesting!\")\n",
        "x = boringFunction()\n",
        "print(x)\n",
        "print(\"test\")"
      ]
    },
    {
      "cell_type": "code",
      "execution_count": 17,
      "metadata": {
        "colab": {
          "base_uri": "https://localhost:8080/"
        },
        "id": "dRfINAXHyH3c",
        "outputId": "f32f667c-e81c-414a-ee0a-a990e4bf726a"
      },
      "outputs": [
        {
          "output_type": "stream",
          "name": "stdout",
          "text": [
            "7\n"
          ]
        }
      ],
      "source": [
        "def jumlah(a,b):\n",
        "    c = a + b\n",
        "    return c\n",
        "\n",
        "a = jumlah(3,4)\n",
        "print(a)"
      ]
    },
    {
      "cell_type": "code",
      "execution_count": 18,
      "metadata": {
        "colab": {
          "base_uri": "https://localhost:8080/"
        },
        "id": "z2t-GJ_VyH3c",
        "outputId": "eb374b99-2431-463f-874d-51d7281e77cf"
      },
      "outputs": [
        {
          "output_type": "stream",
          "name": "stdout",
          "text": [
            "True\n",
            "None\n"
          ]
        }
      ],
      "source": [
        "def strangeFunction(n):\n",
        "    if(n % 2 == 0):\n",
        "        return True\n",
        "\n",
        "#Call the Function here\n",
        "\n",
        "print(strangeFunction(4))\n",
        "print(strangeFunction(3))"
      ]
    },
    {
      "cell_type": "code",
      "execution_count": 19,
      "metadata": {
        "colab": {
          "base_uri": "https://localhost:8080/"
        },
        "id": "FCKsbg8VyH3c",
        "outputId": "865355fc-9135-4739-96c9-583a0f70ac15"
      },
      "outputs": [
        {
          "output_type": "stream",
          "name": "stdout",
          "text": [
            "10\n"
          ]
        }
      ],
      "source": [
        "def sumOfList(lst):\n",
        "    sum = 0\n",
        "\n",
        "    for elem in lst:\n",
        "        sum += elem\n",
        "\n",
        "    return sum\n",
        "\n",
        "#Call the Function here\n",
        "x = sumOfList([2,2,2,2,2])\n",
        "print(x)"
      ]
    },
    {
      "cell_type": "code",
      "execution_count": 20,
      "metadata": {
        "colab": {
          "base_uri": "https://localhost:8080/"
        },
        "id": "v0Fu3LHRyH3c",
        "outputId": "5cca6569-d9e9-4ec2-a4f9-8ef4d67fd08d"
      },
      "outputs": [
        {
          "output_type": "stream",
          "name": "stdout",
          "text": [
            "Insert 0\n",
            "[0]\n",
            "Insert 1\n",
            "[1, 0]\n",
            "Insert 2\n",
            "[2, 1, 0]\n",
            "Insert 3\n",
            "[3, 2, 1, 0]\n",
            "Insert 4\n",
            "[4, 3, 2, 1, 0]\n",
            "Insert 5\n",
            "[5, 4, 3, 2, 1, 0]\n",
            "Insert 6\n",
            "[6, 5, 4, 3, 2, 1, 0]\n",
            "Insert 7\n",
            "[7, 6, 5, 4, 3, 2, 1, 0]\n",
            "Insert 8\n",
            "[8, 7, 6, 5, 4, 3, 2, 1, 0]\n",
            "Insert 9\n",
            "[9, 8, 7, 6, 5, 4, 3, 2, 1, 0]\n",
            "Hasil :  [9, 8, 7, 6, 5, 4, 3, 2, 1, 0]\n"
          ]
        }
      ],
      "source": [
        "def strangeListFunction(n):\n",
        "    strangeList = []\n",
        "\n",
        "    for i in range(0, n):\n",
        "        print(\"Insert\",i)\n",
        "        strangeList.insert(0, i)\n",
        "        print(strangeList)\n",
        "\n",
        "    return strangeList\n",
        "\n",
        "#Call the Function here\n",
        "print(\"Hasil : \", strangeListFunction(10))"
      ]
    },
    {
      "cell_type": "markdown",
      "metadata": {
        "id": "KUdX9LkxyH3c"
      },
      "source": [
        "### Latihan\n",
        "\n",
        "Tugas Anda adalah menulis dan menguji fungsi yang menerima satu argumen (tahun) dan mengembalikan `True` jika tahun tersebut merupakan tahun kabisat, atau `False` jika tidak.\n",
        "\n",
        "Benih fungsi tersebut sudah disemai dalam kode kerangka di editor.\n",
        "\n",
        "Catatan: kami juga telah menyiapkan kode pengujian singkat, yang dapat Anda gunakan untuk menguji fungsi Anda.\n",
        "\n",
        "Kode ini menggunakan dua daftar - satu berisi data uji, dan yang lainnya berisi hasil yang diharapkan. Kode ini akan memberi tahu Anda jika ada hasil yang tidak valid.\n",
        "\n",
        "```python\n",
        "def isYearLeap(year):\n",
        "#\n",
        "# put your code here\n",
        "#\n",
        "\n",
        "testData = [1900, 2000, 2016, 1987]\n",
        "testResults = [False, True, True, False]\n",
        "for i in range(len(testData)):\n",
        "\tyr = testData[i]\n",
        "\tprint(yr,\"->\",end=\"\")\n",
        "\tresult = isYearLeap(yr)\n",
        "\tif result == testResults[i]:\n",
        "\t\tprint(\"OK\")\n",
        "\telse:\n",
        "\t\tprint(\"Failed\")\n",
        "        \n",
        "```\n"
      ]
    },
    {
      "cell_type": "code",
      "execution_count": 21,
      "metadata": {
        "colab": {
          "base_uri": "https://localhost:8080/"
        },
        "id": "NbesOvdvyH3c",
        "outputId": "9740a89e-87ba-46ff-b69a-b8ccabc74b3d"
      },
      "outputs": [
        {
          "output_type": "stream",
          "name": "stdout",
          "text": [
            "1900 ->OK\n",
            "2000 ->OK\n",
            "2016 ->OK\n",
            "1987 ->OK\n",
            "2004 ->OK\n"
          ]
        }
      ],
      "source": [
        "# Function Test tahun Kabisat\n",
        "def isYearLeap(year):\n",
        "    if (year % 4) == 0:\n",
        "        if (year % 100) == 0:\n",
        "            if (year % 400) == 0:\n",
        "                return True\n",
        "            else:\n",
        "                return False\n",
        "        else:\n",
        "            return True\n",
        "    else:\n",
        "        return False\n",
        "\n",
        "testData = [1900, 2000, 2016, 1987,2004]\n",
        "testResults = [False, True, True, False, True]\n",
        "for i in range(len(testData)):\n",
        "    yr = testData[i]\n",
        "    print(yr,\"->\",end=\"\")\n",
        "    result = isYearLeap(yr)\n",
        "    if result == testResults[i]:\n",
        "        print(\"OK\")\n",
        "    else:\n",
        "        print(\"Failed\")"
      ]
    },
    {
      "cell_type": "markdown",
      "metadata": {
        "id": "x1nQtanHyH3c"
      },
      "source": [
        "## Scope in Function"
      ]
    },
    {
      "cell_type": "code",
      "execution_count": 22,
      "metadata": {
        "colab": {
          "base_uri": "https://localhost:8080/"
        },
        "id": "hB97kXMCyH3c",
        "outputId": "722471c5-2a67-40f6-d4f6-73a196e1593d"
      },
      "outputs": [
        {
          "output_type": "stream",
          "name": "stdout",
          "text": [
            "90\n",
            "120\n"
          ]
        }
      ],
      "source": [
        "def scopeTest():\n",
        "    print(a)\n",
        "    b = 120\n",
        "    print(b)\n",
        "\n",
        "#Call the Function here\n",
        "\n",
        "a = 90\n",
        "scopeTest()"
      ]
    },
    {
      "cell_type": "code",
      "execution_count": 23,
      "metadata": {
        "colab": {
          "base_uri": "https://localhost:8080/"
        },
        "id": "LjZVxMhuyH3d",
        "outputId": "4cf5d555-8a9e-4f31-a057-d6bb60e19d6a"
      },
      "outputs": [
        {
          "output_type": "stream",
          "name": "stdout",
          "text": [
            "Do I know that variable? 1\n",
            "1\n"
          ]
        }
      ],
      "source": [
        "def myFunction():\n",
        "    print(\"Do I know that variable?\", var)\n",
        "\n",
        "#Call the Function here\n",
        "var = 1\n",
        "myFunction()\n",
        "print(var)\n",
        "\n",
        "# The answer is: a variable existing outside a function\n",
        "# has a scope inside the functions' bodies."
      ]
    },
    {
      "cell_type": "code",
      "execution_count": 24,
      "metadata": {
        "colab": {
          "base_uri": "https://localhost:8080/"
        },
        "id": "g3bO76McyH3d",
        "outputId": "96b046e7-526d-4c78-e303-73c1f72a1e63"
      },
      "outputs": [
        {
          "output_type": "stream",
          "name": "stdout",
          "text": [
            "Do I know that variable? 2\n",
            "2\n"
          ]
        }
      ],
      "source": [
        "def myFunction():\n",
        "    global var\n",
        "    var = 2\n",
        "    print(\"Do I know that variable?\", var)\n",
        "\n",
        "#Call the Function here\n",
        "var = 1\n",
        "myFunction()\n",
        "print(var)\n",
        "\n",
        "# There's a special Python method which can extend a variable's scope\n",
        "# in a way which includes the functions' bodies\n",
        "# (even if you want not only to read the values, but also to modify them)."
      ]
    },
    {
      "cell_type": "code",
      "execution_count": 25,
      "metadata": {
        "colab": {
          "base_uri": "https://localhost:8080/"
        },
        "id": "3wAkHOPiyH3d",
        "outputId": "57287670-448c-4d45-8f2c-182054aed74f"
      },
      "outputs": [
        {
          "output_type": "stream",
          "name": "stdout",
          "text": [
            "I got 1\n",
            "I have 2\n",
            "1\n"
          ]
        }
      ],
      "source": [
        "def myFunction(n):\n",
        "    print(\"I got\", n)\n",
        "    n += 1\n",
        "    print(\"I have\", n)\n",
        "\n",
        "#Call the Function here\n",
        "var = 1\n",
        "myFunction(var)\n",
        "\n",
        "print(var)\n",
        "\n",
        "#changing the parameter's value doesn't propagate outside the function"
      ]
    },
    {
      "cell_type": "markdown",
      "metadata": {
        "id": "KVCyjeNQyH3d"
      },
      "source": [
        "# Some Function Examples"
      ]
    },
    {
      "cell_type": "markdown",
      "metadata": {
        "id": "KnZ5qIBbyH3d"
      },
      "source": [
        "## BMI\n",
        "(Body Mass Index)"
      ]
    },
    {
      "cell_type": "code",
      "execution_count": 26,
      "metadata": {
        "colab": {
          "base_uri": "https://localhost:8080/"
        },
        "id": "CJNjfqT0yH3d",
        "outputId": "b21bd034-be08-4425-f116-f9de24d0c018"
      },
      "outputs": [
        {
          "output_type": "stream",
          "name": "stdout",
          "text": [
            "22.758306781975424\n"
          ]
        }
      ],
      "source": [
        "def bmi(weight, height):\n",
        "    return weight / height ** 2\n",
        "\n",
        "print(bmi(65, 1.69))"
      ]
    },
    {
      "cell_type": "code",
      "execution_count": 27,
      "metadata": {
        "colab": {
          "base_uri": "https://localhost:8080/"
        },
        "id": "HC-ATYnAyH3d",
        "outputId": "84489bb8-9263-456c-af99-05a9b44ae06d"
      },
      "outputs": [
        {
          "output_type": "stream",
          "name": "stdout",
          "text": [
            "24.508945765204302\n"
          ]
        }
      ],
      "source": [
        "def bmi(weight, height):\n",
        "    if height < 1.0 \\\n",
        "    or height > 2.5 \\\n",
        "    or weight < 20 \\\n",
        "    or weight > 200:\n",
        "        return None\n",
        "\n",
        "    return weight / height ** 2\n",
        "\n",
        "print(bmi(70, 1.69))"
      ]
    },
    {
      "cell_type": "markdown",
      "metadata": {
        "id": "bk79oRB4yH3d"
      },
      "source": [
        "## Segitiga"
      ]
    },
    {
      "cell_type": "code",
      "execution_count": 28,
      "metadata": {
        "colab": {
          "base_uri": "https://localhost:8080/"
        },
        "id": "-nu_wXnwyH3e",
        "outputId": "b3138354-3a2b-4854-a262-2e009543e181"
      },
      "outputs": [
        {
          "output_type": "stream",
          "name": "stdout",
          "text": [
            "True\n",
            "True\n"
          ]
        }
      ],
      "source": [
        "def isItATriangle(a, b, c):\n",
        "    if a + b <= c:\n",
        "        return False\n",
        "    if b + c <= a:\n",
        "        return False\n",
        "    if c + a <= b:\n",
        "        return False\n",
        "\n",
        "    return True\n",
        "\n",
        "#Call the Function here\n",
        "print(isItATriangle(1,1,1))\n",
        "print(isItATriangle(1,2,2))"
      ]
    },
    {
      "cell_type": "code",
      "execution_count": 30,
      "metadata": {
        "colab": {
          "base_uri": "https://localhost:8080/"
        },
        "id": "OpgaEHgYyH3e",
        "outputId": "bf76a4b3-36bb-447c-b71a-08f8c9b4ecb1"
      },
      "outputs": [
        {
          "output_type": "stream",
          "name": "stdout",
          "text": [
            "Masukkan panjang sisi pertama:20\n",
            "Masukkan panjang sisi kedua: 10\n",
            "Masukkan panjang sisi ketiga: 32\n",
            "Maaf, itu bukan segitiga.\n"
          ]
        }
      ],
      "source": [
        "def isItATriangle(a, b, c):\n",
        "    return a + b > c and b + c > a and c + a > b\n",
        "\n",
        "a = float(input(\"Masukkan panjang sisi pertama:\"))\n",
        "b = float(input(\"Masukkan panjang sisi kedua: \"))\n",
        "c = float(input(\"Masukkan panjang sisi ketiga: \"))\n",
        "\n",
        "if isItATriangle(a, b, c):\n",
        "    print(\"Selamat - itu bisa menjadi segitiga.\")\n",
        "else:\n",
        "    print(\"Maaf, itu bukan segitiga.\")"
      ]
    },
    {
      "cell_type": "markdown",
      "metadata": {
        "id": "y2roSELoyH3e"
      },
      "source": [
        "## Faktorial"
      ]
    },
    {
      "cell_type": "code",
      "execution_count": 31,
      "metadata": {
        "colab": {
          "base_uri": "https://localhost:8080/"
        },
        "id": "IghHH3QRyH3h",
        "outputId": "c3ffd1a5-0c5c-4fe5-883a-a69ac96d5e94"
      },
      "outputs": [
        {
          "output_type": "stream",
          "name": "stdout",
          "text": [
            "1 1\n",
            "2 2\n",
            "3 6\n",
            "4 24\n",
            "5 120\n",
            "6 720\n",
            "7 5040\n",
            "8 40320\n",
            "9 362880\n",
            "10 3628800\n",
            "11 39916800\n",
            "12 479001600\n",
            "13 6227020800\n",
            "14 87178291200\n"
          ]
        }
      ],
      "source": [
        "def factorialFun(n):\n",
        "    if n < 0:\n",
        "        return None\n",
        "    if n < 2:\n",
        "        return 1\n",
        "\n",
        "    product = 1\n",
        "    for i in range(2, n + 1):\n",
        "        product *= i\n",
        "    return product\n",
        "\n",
        "#Call the Function here\n",
        "for n in range(1, 15): # testing\n",
        "    print(n, factorialFun(n))"
      ]
    },
    {
      "cell_type": "markdown",
      "metadata": {
        "id": "FUt9w4BNyH3i"
      },
      "source": [
        "## Fibonacci"
      ]
    },
    {
      "cell_type": "code",
      "execution_count": 32,
      "metadata": {
        "colab": {
          "base_uri": "https://localhost:8080/"
        },
        "id": "rlRb6Hm3yH3i",
        "outputId": "93be6313-3ebe-41d4-c8f8-05a2b8847a98"
      },
      "outputs": [
        {
          "output_type": "stream",
          "name": "stdout",
          "text": [
            "1 > 1\n",
            "2 > 1\n",
            "3 > 2\n",
            "4 > 3\n",
            "5 > 5\n",
            "6 > 8\n",
            "7 > 13\n",
            "8 > 21\n",
            "9 > 34\n"
          ]
        }
      ],
      "source": [
        "def fib(n):\n",
        "    if n < 1:\n",
        "         return None\n",
        "    if n < 3:\n",
        "        return 1\n",
        "\n",
        "    elem1 = elem2 = 1\n",
        "    sum = 0\n",
        "    for i in range(3, n + 1):\n",
        "        sum = elem1 + elem2\n",
        "        elem1, elem2 = elem2, sum\n",
        "    return sum\n",
        "\n",
        "#Call the Function here\n",
        "for n in range(1, 10): #testing\n",
        "    print(n, \">\", fib(n))"
      ]
    },
    {
      "cell_type": "markdown",
      "metadata": {
        "id": "S5s5JVZxyH3i"
      },
      "source": [
        "## Recursion"
      ]
    },
    {
      "cell_type": "code",
      "execution_count": 33,
      "metadata": {
        "colab": {
          "base_uri": "https://localhost:8080/"
        },
        "id": "VBDrcxFcyH3i",
        "outputId": "04495de0-dd45-4196-9b30-15babaee06e3"
      },
      "outputs": [
        {
          "output_type": "stream",
          "name": "stdout",
          "text": [
            "1 -> 1\n",
            "2 -> 1\n",
            "3 -> 2\n",
            "4 -> 3\n",
            "5 -> 5\n",
            "6 -> 8\n",
            "7 -> 13\n",
            "8 -> 21\n",
            "9 -> 34\n",
            "56\n"
          ]
        }
      ],
      "source": [
        "#recursion 1\n",
        "def fib(n):\n",
        "    if n < 1:\n",
        "        return None\n",
        "    if n < 3:\n",
        "        return 1\n",
        "    return fib(n - 1) + fib(n - 2)\n",
        "\n",
        "for n in range(1, 10): # testing\n",
        "    print(n, \"->\", fib(n))\n",
        "\n",
        "#recursion 2\n",
        "\n",
        "def fun(a):\n",
        "    if a > 30:\n",
        "        return 3\n",
        "    else:\n",
        "        return a + fun(a + 3)\n",
        "\n",
        "\n",
        "print(fun(25))\n"
      ]
    },
    {
      "cell_type": "markdown",
      "metadata": {
        "id": "AvqYvMPMyH3i"
      },
      "source": [
        "#### Contoh Kasus Stop Word Removal"
      ]
    },
    {
      "cell_type": "code",
      "execution_count": 34,
      "metadata": {
        "colab": {
          "base_uri": "https://localhost:8080/"
        },
        "id": "d_lUXQPKyH3i",
        "outputId": "e589d70a-6f22-49e3-ff51-83882182ab45"
      },
      "outputs": [
        {
          "output_type": "stream",
          "name": "stdout",
          "text": [
            "ibu pergi pasar bapak\n"
          ]
        }
      ],
      "source": [
        "kalimat = \"Ibu pergi ke pasar dengan Bapak\"\n",
        "stopw = ['ke','dengan','saya','dia']\n",
        "\n",
        "def removeStop(sentence):\n",
        "#     words = []\n",
        "    words = [word for word in sentence.split() if word not in stopw]\n",
        "#     for word in sentence.split():\n",
        "#         if word not in stopw:\n",
        "#             words.append(word)\n",
        "\n",
        "    return ' '.join(words)\n",
        "\n",
        "# print('ke' in kalimat.split())\n",
        "kalimat_stop = removeStop(kalimat.lower())\n",
        "\n",
        "print(kalimat_stop)\n",
        "# output kalimat_stop: Ibu pergi pasar Bapak\"\n",
        "\n"
      ]
    },
    {
      "cell_type": "markdown",
      "metadata": {
        "id": "JRgY3iJ4yH3j"
      },
      "source": [
        "# Tuples and Dictionaries"
      ]
    },
    {
      "cell_type": "markdown",
      "metadata": {
        "id": "UAZci6JqyH3j"
      },
      "source": [
        "##### List VS Tuple\n",
        "List datanya bisa dirubah selama eksekusi program, sifatnya bernama mutable\n",
        "Sebaliknya tuple tidak bisa, sifatnya dinamakan immutable. Persamaannya keduanya sama-sama bisa menyimpan banyak nilai sekaligus dalam satu tipe data (sequence type)"
      ]
    },
    {
      "cell_type": "markdown",
      "metadata": {
        "id": "C1iG-yQgyH3j"
      },
      "source": [
        "## Tuples\n",
        "Tuple adalah kumpulan data yang terurut dan tidak dapat diubah (immutable). Tuple dapat dianggap sebagai daftar yang tidak dapat diubah. Tuple ditulis dalam tanda kurung bulat:"
      ]
    },
    {
      "cell_type": "code",
      "execution_count": 35,
      "metadata": {
        "colab": {
          "base_uri": "https://localhost:8080/"
        },
        "id": "u4CKPTVXyH3j",
        "outputId": "3a0ed8d0-0360-4f85-ed04-c20b75ac706c"
      },
      "outputs": [
        {
          "output_type": "stream",
          "name": "stdout",
          "text": [
            "(1, 2, True, 'a string', (3, 4), [5, 6], None)\n",
            "[1, 2, True, 'a string', (3, 4), [5, 6], None]\n"
          ]
        }
      ],
      "source": [
        "myTuple = (1, 2, True, \"a string\", (3, 4), [5, 6], None)\n",
        "#Print Function here\n",
        "print(myTuple)\n",
        "\n",
        "myList = [1, 2, True, \"a string\", (3, 4), [5, 6], None]\n",
        "#Print Function here\n",
        "print(myList)\n"
      ]
    },
    {
      "cell_type": "code",
      "execution_count": 36,
      "metadata": {
        "colab": {
          "base_uri": "https://localhost:8080/"
        },
        "id": "GexllC7XyH3j",
        "outputId": "61358c1f-e0da-4fc2-edf2-3bb79a9f8b32"
      },
      "outputs": [
        {
          "output_type": "stream",
          "name": "stdout",
          "text": [
            "(1, 2, 3, 4)\n",
            "(1.0, 0.5, 0.25, 0.124)\n"
          ]
        }
      ],
      "source": [
        "tup1 = (1,2,3,4)\n",
        "tup2 = 1.0, .5, .25, .124\n",
        "\n",
        "print(tup1)\n",
        "print(tup2)"
      ]
    },
    {
      "cell_type": "code",
      "execution_count": 37,
      "metadata": {
        "colab": {
          "base_uri": "https://localhost:8080/"
        },
        "id": "JuL2FzinyH3j",
        "outputId": "3bbf199c-a722-4e55-a88d-c81129610626"
      },
      "outputs": [
        {
          "output_type": "stream",
          "name": "stdout",
          "text": [
            "<class 'tuple'>\n"
          ]
        }
      ],
      "source": [
        "emptyTuple = ()\n",
        "print(type(emptyTuple))"
      ]
    },
    {
      "cell_type": "code",
      "execution_count": 38,
      "metadata": {
        "colab": {
          "base_uri": "https://localhost:8080/"
        },
        "id": "XPhztdSIyH3j",
        "outputId": "5a9ea435-9923-4913-cfcc-6c18cf0388e5"
      },
      "outputs": [
        {
          "output_type": "stream",
          "name": "stdout",
          "text": [
            "1\n",
            "1000\n",
            "(10, 100, 1000)\n",
            "(1, 10)\n",
            "1 10 100 1000 "
          ]
        }
      ],
      "source": [
        "myTuple = (1, 10, 100, 1000)\n",
        "\n",
        "print(myTuple[0])\n",
        "print(myTuple[-1])\n",
        "print(myTuple[1:])\n",
        "print(myTuple[:-2])\n",
        "\n",
        "for elem in myTuple:\n",
        "    print(elem, end = \" \")"
      ]
    },
    {
      "cell_type": "code",
      "execution_count": 39,
      "metadata": {
        "id": "VzzI9yMKyH3k"
      },
      "outputs": [],
      "source": [
        "myTuple = (1, 10, 100, 1000)\n",
        "\n",
        "#Tuple operation ?\n",
        "\n",
        "# myTuple.append(10000)\n",
        "# del myTuple[0]\n",
        "# myTuple[1] = -10"
      ]
    },
    {
      "cell_type": "code",
      "execution_count": 40,
      "metadata": {
        "colab": {
          "base_uri": "https://localhost:8080/"
        },
        "id": "Kh8SBlFyyH3k",
        "outputId": "99feba17-c7bb-443a-d28f-2413dfbc16f5"
      },
      "outputs": [
        {
          "output_type": "stream",
          "name": "stdout",
          "text": [
            "<class 'tuple'>\n",
            "1\n",
            "100\n",
            "(10, 100)\n",
            "(1,)\n"
          ]
        }
      ],
      "source": [
        "myTuple = (1, 10, 100)\n",
        "print(type(myTuple))\n",
        "\n",
        "#Tuple operation\n",
        "print(myTuple[0])\n",
        "print(myTuple[-1])\n",
        "print(myTuple[1:])\n",
        "print(myTuple[:-2])\n",
        "# Print Function here"
      ]
    },
    {
      "cell_type": "code",
      "execution_count": 41,
      "metadata": {
        "colab": {
          "base_uri": "https://localhost:8080/"
        },
        "id": "4iFw2Ch1yH3k",
        "outputId": "77867936-cb60-4e4f-d410-6bdc84b6a4b8"
      },
      "outputs": [
        {
          "output_type": "stream",
          "name": "stdout",
          "text": [
            "1\n",
            "2\n",
            "3\n",
            "False\n",
            "True\n",
            "4\n",
            "(1, 2, 3, 1, 2, 3, 4)\n",
            "(1, 2, 3, 5, 1, 2, 3, 5)\n"
          ]
        }
      ],
      "source": [
        "# Example 1\n",
        "t1 = (1, 2, 3)\n",
        "for elem in t1:\n",
        "    print(elem)\n",
        "\n",
        "# Example 2\n",
        "t2 = (1, 2, 3, 4)\n",
        "print(5 in t2)\n",
        "print(5 not in t2)\n",
        "\n",
        "# Example 3\n",
        "t3 = (1, 2, 3, 5)\n",
        "print(len(t3))\n",
        "\n",
        "# Example 4\n",
        "t4 = t1 + t2\n",
        "t5 = t3 * 2\n",
        "\n",
        "print(t4)\n",
        "print(t5)"
      ]
    },
    {
      "cell_type": "markdown",
      "metadata": {
        "id": "AjeOJ5dFyH3k"
      },
      "source": [
        "## Dictionaries"
      ]
    },
    {
      "cell_type": "markdown",
      "metadata": {
        "id": "VIxwwkKEyH3k"
      },
      "source": [
        "Dalam dunia Python, kata yang Anda cari disebut kunci. Kata yang Anda dapatkan dari kamus disebut nilai.\n",
        "\n",
        "Kamus adalah kumpulan data yang tidak berurutan*, dapat diubah (mutable), dan terindeks. (*Dalam Python 3.6x, kamus telah diurutkan secara default.\n",
        "\n",
        "Ini berarti kamus adalah sekumpulan pasangan kunci-nilai. Catatan:\n",
        "\n",
        "- setiap kunci harus unik - tidak mungkin memiliki lebih dari satu kunci dengan nilai yang sama;\n",
        "- kunci dapat berupa data bertipe apa pun: dapat berupa angka (integer atau float), atau bahkan string;\n",
        "- kamus bukanlah daftar - daftar berisi sekumpulan nilai bernomor, sementara kamus menyimpan pasangan nilai;\n",
        "- fungsi len() juga berfungsi untuk kamus - fungsi ini mengembalikan jumlah elemen kunci-nilai dalam kamus;\n",
        "- kamus adalah alat satu arah - jika Anda memiliki kamus Inggris-Prancis, Anda dapat mencari padanan bahasa Prancis untuk istilah bahasa Inggris, tetapi tidak sebaliknya."
      ]
    },
    {
      "cell_type": "code",
      "execution_count": 42,
      "metadata": {
        "colab": {
          "base_uri": "https://localhost:8080/"
        },
        "id": "oc50jAcyyH3k",
        "outputId": "f1c8d7ad-1621-44f0-df57-c1538f130f17"
      },
      "outputs": [
        {
          "output_type": "stream",
          "name": "stdout",
          "text": [
            "\n",
            "{'boss': 5551234567, 'Suzy': [22657854310, 52852352]}\n",
            "{}\n"
          ]
        }
      ],
      "source": [
        "kamus = {\"cat\" : \"chat\", \"dog\" : \"chien\", \"horse\" : \"cheval\"}\n",
        "phoneNumbers = {'boss' : 5551234567, 'Suzy' : [22657854310,52852352]}\n",
        "emptyDictionary = {}\n",
        "\n",
        "print()\n",
        "print(phoneNumbers)\n",
        "print(emptyDictionary)"
      ]
    },
    {
      "cell_type": "code",
      "execution_count": 43,
      "metadata": {
        "colab": {
          "base_uri": "https://localhost:8080/"
        },
        "id": "qHYX6jPnyH3k",
        "outputId": "3192a934-4667-45cf-e9a7-cbe2b9f40328"
      },
      "outputs": [
        {
          "output_type": "stream",
          "name": "stdout",
          "text": [
            "chat\n",
            "[22657854310, 52852352]\n",
            "22657854310\n"
          ]
        }
      ],
      "source": [
        "print(kamus['cat'])\n",
        "print(phoneNumbers['Suzy'])\n",
        "print(phoneNumbers['Suzy'][0])"
      ]
    },
    {
      "cell_type": "code",
      "execution_count": 44,
      "metadata": {
        "colab": {
          "base_uri": "https://localhost:8080/"
        },
        "id": "eJix8q6eyH3l",
        "outputId": "9071b7a7-b410-4289-ae97-9076c4708db1"
      },
      "outputs": [
        {
          "output_type": "stream",
          "name": "stdout",
          "text": [
            "horse cheval\n",
            "cat chat\n",
            "dog chien\n"
          ]
        }
      ],
      "source": [
        "dict = {\"horse\" : \"cheval\", \"cat\" : \"chat\", \"dog\" : \"chien\"}\n",
        "\n",
        "for key in dict.keys():\n",
        "    print(key,dict[key])"
      ]
    },
    {
      "cell_type": "code",
      "execution_count": 45,
      "metadata": {
        "colab": {
          "base_uri": "https://localhost:8080/"
        },
        "id": "oWKU4D0SyH3l",
        "outputId": "8da2f19b-e5ad-4423-f911-bcd298f11732"
      },
      "outputs": [
        {
          "output_type": "stream",
          "name": "stdout",
          "text": [
            "cat -> chat\n",
            "dog -> chien\n",
            "horse -> cheval\n"
          ]
        }
      ],
      "source": [
        "for key in sorted(dict.keys()):\n",
        "    print(key, \"->\", dict[key])"
      ]
    },
    {
      "cell_type": "markdown",
      "metadata": {
        "id": "W9-vB23NyH3l"
      },
      "source": [
        "### items and values"
      ]
    },
    {
      "cell_type": "code",
      "execution_count": 46,
      "metadata": {
        "colab": {
          "base_uri": "https://localhost:8080/"
        },
        "id": "sqhjv4UIyH3l",
        "outputId": "74bfe648-731e-4cf4-be94-7e467c909895"
      },
      "outputs": [
        {
          "output_type": "stream",
          "name": "stdout",
          "text": [
            "cat -> chat\n",
            "dog -> chien\n",
            "horse -> cheval\n"
          ]
        }
      ],
      "source": [
        "dict = {\"cat\" : \"chat\", \"dog\" : \"chien\", \"horse\" : \"cheval\"}\n",
        "\n",
        "for english, french in dict.items():\n",
        "    print(english, \"->\", french)"
      ]
    },
    {
      "cell_type": "code",
      "execution_count": 47,
      "metadata": {
        "colab": {
          "base_uri": "https://localhost:8080/"
        },
        "id": "ZOWW_dYTyH3l",
        "outputId": "f6f7e57e-926b-4d71-b0a8-c07f126a8fae"
      },
      "outputs": [
        {
          "output_type": "stream",
          "name": "stdout",
          "text": [
            "chat\n",
            "chien\n",
            "cheval\n"
          ]
        }
      ],
      "source": [
        "dict = {\"cat\" : \"chat\", \"dog\" : \"chien\", \"horse\" : \"cheval\"}\n",
        "\n",
        "for french in dict.values():\n",
        "    print(french)"
      ]
    },
    {
      "cell_type": "code",
      "execution_count": 48,
      "metadata": {
        "colab": {
          "base_uri": "https://localhost:8080/"
        },
        "id": "OctxO7AJyH3l",
        "outputId": "4dfc9b36-3ec1-4d1e-8b30-8661a6b4d6b7"
      },
      "outputs": [
        {
          "output_type": "stream",
          "name": "stdout",
          "text": [
            "cat -> chat\n",
            "lion is not in dictionary\n",
            "horse -> cheval\n",
            "mouse is not in dictionary\n"
          ]
        }
      ],
      "source": [
        "dict = {\"cat\" : \"chat\", \"dog\" : \"chien\", \"horse\" : \"cheval\"}\n",
        "words = ['cat', 'lion', 'horse','mouse']\n",
        "\n",
        "for word in words:\n",
        "    if word in dict:\n",
        "        print(word, \"->\", dict[word])\n",
        "    else:\n",
        "        print(word, \"is not in dictionary\")"
      ]
    },
    {
      "cell_type": "markdown",
      "metadata": {
        "id": "CMmsIkqyyH3l"
      },
      "source": [
        "### Replace"
      ]
    },
    {
      "cell_type": "code",
      "execution_count": 49,
      "metadata": {
        "colab": {
          "base_uri": "https://localhost:8080/"
        },
        "id": "nxejN5VUyH3m",
        "outputId": "6cca29ff-ad5b-40b8-8148-2b1d67a3284e"
      },
      "outputs": [
        {
          "output_type": "stream",
          "name": "stdout",
          "text": [
            "{'cat': 'minou', 'dog': 'chien', 'horse': 'cheval'}\n"
          ]
        }
      ],
      "source": [
        "dict = {\"cat\" : \"chat\", \"dog\" : \"chien\", \"horse\" : \"cheval\"}\n",
        "\n",
        "dict['cat'] = 'minou'\n",
        "print(dict)"
      ]
    },
    {
      "cell_type": "markdown",
      "metadata": {
        "id": "9wn1LPyYyH3m"
      },
      "source": [
        "### Adding new key"
      ]
    },
    {
      "cell_type": "code",
      "execution_count": 50,
      "metadata": {
        "colab": {
          "base_uri": "https://localhost:8080/"
        },
        "id": "HOt-RJeMyH3m",
        "outputId": "9eb6853b-edfe-417d-87f4-117b408d7b8a"
      },
      "outputs": [
        {
          "output_type": "stream",
          "name": "stdout",
          "text": [
            "{'cat': 'chat', 'dog': 'chien', 'horse': 'cheval', 'swan': 'cygne', 'animal': 'hewan'}\n",
            "animal hewan\n",
            "cat chat\n",
            "dog chien\n",
            "horse cheval\n",
            "swan cygne\n"
          ]
        }
      ],
      "source": [
        "dict = {\"cat\" : \"chat\", \"dog\" : \"chien\", \"horse\" : \"cheval\"}\n",
        "\n",
        "dict['swan'] = 'cygne'\n",
        "dict['animal'] = 'hewan'\n",
        "print(dict)\n",
        "\n",
        "for key in sorted(dict.keys()):\n",
        "    print(key,dict[key])"
      ]
    },
    {
      "cell_type": "markdown",
      "metadata": {
        "id": "NwNXZS0byH3m"
      },
      "source": [
        "### Tuple dan Kamus Bekerja Bersama\n",
        "\n"
      ]
    },
    {
      "cell_type": "markdown",
      "metadata": {
        "id": "NwA-SlT3yH3m"
      },
      "source": [
        "- baris 1: buat kamus kosong untuk data masukan; nama siswa digunakan sebagai kunci, sementara semua skor terkait disimpan dalam sebuah tupel (tupel tersebut bisa berupa nilai kamus - itu sama sekali bukan masalah)\n",
        "- baris 3: masukkan loop \"tak terbatas\" (jangan khawatir, loop akan berhenti di saat yang tepat)\n",
        "- baris 4: baca nama siswa di sini;\n",
        "- baris 5-6: jika namanya keluar, keluar dari loop;\n",
        "- baris 8: minta salah satu skor siswa (bilangan bulat dari rentang 1-10)\n",
        "- baris 10-11: jika nama siswa sudah ada di kamus, perpanjang tupel terkait dengan skor baru (perhatikan operator +=)\n",
        "- baris 12-13: jika ini adalah siswa baru (tidak diketahui kamus), buat entri baru - nilainya adalah tupel satu elemen yang berisi skor yang dimasukkan; - baris 15: iterasi melalui nama-nama siswa yang telah diurutkan;\n",
        "- baris 16-17: inisialisasi data yang diperlukan untuk mengevaluasi rata-rata (penjumlahan dan penghitung)\n",
        "- baris 18-20: iterasi melalui tupel, mengambil semua skor berikutnya dan memperbarui penjumlahan, beserta penghitungnya;\n",
        "- baris 21: evaluasi dan cetak nama siswa dan skor rata-rata."
      ]
    },
    {
      "cell_type": "code",
      "execution_count": 51,
      "metadata": {
        "colab": {
          "base_uri": "https://localhost:8080/"
        },
        "id": "H9w1ZDpbyH3m",
        "outputId": "c906b6a8-6a7a-47e0-d632-4d07347bedea"
      },
      "outputs": [
        {
          "output_type": "stream",
          "name": "stdout",
          "text": [
            "Masukkan nama siswa (atau ketik exit untuk berhenti): 23\n",
            "Masukkan skor siswa (0-10): 12\n",
            "Masukkan nama siswa (atau ketik exit untuk berhenti): 3123\n",
            "Masukkan skor siswa (0-10): 12\n",
            "Masukkan nama siswa (atau ketik exit untuk berhenti): exit\n",
            "{'23': (12,), '3123': (12,)}\n",
            "23 : 12.0\n",
            "3123 : 12.0\n"
          ]
        }
      ],
      "source": [
        "schoolClass = {}\n",
        "\n",
        "while True:\n",
        "    name = input(\"Masukkan nama siswa (atau ketik exit untuk berhenti): \")\n",
        "    if name == 'exit':\n",
        "        break\n",
        "\n",
        "    score = int(input(\"Masukkan skor siswa (0-10): \"))\n",
        "\n",
        "    if name in schoolClass:\n",
        "        schoolClass[name] += (score,)\n",
        "    else:\n",
        "        schoolClass[name] = (score,)\n",
        "\n",
        "print(schoolClass)\n",
        "\n",
        "for name in sorted(schoolClass.keys()):\n",
        "    sum = 0\n",
        "    counter = 0\n",
        "    for score in schoolClass[name]:\n",
        "        sum += score\n",
        "        counter += 1\n",
        "    print(name, \":\", sum / counter)"
      ]
    },
    {
      "cell_type": "code",
      "execution_count": 52,
      "metadata": {
        "colab": {
          "base_uri": "https://localhost:8080/"
        },
        "id": "Wm1OFMuDyH3n",
        "outputId": "a7ce1de1-c954-46e4-c7e6-78c4801b4b29"
      },
      "outputs": [
        {
          "output_type": "stream",
          "name": "stdout",
          "text": [
            "{'ibu': 3, 'pergi': 1, 'pasar': 1, 'bapak': 1}\n"
          ]
        }
      ],
      "source": [
        "def tf(sentence):\n",
        "    d = {}\n",
        "    for word in sentence.split():\n",
        "        if word not in d:\n",
        "            d[word] = 1\n",
        "        else:\n",
        "            d[word] += 1\n",
        "    return d\n",
        "\n",
        "kalimat = \"Ibu pergi ke pasar dengan Bapak dan Ibu Ibu lain\"\n",
        "stopw.append('dan')\n",
        "stopw.append('lain')\n",
        "kalimat_stop = removeStop(kalimat.lower())\n",
        "tf_kalimat = tf(kalimat_stop)\n",
        "\n",
        "print(tf_kalimat)"
      ]
    },
    {
      "cell_type": "code",
      "execution_count": 53,
      "metadata": {
        "colab": {
          "base_uri": "https://localhost:8080/"
        },
        "id": "we3-9UO7yH3n",
        "outputId": "b07b52f4-ed18-4646-f69e-362e50d8eadc"
      },
      "outputs": [
        {
          "output_type": "stream",
          "name": "stdout",
          "text": [
            "None\n",
            "[5, 6]\n",
            "(3, 4)\n",
            "a string\n",
            "True\n",
            "2\n",
            "1\n"
          ]
        }
      ],
      "source": [
        "myTuple = (1, 2, True, \"a string\", (3, 4), [5, 6], None)\n",
        "#print(myTuple)\n",
        "\n",
        "myList = [1, 2, True, \"a string\", (3, 4), [5, 6], None]\n",
        "#print(myList)\n",
        "\n",
        "for r in myTuple[::-1]:\n",
        "    print(r)"
      ]
    },
    {
      "cell_type": "code",
      "execution_count": 54,
      "metadata": {
        "colab": {
          "base_uri": "https://localhost:8080/"
        },
        "id": "HJaMth9oyH3n",
        "outputId": "a05096e2-2e6e-4769-94b8-e28792058b06"
      },
      "outputs": [
        {
          "output_type": "stream",
          "name": "stdout",
          "text": [
            "<class 'tuple'>\n"
          ]
        }
      ],
      "source": [
        "emptyTuple = ()\n",
        "print(type(emptyTuple))    # outputs: <class 'tuple'>"
      ]
    },
    {
      "cell_type": "code",
      "execution_count": 55,
      "metadata": {
        "colab": {
          "base_uri": "https://localhost:8080/"
        },
        "id": "faKkzgWkyH3n",
        "outputId": "0e0e55a7-6555-49e9-9b05-8c730a507220"
      },
      "outputs": [
        {
          "output_type": "stream",
          "name": "stdout",
          "text": [
            "[1, 2, True, 'a string', (3, 4), [5, 6], None]\n",
            "(1, 2, True, 'a string', (3, 4), [5, 6], None)\n"
          ]
        }
      ],
      "source": [
        "myListTuple = list(myTuple)\n",
        "print(myListTuple)\n",
        "myTupleLagi = tuple(myListTuple)\n",
        "print(myTupleLagi)"
      ]
    },
    {
      "cell_type": "code",
      "execution_count": 56,
      "metadata": {
        "colab": {
          "base_uri": "https://localhost:8080/"
        },
        "id": "3VPTm9ATyH3n",
        "outputId": "336b86da-78a7-4f5f-d913-ac1ddf008c7a"
      },
      "outputs": [
        {
          "output_type": "stream",
          "name": "stdout",
          "text": [
            "<class 'tuple'>\n",
            "2\n",
            "<class 'list'>\n"
          ]
        }
      ],
      "source": [
        "oneElemTup1 = (\"one\",  )    # brackets dan koma, kalau tidak ada komanya jadi string\n",
        "oneElemTup2 = \"one\",     # no brackets, just a comma\n",
        "\n",
        "print(type(oneElemTup1))\n",
        "print(len(oneElemTup1+oneElemTup2))\n",
        "\n",
        "oneElemList = ['one']\n",
        "print(type(oneElemList))"
      ]
    },
    {
      "cell_type": "code",
      "execution_count": 57,
      "metadata": {
        "colab": {
          "base_uri": "https://localhost:8080/"
        },
        "id": "2vyKPJ43yH3o",
        "outputId": "5a7a5e17-f294-4503-da90-f0c8341adf80"
      },
      "outputs": [
        {
          "output_type": "stream",
          "name": "stdout",
          "text": [
            "1\n",
            "2\n",
            "3\n",
            "False\n",
            "True\n",
            "4\n",
            "(1, 2, 3, 1, 2, 3, 4)\n",
            "(1, 2, 3, 5, 1, 2, 3, 5)\n"
          ]
        }
      ],
      "source": [
        "# Example 1\n",
        "t1 = (1, 2, 3)\n",
        "for elem in t1:\n",
        "    print(elem)\n",
        "\n",
        "# Example 2\n",
        "t2 = (1, 2, 3, 4)\n",
        "print(5 in t2)\n",
        "print(5 not in t2)\n",
        "\n",
        "# Example 3\n",
        "t3 = (1, 2, 3, 5)\n",
        "print(len(t3))\n",
        "\n",
        "# Example 4\n",
        "t4 = t1 + t2\n",
        "t5 = t3 * 2\n",
        "\n",
        "print(t4)\n",
        "print(t5)\n"
      ]
    },
    {
      "cell_type": "code",
      "execution_count": 58,
      "metadata": {
        "colab": {
          "base_uri": "https://localhost:8080/"
        },
        "id": "vsuDQGdRyH3o",
        "outputId": "9a88e16f-87da-4c05-e582-2c5b58e5ed0f"
      },
      "outputs": [
        {
          "output_type": "stream",
          "name": "stdout",
          "text": [
            "79\n"
          ]
        }
      ],
      "source": [
        "import pprint\n",
        "pp = pprint.PrettyPrinter(indent=4)\n",
        "\n",
        "mahasiswa = [\n",
        "    {\n",
        "        'nim' : '08/123123/PA/123213',\n",
        "        'nama' : 'Igdo Ragil Manuel',\n",
        "        'nilai' : [80,90,75,30]\n",
        "    },\n",
        "    {\n",
        "        'nim' : '08/213123/PA/98120',\n",
        "        'nama' : 'Supeni Mulyono',\n",
        "        'nilai' : [100,90,77,110]\n",
        "    }\n",
        "]\n",
        "mahasiswa_baru = {\n",
        "    'nim' : '12/12414/PA/12312',\n",
        "    'nama' : 'Mukhozinn Zekki'\n",
        "}\n",
        "\n",
        "mahasiswa.append(mahasiswa_baru)\n",
        "mahasiswa[0]['nilai'].append(79)\n",
        "mahasiswa[2]['nilai'] = [80,100,95,25]\n",
        "\n",
        "#pp.pprint(mahasiswa)\n",
        "pp.pprint(mahasiswa[0]['nilai'][-1])"
      ]
    },
    {
      "cell_type": "code",
      "execution_count": 60,
      "metadata": {
        "colab": {
          "base_uri": "https://localhost:8080/"
        },
        "id": "OugmhIasyH3o",
        "outputId": "6db52df5-e70a-4756-9ec2-241cca6da9ed"
      },
      "outputs": [
        {
          "output_type": "stream",
          "name": "stdout",
          "text": [
            "Ada dunia pada kalimat \n",
            "Kisah ini bermula dari seorang dewa dan seorang dewi yang karena kesalahan yang dibuatnya di kayangan, akhirnya harus menjalani hukuman di dunia\n",
            "Ada dunia pada kalimat  Keduanya dihukum untuk berbuat kebaikan dalam hidupnya di bumi dalam bentuk seekor babi hutan dan seekor anjing\n",
            "Ada dunia pada kalimat  Babi hutan jelmaan dewi itu bernama Wayung Hyang, sedangkan anjing jelmaan dewa itu bernama Tumang\n",
            "Ada dunia pada kalimat  Wayung Hyang karena dihukum sebagai babi hutan atau celeng, maka ia berusaha melakukan berbagai kebaikan di dalam sebuah hutan\n",
            "Ada dunia pada kalimat  Sementara Tumang, sang anjing jelmaan dewa itu mengabdi sebagai anjing pemburu pada seorang raja yang bernama Sumbing Perbangkara\n",
            "Ada dunia pada kalimat \n",
            "\n"
          ]
        }
      ],
      "source": [
        "paragraf = \"\"\"\n",
        "Kisah ini bermula dari seorang dewa dan seorang dewi yang karena kesalahan yang dibuatnya di kayangan, akhirnya harus menjalani hukuman di dunia. Keduanya dihukum untuk berbuat kebaikan dalam hidupnya di bumi dalam bentuk seekor babi hutan dan seekor anjing. Babi hutan jelmaan dewi itu bernama Wayung Hyang, sedangkan anjing jelmaan dewa itu bernama Tumang. Wayung Hyang karena dihukum sebagai babi hutan atau celeng, maka ia berusaha melakukan berbagai kebaikan di dalam sebuah hutan. Sementara Tumang, sang anjing jelmaan dewa itu mengabdi sebagai anjing pemburu pada seorang raja yang bernama Sumbing Perbangkara.\n",
        "\"\"\"\n",
        "\n",
        "#sintaks ini\n",
        "kalimat = [k.strip().upper() for k in paragraf.split('.')] #memisahkan kalimat berdasarkan titik untuk menjadi list\n",
        "# print(kalimat)\n",
        "\n",
        "#sama dengan ini\n",
        "kalimat_baru = []\n",
        "for k in paragraf.split('.'):\n",
        "    kalimat_baru.append(k.strip())\n",
        "#     if k.endswith('dunia'):\n",
        "#         print(\"Ada Dunia pada kalimat\",k)\n",
        "\n",
        "    if k.find('dunia'):\n",
        "        print(\"Ada dunia pada kalimat\",k)\n",
        "\n",
        "\n",
        "#versi satu satu\n",
        "kalimat_a = paragraf.split('.') #memisahkan kalimat berdasarkan titik di paragraf\n",
        "kalimat_a[1] =  kalimat_a[1].strip() #menghilangkan spasi\n",
        "kalimat_a[2] =  kalimat_a[2].strip() #menghilangkan spasi\n",
        "\n",
        "\n"
      ]
    },
    {
      "cell_type": "code",
      "execution_count": 61,
      "metadata": {
        "colab": {
          "base_uri": "https://localhost:8080/"
        },
        "id": "3tGExw4myH3o",
        "outputId": "d9a5d0b7-f182-4df9-8e64-1453b18f12fb"
      },
      "outputs": [
        {
          "output_type": "stream",
          "name": "stdout",
          "text": [
            "Igdo ragil manuel \n",
            "False\n"
          ]
        }
      ],
      "source": [
        "k = \"Igdo Ragil Manuel \"\n",
        "print(k.capitalize())\n",
        "print(k.endswith(\"budi h\"))\n"
      ]
    }
  ],
  "metadata": {
    "kernelspec": {
      "display_name": "Python 3 (ipykernel)",
      "language": "python",
      "name": "python3"
    },
    "language_info": {
      "codemirror_mode": {
        "name": "ipython",
        "version": 3
      },
      "file_extension": ".py",
      "mimetype": "text/x-python",
      "name": "python",
      "nbconvert_exporter": "python",
      "pygments_lexer": "ipython3",
      "version": "3.9.5"
    },
    "colab": {
      "provenance": [],
      "include_colab_link": true
    }
  },
  "nbformat": 4,
  "nbformat_minor": 0
}