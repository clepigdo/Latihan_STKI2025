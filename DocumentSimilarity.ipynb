{
  "nbformat": 4,
  "nbformat_minor": 0,
  "metadata": {
    "colab": {
      "provenance": [],
      "authorship_tag": "ABX9TyNVPG4DXOjs4xS81tceN2d7",
      "include_colab_link": true
    },
    "kernelspec": {
      "name": "python3",
      "display_name": "Python 3"
    },
    "language_info": {
      "name": "python"
    }
  },
  "cells": [
    {
      "cell_type": "markdown",
      "metadata": {
        "id": "view-in-github",
        "colab_type": "text"
      },
      "source": [
        "<a href=\"https://colab.research.google.com/github/clepigdo/Latihan_STKI2025/blob/main/DocumentSimilarity.ipynb\" target=\"_parent\"><img src=\"https://colab.research.google.com/assets/colab-badge.svg\" alt=\"Open In Colab\"/></a>"
      ]
    },
    {
      "cell_type": "code",
      "execution_count": 5,
      "metadata": {
        "colab": {
          "base_uri": "https://localhost:8080/"
        },
        "id": "0i3Wk0Kmx_Os",
        "outputId": "9c2536b4-c925-4de0-f514-994bd3709fce"
      },
      "outputs": [
        {
          "output_type": "stream",
          "name": "stdout",
          "text": [
            "Drive already mounted at /content/drive; to attempt to forcibly remount, call drive.mount(\"/content/drive\", force_remount=True).\n"
          ]
        }
      ],
      "source": [
        "from google.colab import drive\n",
        "drive.mount('/content/drive')\n"
      ]
    },
    {
      "cell_type": "code",
      "source": [
        "import pandas as pd\n",
        "\n",
        "df = pd.read_csv('/content/drive/MyDrive/Colab Notebooks/Minggu 4/docSimilarity/tmdb_5000_movies.csv.gz', compression='gzip')\n",
        "df.info()"
      ],
      "metadata": {
        "colab": {
          "base_uri": "https://localhost:8080/"
        },
        "id": "GVcxbT_My94Y",
        "outputId": "dc2e565d-0c57-4b0d-b153-0cbeff022ea6"
      },
      "execution_count": 7,
      "outputs": [
        {
          "output_type": "stream",
          "name": "stdout",
          "text": [
            "<class 'pandas.core.frame.DataFrame'>\n",
            "RangeIndex: 4803 entries, 0 to 4802\n",
            "Data columns (total 20 columns):\n",
            " #   Column                Non-Null Count  Dtype  \n",
            "---  ------                --------------  -----  \n",
            " 0   budget                4803 non-null   int64  \n",
            " 1   genres                4803 non-null   object \n",
            " 2   homepage              1712 non-null   object \n",
            " 3   id                    4803 non-null   int64  \n",
            " 4   keywords              4803 non-null   object \n",
            " 5   original_language     4803 non-null   object \n",
            " 6   original_title        4803 non-null   object \n",
            " 7   overview              4800 non-null   object \n",
            " 8   popularity            4803 non-null   float64\n",
            " 9   production_companies  4803 non-null   object \n",
            " 10  production_countries  4803 non-null   object \n",
            " 11  release_date          4802 non-null   object \n",
            " 12  revenue               4803 non-null   int64  \n",
            " 13  runtime               4801 non-null   float64\n",
            " 14  spoken_languages      4803 non-null   object \n",
            " 15  status                4803 non-null   object \n",
            " 16  tagline               3959 non-null   object \n",
            " 17  title                 4803 non-null   object \n",
            " 18  vote_average          4803 non-null   float64\n",
            " 19  vote_count            4803 non-null   int64  \n",
            "dtypes: float64(3), int64(4), object(13)\n",
            "memory usage: 750.6+ KB\n"
          ]
        }
      ]
    },
    {
      "cell_type": "code",
      "source": [
        "!pip install textsearch\n",
        "!pip install contractions\n",
        "nltk.download('punkt')\n",
        "nltk.download('punkt_tab')\n",
        "nltk.download('stopwords')"
      ],
      "metadata": {
        "colab": {
          "base_uri": "https://localhost:8080/"
        },
        "id": "9rdg4oxnCA-A",
        "outputId": "5ed9dfe2-cd19-4b2c-cae9-8b80925be51a"
      },
      "execution_count": 29,
      "outputs": [
        {
          "output_type": "stream",
          "name": "stdout",
          "text": [
            "Requirement already satisfied: textsearch in /usr/local/lib/python3.12/dist-packages (0.0.24)\n",
            "Requirement already satisfied: anyascii in /usr/local/lib/python3.12/dist-packages (from textsearch) (0.3.3)\n",
            "Requirement already satisfied: pyahocorasick in /usr/local/lib/python3.12/dist-packages (from textsearch) (2.2.0)\n",
            "Requirement already satisfied: contractions in /usr/local/lib/python3.12/dist-packages (0.1.73)\n",
            "Requirement already satisfied: textsearch>=0.0.21 in /usr/local/lib/python3.12/dist-packages (from contractions) (0.0.24)\n",
            "Requirement already satisfied: anyascii in /usr/local/lib/python3.12/dist-packages (from textsearch>=0.0.21->contractions) (0.3.3)\n",
            "Requirement already satisfied: pyahocorasick in /usr/local/lib/python3.12/dist-packages (from textsearch>=0.0.21->contractions) (2.2.0)\n"
          ]
        },
        {
          "output_type": "stream",
          "name": "stderr",
          "text": [
            "[nltk_data] Downloading package punkt to /root/nltk_data...\n",
            "[nltk_data]   Package punkt is already up-to-date!\n",
            "[nltk_data] Downloading package punkt_tab to /root/nltk_data...\n",
            "[nltk_data]   Unzipping tokenizers/punkt_tab.zip.\n",
            "[nltk_data] Downloading package stopwords to /root/nltk_data...\n",
            "[nltk_data]   Package stopwords is already up-to-date!\n"
          ]
        },
        {
          "output_type": "execute_result",
          "data": {
            "text/plain": [
              "True"
            ]
          },
          "metadata": {},
          "execution_count": 29
        }
      ]
    },
    {
      "cell_type": "code",
      "source": [
        "df = df[['title', 'tagline', 'overview', 'popularity']]\n",
        "df.tagline.fillna('', inplace=True)\n",
        "df['description'] = df['tagline'].map(str) + ' ' + df['overview']\n",
        "df.dropna(inplace=True)\n",
        "df = df.sort_values(by=['popularity'], ascending=False)\n",
        "df.info()"
      ],
      "metadata": {
        "colab": {
          "base_uri": "https://localhost:8080/"
        },
        "id": "PQGpyBc9zmrp",
        "outputId": "6dfa4d4e-e804-426c-83ea-deff7c11437e"
      },
      "execution_count": 8,
      "outputs": [
        {
          "output_type": "stream",
          "name": "stdout",
          "text": [
            "<class 'pandas.core.frame.DataFrame'>\n",
            "Index: 4800 entries, 546 to 4553\n",
            "Data columns (total 5 columns):\n",
            " #   Column       Non-Null Count  Dtype  \n",
            "---  ------       --------------  -----  \n",
            " 0   title        4800 non-null   object \n",
            " 1   tagline      4800 non-null   object \n",
            " 2   overview     4800 non-null   object \n",
            " 3   popularity   4800 non-null   float64\n",
            " 4   description  4800 non-null   object \n",
            "dtypes: float64(1), object(4)\n",
            "memory usage: 225.0+ KB\n"
          ]
        },
        {
          "output_type": "stream",
          "name": "stderr",
          "text": [
            "/tmp/ipython-input-1993753983.py:2: FutureWarning: A value is trying to be set on a copy of a DataFrame or Series through chained assignment using an inplace method.\n",
            "The behavior will change in pandas 3.0. This inplace method will never work because the intermediate object on which we are setting values always behaves as a copy.\n",
            "\n",
            "For example, when doing 'df[col].method(value, inplace=True)', try using 'df.method({col: value}, inplace=True)' or df[col] = df[col].method(value) instead, to perform the operation inplace on the original object.\n",
            "\n",
            "\n",
            "  df.tagline.fillna('', inplace=True)\n"
          ]
        }
      ]
    },
    {
      "cell_type": "code",
      "source": [
        "df.head()"
      ],
      "metadata": {
        "colab": {
          "base_uri": "https://localhost:8080/",
          "height": 559
        },
        "id": "49a6Ezmk2v12",
        "outputId": "a8081288-af0e-45ba-ccc4-6ce68d1fb591"
      },
      "execution_count": 18,
      "outputs": [
        {
          "output_type": "execute_result",
          "data": {
            "text/plain": [
              "                       title  \\\n",
              "546                  Minions   \n",
              "95              Interstellar   \n",
              "788                 Deadpool   \n",
              "94   Guardians of the Galaxy   \n",
              "127       Mad Max: Fury Road   \n",
              "\n",
              "                                               tagline  \\\n",
              "546       Before Gru, they had a history of bad bosses   \n",
              "95   Mankind was born on Earth. It was never meant ...   \n",
              "788            Witness the beginning of a happy ending   \n",
              "94                         All heroes start somewhere.   \n",
              "127                                 What a Lovely Day.   \n",
              "\n",
              "                                              overview  popularity  \\\n",
              "546  Minions Stuart, Kevin and Bob are recruited by...  875.581305   \n",
              "95   Interstellar chronicles the adventures of a gr...  724.247784   \n",
              "788  Deadpool tells the origin story of former Spec...  514.569956   \n",
              "94   Light years from Earth, 26 years after being a...  481.098624   \n",
              "127  An apocalyptic story set in the furthest reach...  434.278564   \n",
              "\n",
              "                                           description  \n",
              "546  Before Gru, they had a history of bad bosses M...  \n",
              "95   Mankind was born on Earth. It was never meant ...  \n",
              "788  Witness the beginning of a happy ending Deadpo...  \n",
              "94   All heroes start somewhere. Light years from E...  \n",
              "127  What a Lovely Day. An apocalyptic story set in...  "
            ],
            "text/html": [
              "\n",
              "  <div id=\"df-e86401c7-8401-4e11-9c0f-2a0497bb7a53\" class=\"colab-df-container\">\n",
              "    <div>\n",
              "<style scoped>\n",
              "    .dataframe tbody tr th:only-of-type {\n",
              "        vertical-align: middle;\n",
              "    }\n",
              "\n",
              "    .dataframe tbody tr th {\n",
              "        vertical-align: top;\n",
              "    }\n",
              "\n",
              "    .dataframe thead th {\n",
              "        text-align: right;\n",
              "    }\n",
              "</style>\n",
              "<table border=\"1\" class=\"dataframe\">\n",
              "  <thead>\n",
              "    <tr style=\"text-align: right;\">\n",
              "      <th></th>\n",
              "      <th>title</th>\n",
              "      <th>tagline</th>\n",
              "      <th>overview</th>\n",
              "      <th>popularity</th>\n",
              "      <th>description</th>\n",
              "    </tr>\n",
              "  </thead>\n",
              "  <tbody>\n",
              "    <tr>\n",
              "      <th>546</th>\n",
              "      <td>Minions</td>\n",
              "      <td>Before Gru, they had a history of bad bosses</td>\n",
              "      <td>Minions Stuart, Kevin and Bob are recruited by...</td>\n",
              "      <td>875.581305</td>\n",
              "      <td>Before Gru, they had a history of bad bosses M...</td>\n",
              "    </tr>\n",
              "    <tr>\n",
              "      <th>95</th>\n",
              "      <td>Interstellar</td>\n",
              "      <td>Mankind was born on Earth. It was never meant ...</td>\n",
              "      <td>Interstellar chronicles the adventures of a gr...</td>\n",
              "      <td>724.247784</td>\n",
              "      <td>Mankind was born on Earth. It was never meant ...</td>\n",
              "    </tr>\n",
              "    <tr>\n",
              "      <th>788</th>\n",
              "      <td>Deadpool</td>\n",
              "      <td>Witness the beginning of a happy ending</td>\n",
              "      <td>Deadpool tells the origin story of former Spec...</td>\n",
              "      <td>514.569956</td>\n",
              "      <td>Witness the beginning of a happy ending Deadpo...</td>\n",
              "    </tr>\n",
              "    <tr>\n",
              "      <th>94</th>\n",
              "      <td>Guardians of the Galaxy</td>\n",
              "      <td>All heroes start somewhere.</td>\n",
              "      <td>Light years from Earth, 26 years after being a...</td>\n",
              "      <td>481.098624</td>\n",
              "      <td>All heroes start somewhere. Light years from E...</td>\n",
              "    </tr>\n",
              "    <tr>\n",
              "      <th>127</th>\n",
              "      <td>Mad Max: Fury Road</td>\n",
              "      <td>What a Lovely Day.</td>\n",
              "      <td>An apocalyptic story set in the furthest reach...</td>\n",
              "      <td>434.278564</td>\n",
              "      <td>What a Lovely Day. An apocalyptic story set in...</td>\n",
              "    </tr>\n",
              "  </tbody>\n",
              "</table>\n",
              "</div>\n",
              "    <div class=\"colab-df-buttons\">\n",
              "\n",
              "  <div class=\"colab-df-container\">\n",
              "    <button class=\"colab-df-convert\" onclick=\"convertToInteractive('df-e86401c7-8401-4e11-9c0f-2a0497bb7a53')\"\n",
              "            title=\"Convert this dataframe to an interactive table.\"\n",
              "            style=\"display:none;\">\n",
              "\n",
              "  <svg xmlns=\"http://www.w3.org/2000/svg\" height=\"24px\" viewBox=\"0 -960 960 960\">\n",
              "    <path d=\"M120-120v-720h720v720H120Zm60-500h600v-160H180v160Zm220 220h160v-160H400v160Zm0 220h160v-160H400v160ZM180-400h160v-160H180v160Zm440 0h160v-160H620v160ZM180-180h160v-160H180v160Zm440 0h160v-160H620v160Z\"/>\n",
              "  </svg>\n",
              "    </button>\n",
              "\n",
              "  <style>\n",
              "    .colab-df-container {\n",
              "      display:flex;\n",
              "      gap: 12px;\n",
              "    }\n",
              "\n",
              "    .colab-df-convert {\n",
              "      background-color: #E8F0FE;\n",
              "      border: none;\n",
              "      border-radius: 50%;\n",
              "      cursor: pointer;\n",
              "      display: none;\n",
              "      fill: #1967D2;\n",
              "      height: 32px;\n",
              "      padding: 0 0 0 0;\n",
              "      width: 32px;\n",
              "    }\n",
              "\n",
              "    .colab-df-convert:hover {\n",
              "      background-color: #E2EBFA;\n",
              "      box-shadow: 0px 1px 2px rgba(60, 64, 67, 0.3), 0px 1px 3px 1px rgba(60, 64, 67, 0.15);\n",
              "      fill: #174EA6;\n",
              "    }\n",
              "\n",
              "    .colab-df-buttons div {\n",
              "      margin-bottom: 4px;\n",
              "    }\n",
              "\n",
              "    [theme=dark] .colab-df-convert {\n",
              "      background-color: #3B4455;\n",
              "      fill: #D2E3FC;\n",
              "    }\n",
              "\n",
              "    [theme=dark] .colab-df-convert:hover {\n",
              "      background-color: #434B5C;\n",
              "      box-shadow: 0px 1px 3px 1px rgba(0, 0, 0, 0.15);\n",
              "      filter: drop-shadow(0px 1px 2px rgba(0, 0, 0, 0.3));\n",
              "      fill: #FFFFFF;\n",
              "    }\n",
              "  </style>\n",
              "\n",
              "    <script>\n",
              "      const buttonEl =\n",
              "        document.querySelector('#df-e86401c7-8401-4e11-9c0f-2a0497bb7a53 button.colab-df-convert');\n",
              "      buttonEl.style.display =\n",
              "        google.colab.kernel.accessAllowed ? 'block' : 'none';\n",
              "\n",
              "      async function convertToInteractive(key) {\n",
              "        const element = document.querySelector('#df-e86401c7-8401-4e11-9c0f-2a0497bb7a53');\n",
              "        const dataTable =\n",
              "          await google.colab.kernel.invokeFunction('convertToInteractive',\n",
              "                                                    [key], {});\n",
              "        if (!dataTable) return;\n",
              "\n",
              "        const docLinkHtml = 'Like what you see? Visit the ' +\n",
              "          '<a target=\"_blank\" href=https://colab.research.google.com/notebooks/data_table.ipynb>data table notebook</a>'\n",
              "          + ' to learn more about interactive tables.';\n",
              "        element.innerHTML = '';\n",
              "        dataTable['output_type'] = 'display_data';\n",
              "        await google.colab.output.renderOutput(dataTable, element);\n",
              "        const docLink = document.createElement('div');\n",
              "        docLink.innerHTML = docLinkHtml;\n",
              "        element.appendChild(docLink);\n",
              "      }\n",
              "    </script>\n",
              "  </div>\n",
              "\n",
              "\n",
              "    <div id=\"df-5f62f006-fd03-4f9e-8cd5-98fc48d73cf8\">\n",
              "      <button class=\"colab-df-quickchart\" onclick=\"quickchart('df-5f62f006-fd03-4f9e-8cd5-98fc48d73cf8')\"\n",
              "                title=\"Suggest charts\"\n",
              "                style=\"display:none;\">\n",
              "\n",
              "<svg xmlns=\"http://www.w3.org/2000/svg\" height=\"24px\"viewBox=\"0 0 24 24\"\n",
              "     width=\"24px\">\n",
              "    <g>\n",
              "        <path d=\"M19 3H5c-1.1 0-2 .9-2 2v14c0 1.1.9 2 2 2h14c1.1 0 2-.9 2-2V5c0-1.1-.9-2-2-2zM9 17H7v-7h2v7zm4 0h-2V7h2v10zm4 0h-2v-4h2v4z\"/>\n",
              "    </g>\n",
              "</svg>\n",
              "      </button>\n",
              "\n",
              "<style>\n",
              "  .colab-df-quickchart {\n",
              "      --bg-color: #E8F0FE;\n",
              "      --fill-color: #1967D2;\n",
              "      --hover-bg-color: #E2EBFA;\n",
              "      --hover-fill-color: #174EA6;\n",
              "      --disabled-fill-color: #AAA;\n",
              "      --disabled-bg-color: #DDD;\n",
              "  }\n",
              "\n",
              "  [theme=dark] .colab-df-quickchart {\n",
              "      --bg-color: #3B4455;\n",
              "      --fill-color: #D2E3FC;\n",
              "      --hover-bg-color: #434B5C;\n",
              "      --hover-fill-color: #FFFFFF;\n",
              "      --disabled-bg-color: #3B4455;\n",
              "      --disabled-fill-color: #666;\n",
              "  }\n",
              "\n",
              "  .colab-df-quickchart {\n",
              "    background-color: var(--bg-color);\n",
              "    border: none;\n",
              "    border-radius: 50%;\n",
              "    cursor: pointer;\n",
              "    display: none;\n",
              "    fill: var(--fill-color);\n",
              "    height: 32px;\n",
              "    padding: 0;\n",
              "    width: 32px;\n",
              "  }\n",
              "\n",
              "  .colab-df-quickchart:hover {\n",
              "    background-color: var(--hover-bg-color);\n",
              "    box-shadow: 0 1px 2px rgba(60, 64, 67, 0.3), 0 1px 3px 1px rgba(60, 64, 67, 0.15);\n",
              "    fill: var(--button-hover-fill-color);\n",
              "  }\n",
              "\n",
              "  .colab-df-quickchart-complete:disabled,\n",
              "  .colab-df-quickchart-complete:disabled:hover {\n",
              "    background-color: var(--disabled-bg-color);\n",
              "    fill: var(--disabled-fill-color);\n",
              "    box-shadow: none;\n",
              "  }\n",
              "\n",
              "  .colab-df-spinner {\n",
              "    border: 2px solid var(--fill-color);\n",
              "    border-color: transparent;\n",
              "    border-bottom-color: var(--fill-color);\n",
              "    animation:\n",
              "      spin 1s steps(1) infinite;\n",
              "  }\n",
              "\n",
              "  @keyframes spin {\n",
              "    0% {\n",
              "      border-color: transparent;\n",
              "      border-bottom-color: var(--fill-color);\n",
              "      border-left-color: var(--fill-color);\n",
              "    }\n",
              "    20% {\n",
              "      border-color: transparent;\n",
              "      border-left-color: var(--fill-color);\n",
              "      border-top-color: var(--fill-color);\n",
              "    }\n",
              "    30% {\n",
              "      border-color: transparent;\n",
              "      border-left-color: var(--fill-color);\n",
              "      border-top-color: var(--fill-color);\n",
              "      border-right-color: var(--fill-color);\n",
              "    }\n",
              "    40% {\n",
              "      border-color: transparent;\n",
              "      border-right-color: var(--fill-color);\n",
              "      border-top-color: var(--fill-color);\n",
              "    }\n",
              "    60% {\n",
              "      border-color: transparent;\n",
              "      border-right-color: var(--fill-color);\n",
              "    }\n",
              "    80% {\n",
              "      border-color: transparent;\n",
              "      border-right-color: var(--fill-color);\n",
              "      border-bottom-color: var(--fill-color);\n",
              "    }\n",
              "    90% {\n",
              "      border-color: transparent;\n",
              "      border-bottom-color: var(--fill-color);\n",
              "    }\n",
              "  }\n",
              "</style>\n",
              "\n",
              "      <script>\n",
              "        async function quickchart(key) {\n",
              "          const quickchartButtonEl =\n",
              "            document.querySelector('#' + key + ' button');\n",
              "          quickchartButtonEl.disabled = true;  // To prevent multiple clicks.\n",
              "          quickchartButtonEl.classList.add('colab-df-spinner');\n",
              "          try {\n",
              "            const charts = await google.colab.kernel.invokeFunction(\n",
              "                'suggestCharts', [key], {});\n",
              "          } catch (error) {\n",
              "            console.error('Error during call to suggestCharts:', error);\n",
              "          }\n",
              "          quickchartButtonEl.classList.remove('colab-df-spinner');\n",
              "          quickchartButtonEl.classList.add('colab-df-quickchart-complete');\n",
              "        }\n",
              "        (() => {\n",
              "          let quickchartButtonEl =\n",
              "            document.querySelector('#df-5f62f006-fd03-4f9e-8cd5-98fc48d73cf8 button');\n",
              "          quickchartButtonEl.style.display =\n",
              "            google.colab.kernel.accessAllowed ? 'block' : 'none';\n",
              "        })();\n",
              "      </script>\n",
              "    </div>\n",
              "\n",
              "    </div>\n",
              "  </div>\n"
            ],
            "application/vnd.google.colaboratory.intrinsic+json": {
              "type": "dataframe",
              "variable_name": "df",
              "summary": "{\n  \"name\": \"df\",\n  \"rows\": 4800,\n  \"fields\": [\n    {\n      \"column\": \"title\",\n      \"properties\": {\n        \"dtype\": \"string\",\n        \"num_unique_values\": 4797,\n        \"samples\": [\n          \"(500) Days of Summer\",\n          \"Scary Movie 2\",\n          \"Thir13en Ghosts\"\n        ],\n        \"semantic_type\": \"\",\n        \"description\": \"\"\n      }\n    },\n    {\n      \"column\": \"tagline\",\n      \"properties\": {\n        \"dtype\": \"string\",\n        \"num_unique_values\": 3945,\n        \"samples\": [\n          \"He's a dreamer, stuck in the real world.\",\n          \"No stray gets turned away.\",\n          \"The only criminal he can't catch is himself.\"\n        ],\n        \"semantic_type\": \"\",\n        \"description\": \"\"\n      }\n    },\n    {\n      \"column\": \"overview\",\n      \"properties\": {\n        \"dtype\": \"string\",\n        \"num_unique_values\": 4800,\n        \"samples\": [\n          \"In a futuristic world where the polar ice caps have melted and made Earth a liquid planet, a beautiful barmaid rescues a mutant seafarer from a floating island prison. They escape, along with her young charge, Enola, and sail off aboard his ship. But the trio soon becomes the target of a menacing pirate who covets the map to 'Dryland' \\u2013 which is tattooed on Enola's back.\",\n          \"The balance of power in four couples\\u2019 relationships is upset when the women start using the advice in Steve Harvey\\u2019s book, Act Like A Lady, Think Like A Man, to get more of what they want from their men. When the men realize that the women have gotten a hold of their relationship \\u201cplaybook,\\u201d they decide that the best defense is a good offense and come up with a plan to use this information to their advantage.\",\n          \"A group of animals waiting for the annual flood they rely on for food and water discover that the humans, who have been destroying their habitats have built a dam for a leisure resort. The animals endeavour to save the delta and send a message to the humans not to interfere with nature.\"\n        ],\n        \"semantic_type\": \"\",\n        \"description\": \"\"\n      }\n    },\n    {\n      \"column\": \"popularity\",\n      \"properties\": {\n        \"dtype\": \"number\",\n        \"std\": 31.822272692050166,\n        \"min\": 0.0,\n        \"max\": 875.581305,\n        \"num_unique_values\": 4799,\n        \"samples\": [\n          3.56033,\n          48.445978,\n          3.877036\n        ],\n        \"semantic_type\": \"\",\n        \"description\": \"\"\n      }\n    },\n    {\n      \"column\": \"description\",\n      \"properties\": {\n        \"dtype\": \"string\",\n        \"num_unique_values\": 4800,\n        \"samples\": [\n          \"Beyond the horizon lies the secret to a new beginning. In a futuristic world where the polar ice caps have melted and made Earth a liquid planet, a beautiful barmaid rescues a mutant seafarer from a floating island prison. They escape, along with her young charge, Enola, and sail off aboard his ship. But the trio soon becomes the target of a menacing pirate who covets the map to 'Dryland' \\u2013 which is tattooed on Enola's back.\",\n          \"Let the mind games begin. The balance of power in four couples\\u2019 relationships is upset when the women start using the advice in Steve Harvey\\u2019s book, Act Like A Lady, Think Like A Man, to get more of what they want from their men. When the men realize that the women have gotten a hold of their relationship \\u201cplaybook,\\u201d they decide that the best defense is a good offense and come up with a plan to use this information to their advantage.\",\n          \" A group of animals waiting for the annual flood they rely on for food and water discover that the humans, who have been destroying their habitats have built a dam for a leisure resort. The animals endeavour to save the delta and send a message to the humans not to interfere with nature.\"\n        ],\n        \"semantic_type\": \"\",\n        \"description\": \"\"\n      }\n    }\n  ]\n}"
            }
          },
          "metadata": {},
          "execution_count": 18
        }
      ]
    },
    {
      "cell_type": "code",
      "source": [
        "df.loc[546].description"
      ],
      "metadata": {
        "colab": {
          "base_uri": "https://localhost:8080/",
          "height": 54
        },
        "id": "vqpx9gTS209s",
        "outputId": "3837f745-bbfa-41af-d0f6-776879cba330"
      },
      "execution_count": 25,
      "outputs": [
        {
          "output_type": "execute_result",
          "data": {
            "text/plain": [
              "'Before Gru, they had a history of bad bosses Minions Stuart, Kevin and Bob are recruited by Scarlet Overkill, a super-villain who, alongside her inventor husband Herb, hatches a plot to take over the world.'"
            ],
            "application/vnd.google.colaboratory.intrinsic+json": {
              "type": "string"
            }
          },
          "metadata": {},
          "execution_count": 25
        }
      ]
    },
    {
      "cell_type": "markdown",
      "source": [
        "# Bangun Sistem Rekomendasi Film\n",
        "\n",
        "Tahapan\n",
        "- Pre Processing\n",
        "- Feature Engineering\n",
        "- Komputasi Doc Similarity\n",
        "- Proses Retrieve\n",
        "- proses rekomendasi film\n",
        "\n",
        "\n",
        "## Kemiripan Dokumen / document similarity\n",
        "\n",
        "Ada berbagai cara untuk menghitung kesamaan antara dua item dokumen. Salah satu ukuran yang paling banyak digunakan adalah __cosine similarity__ .\n",
        "\n",
        "### Cosine Similarity\n",
        "\n",
        "Cosine Similarity digunakan untuk menghitung skor numerik untuk menunjukkan kesamaan antara dua dokumen teks. Secara matematis, ini didefinisikan sebagai berikut:\n",
        "\n",
        "$$ cosinus(x,y) = \\frac{x. y^\\intercal}{||x||.||y||} $$"
      ],
      "metadata": {
        "id": "7Hygoxm29AB4"
      }
    },
    {
      "cell_type": "code",
      "source": [
        "import nltk\n",
        "import re\n",
        "import numpy as np\n",
        "import contractions\n",
        "\n",
        "\n",
        "stop_words = nltk.corpus.stopwords.words('english') # Memuat daftar kata-kata umum Bahasa Inggris yang sering diabaikan dalam analisis (misalnya, 'the', 'is', 'and').\n",
        "\n",
        "def normalize_document(doc):\n",
        "    # Menghapus Karakter Khusus\n",
        "    doc = re.sub(r'[^a-zA-Z0-9\\s]', '', doc, re.I|re.A)\n",
        "    # Lalu Mengubahnya ke Huruf Kecil\n",
        "    doc = doc.lower()\n",
        "    # Menghapus Spasi yang berlebihan\n",
        "    doc = doc.strip()\n",
        "    # Mengubah singkatan menjadi bentuk lengkap\n",
        "    doc = contractions.fix(doc)\n",
        "    # Memecah teks menjadi daftar kata individu\n",
        "    tokens = nltk.word_tokenize(doc)\n",
        "    # Menghapus kata(a,the,is) untuk mengurangi noise dan fokus pada kata kunci penting\n",
        "    filtered_tokens = [token for token in tokens if token not in stop_words]\n",
        "    # Mengubah kata kata yang sudah bersih tadi menjadi satu kalimat(string dokumen)\n",
        "    doc = ' '.join(filtered_tokens)\n",
        "    return doc\n",
        "# Mengubah fungsi normalize_document menjadi fungsi yang vectorized\n",
        "normalize_corpus = np.vectorize(normalize_document)\n",
        "\n",
        "# Mengambil kolom description dari data frame\n",
        "# Lalu menerapkan fungsi normalisasi ke setiap sinopsis film\n",
        "# Dan hasilnya (Sinopsis yang sudah bersih) disimpan ke dalam variabel norm_corpus\n",
        "norm_corpus = normalize_corpus(list(df['description']))\n",
        "\n",
        "#Menghitung dan menampilkan jumlah total sinopsis film yang berhasil di proses\n",
        "len(norm_corpus)"
      ],
      "metadata": {
        "colab": {
          "base_uri": "https://localhost:8080/"
        },
        "id": "9ns3B6de26nI",
        "outputId": "acb517d7-880f-4e41-cd85-e906c669e4b2"
      },
      "execution_count": 30,
      "outputs": [
        {
          "output_type": "execute_result",
          "data": {
            "text/plain": [
              "4800"
            ]
          },
          "metadata": {},
          "execution_count": 30
        }
      ]
    },
    {
      "cell_type": "code",
      "source": [
        "print(df.shape)"
      ],
      "metadata": {
        "colab": {
          "base_uri": "https://localhost:8080/"
        },
        "id": "6CbOH8wWFvAL",
        "outputId": "7b35bd65-73fe-499a-c6e5-33f7f28c327f"
      },
      "execution_count": 32,
      "outputs": [
        {
          "output_type": "stream",
          "name": "stdout",
          "text": [
            "(4800, 5)\n"
          ]
        }
      ]
    },
    {
      "cell_type": "markdown",
      "source": [
        "Disini terlihat 4800 data berhasil di proses artinya semua data yang berada di dataset berhasil di proses"
      ],
      "metadata": {
        "id": "gU7MvyUGFiFr"
      }
    },
    {
      "cell_type": "markdown",
      "source": [
        "Selanjutnya Saya akan mengubah teks yang sudah bersih menjadi format numerik agar bisa dibaca oleh model, menggunakan TF-IDF (Term Frequency Inverse Document Frequency)"
      ],
      "metadata": {
        "id": "yKBoqK74GZHR"
      }
    },
    {
      "cell_type": "code",
      "source": [
        "from sklearn.feature_extraction.text import TfidfVectorizer # Membuat Kosakata dari dokumen (Tokenisasi) dan menghitung bobot untuk setiap kata dalam dokumen\n",
        "\n",
        "#ngram_range(1,2) disini menginstruksikan vectorizer untuk tidak hanya memakai kata tunggal tetapi juga pasangan kata\n",
        "#Contoh : \"film bagus keren\" maka fitur yang akan dibuat adalah\n",
        "# \"film\", \"bagus\", \"keren\" dan \"film bagus\", \"bagus keren\"\n",
        "# ini dapat membantu menangkap konteks dan frasa yang lebih bermakna\n",
        "tf = TfidfVectorizer(ngram_range=(1, 2), min_df=2) # min_df=2 disini berperan untuk filter frekuensi dokumen (fitur/kata akan diabaikan jika muncul di kurang dari 2 dokumen )\n",
        "# ini membantu mengurangi jumlah fitur dengan menghapus kata yang langka dan tdk signifikan\n",
        "tfidf_matrix = tf.fit_transform(norm_corpus) # lalu mengubah semua teks sinopsis film yang sudah bersih menjadi matriks angka\n",
        "tfidf_matrix.shape #Mengecek ukuran matriks"
      ],
      "metadata": {
        "colab": {
          "base_uri": "https://localhost:8080/"
        },
        "id": "YHAv0De3FdCP",
        "outputId": "47d395d8-17fb-4dae-c7e0-47561b672f2b"
      },
      "execution_count": 33,
      "outputs": [
        {
          "output_type": "execute_result",
          "data": {
            "text/plain": [
              "(4800, 20471)"
            ]
          },
          "metadata": {},
          "execution_count": 33
        }
      ]
    },
    {
      "cell_type": "markdown",
      "source": [
        "Disini dapat dilihat:\n",
        "4800 total sinopsis film dalam norm_corpus yang diproses\n",
        "20471 total kata unik (unigram) dan pasangan kata unik (bigram) yang dijadikan kolom dalam matriks, setelah melewati filter min_df=2"
      ],
      "metadata": {
        "id": "SQaV3CruKVgH"
      }
    },
    {
      "cell_type": "markdown",
      "source": [
        "Selanjutnya kita akan menghitung tingkat kemiripan antara setiap dokumen(Sinopsis Film) satu sama lain"
      ],
      "metadata": {
        "id": "fDbqHz8JQjyJ"
      }
    },
    {
      "cell_type": "code",
      "source": [
        "from sklearn.metrics.pairwise import cosine_similarity # cosine_similarity digunakan untuk menghitung kemiripan antar vektor dalam space berdimensi tinggi yang dihasilkan oleh TF-IDF\n",
        "\n",
        "doc_sim = cosine_similarity(tfidf_matrix) #Perhitungan Kemiripan dengan mengambil tfidf_matrix yang sudah diproses tadi\n",
        "doc_sim_df = pd.DataFrame(doc_sim)\n",
        "#doc_sim disini adalah sebuah matriks persegi dimana setiap nilai di dalamnya menunjukkan nilai kemiripan antara dua sinopsis film\n",
        "# Nilai 1 berarti sinopsis kedua film sangat identik\n",
        "# Nilai 0 berarti sinopsis kedua film sangat berbeda\n",
        "doc_sim_df.head()"
      ],
      "metadata": {
        "colab": {
          "base_uri": "https://localhost:8080/",
          "height": 255
        },
        "id": "_m5nhQ63KHux",
        "outputId": "84885e81-581a-4722-a99b-e059465ba03c"
      },
      "execution_count": 34,
      "outputs": [
        {
          "output_type": "execute_result",
          "data": {
            "text/plain": [
              "       0         1         2         3         4         5     6         7     \\\n",
              "0  1.000000  0.000000  0.000000  0.000000  0.006071  0.008067   0.0  0.000000   \n",
              "1  0.000000  1.000000  0.000000  0.017839  0.007968  0.000000   0.0  0.012501   \n",
              "2  0.000000  0.000000  1.000000  0.000000  0.017178  0.000000   0.0  0.000000   \n",
              "3  0.000000  0.017839  0.000000  1.000000  0.000000  0.022414   0.0  0.000000   \n",
              "4  0.006071  0.007968  0.017178  0.000000  1.000000  0.004673   0.0  0.064581   \n",
              "\n",
              "   8         9     ...      4790      4791      4792  4793      4794  \\\n",
              "0   0.0  0.000000  ...  0.018758  0.000000  0.037930   0.0  0.000000   \n",
              "1   0.0  0.014840  ...  0.000000  0.000000  0.017564   0.0  0.019152   \n",
              "2   0.0  0.024326  ...  0.000000  0.006903  0.005024   0.0  0.012893   \n",
              "3   0.0  0.037207  ...  0.000000  0.060846  0.025039   0.0  0.036237   \n",
              "4   0.0  0.000000  ...  0.022064  0.019662  0.036561   0.0  0.015826   \n",
              "\n",
              "       4795      4796      4797      4798      4799  \n",
              "0  0.000000  0.000000  0.000000  0.000000  0.009646  \n",
              "1  0.000000  0.000000  0.000000  0.000000  0.007963  \n",
              "2  0.000000  0.025975  0.000000  0.027126  0.009340  \n",
              "3  0.030516  0.022605  0.000000  0.000000  0.000000  \n",
              "4  0.000000  0.076033  0.004516  0.043475  0.011465  \n",
              "\n",
              "[5 rows x 4800 columns]"
            ],
            "text/html": [
              "\n",
              "  <div id=\"df-863b04ae-5b7c-42cb-a400-9319e3248e1f\" class=\"colab-df-container\">\n",
              "    <div>\n",
              "<style scoped>\n",
              "    .dataframe tbody tr th:only-of-type {\n",
              "        vertical-align: middle;\n",
              "    }\n",
              "\n",
              "    .dataframe tbody tr th {\n",
              "        vertical-align: top;\n",
              "    }\n",
              "\n",
              "    .dataframe thead th {\n",
              "        text-align: right;\n",
              "    }\n",
              "</style>\n",
              "<table border=\"1\" class=\"dataframe\">\n",
              "  <thead>\n",
              "    <tr style=\"text-align: right;\">\n",
              "      <th></th>\n",
              "      <th>0</th>\n",
              "      <th>1</th>\n",
              "      <th>2</th>\n",
              "      <th>3</th>\n",
              "      <th>4</th>\n",
              "      <th>5</th>\n",
              "      <th>6</th>\n",
              "      <th>7</th>\n",
              "      <th>8</th>\n",
              "      <th>9</th>\n",
              "      <th>...</th>\n",
              "      <th>4790</th>\n",
              "      <th>4791</th>\n",
              "      <th>4792</th>\n",
              "      <th>4793</th>\n",
              "      <th>4794</th>\n",
              "      <th>4795</th>\n",
              "      <th>4796</th>\n",
              "      <th>4797</th>\n",
              "      <th>4798</th>\n",
              "      <th>4799</th>\n",
              "    </tr>\n",
              "  </thead>\n",
              "  <tbody>\n",
              "    <tr>\n",
              "      <th>0</th>\n",
              "      <td>1.000000</td>\n",
              "      <td>0.000000</td>\n",
              "      <td>0.000000</td>\n",
              "      <td>0.000000</td>\n",
              "      <td>0.006071</td>\n",
              "      <td>0.008067</td>\n",
              "      <td>0.0</td>\n",
              "      <td>0.000000</td>\n",
              "      <td>0.0</td>\n",
              "      <td>0.000000</td>\n",
              "      <td>...</td>\n",
              "      <td>0.018758</td>\n",
              "      <td>0.000000</td>\n",
              "      <td>0.037930</td>\n",
              "      <td>0.0</td>\n",
              "      <td>0.000000</td>\n",
              "      <td>0.000000</td>\n",
              "      <td>0.000000</td>\n",
              "      <td>0.000000</td>\n",
              "      <td>0.000000</td>\n",
              "      <td>0.009646</td>\n",
              "    </tr>\n",
              "    <tr>\n",
              "      <th>1</th>\n",
              "      <td>0.000000</td>\n",
              "      <td>1.000000</td>\n",
              "      <td>0.000000</td>\n",
              "      <td>0.017839</td>\n",
              "      <td>0.007968</td>\n",
              "      <td>0.000000</td>\n",
              "      <td>0.0</td>\n",
              "      <td>0.012501</td>\n",
              "      <td>0.0</td>\n",
              "      <td>0.014840</td>\n",
              "      <td>...</td>\n",
              "      <td>0.000000</td>\n",
              "      <td>0.000000</td>\n",
              "      <td>0.017564</td>\n",
              "      <td>0.0</td>\n",
              "      <td>0.019152</td>\n",
              "      <td>0.000000</td>\n",
              "      <td>0.000000</td>\n",
              "      <td>0.000000</td>\n",
              "      <td>0.000000</td>\n",
              "      <td>0.007963</td>\n",
              "    </tr>\n",
              "    <tr>\n",
              "      <th>2</th>\n",
              "      <td>0.000000</td>\n",
              "      <td>0.000000</td>\n",
              "      <td>1.000000</td>\n",
              "      <td>0.000000</td>\n",
              "      <td>0.017178</td>\n",
              "      <td>0.000000</td>\n",
              "      <td>0.0</td>\n",
              "      <td>0.000000</td>\n",
              "      <td>0.0</td>\n",
              "      <td>0.024326</td>\n",
              "      <td>...</td>\n",
              "      <td>0.000000</td>\n",
              "      <td>0.006903</td>\n",
              "      <td>0.005024</td>\n",
              "      <td>0.0</td>\n",
              "      <td>0.012893</td>\n",
              "      <td>0.000000</td>\n",
              "      <td>0.025975</td>\n",
              "      <td>0.000000</td>\n",
              "      <td>0.027126</td>\n",
              "      <td>0.009340</td>\n",
              "    </tr>\n",
              "    <tr>\n",
              "      <th>3</th>\n",
              "      <td>0.000000</td>\n",
              "      <td>0.017839</td>\n",
              "      <td>0.000000</td>\n",
              "      <td>1.000000</td>\n",
              "      <td>0.000000</td>\n",
              "      <td>0.022414</td>\n",
              "      <td>0.0</td>\n",
              "      <td>0.000000</td>\n",
              "      <td>0.0</td>\n",
              "      <td>0.037207</td>\n",
              "      <td>...</td>\n",
              "      <td>0.000000</td>\n",
              "      <td>0.060846</td>\n",
              "      <td>0.025039</td>\n",
              "      <td>0.0</td>\n",
              "      <td>0.036237</td>\n",
              "      <td>0.030516</td>\n",
              "      <td>0.022605</td>\n",
              "      <td>0.000000</td>\n",
              "      <td>0.000000</td>\n",
              "      <td>0.000000</td>\n",
              "    </tr>\n",
              "    <tr>\n",
              "      <th>4</th>\n",
              "      <td>0.006071</td>\n",
              "      <td>0.007968</td>\n",
              "      <td>0.017178</td>\n",
              "      <td>0.000000</td>\n",
              "      <td>1.000000</td>\n",
              "      <td>0.004673</td>\n",
              "      <td>0.0</td>\n",
              "      <td>0.064581</td>\n",
              "      <td>0.0</td>\n",
              "      <td>0.000000</td>\n",
              "      <td>...</td>\n",
              "      <td>0.022064</td>\n",
              "      <td>0.019662</td>\n",
              "      <td>0.036561</td>\n",
              "      <td>0.0</td>\n",
              "      <td>0.015826</td>\n",
              "      <td>0.000000</td>\n",
              "      <td>0.076033</td>\n",
              "      <td>0.004516</td>\n",
              "      <td>0.043475</td>\n",
              "      <td>0.011465</td>\n",
              "    </tr>\n",
              "  </tbody>\n",
              "</table>\n",
              "<p>5 rows × 4800 columns</p>\n",
              "</div>\n",
              "    <div class=\"colab-df-buttons\">\n",
              "\n",
              "  <div class=\"colab-df-container\">\n",
              "    <button class=\"colab-df-convert\" onclick=\"convertToInteractive('df-863b04ae-5b7c-42cb-a400-9319e3248e1f')\"\n",
              "            title=\"Convert this dataframe to an interactive table.\"\n",
              "            style=\"display:none;\">\n",
              "\n",
              "  <svg xmlns=\"http://www.w3.org/2000/svg\" height=\"24px\" viewBox=\"0 -960 960 960\">\n",
              "    <path d=\"M120-120v-720h720v720H120Zm60-500h600v-160H180v160Zm220 220h160v-160H400v160Zm0 220h160v-160H400v160ZM180-400h160v-160H180v160Zm440 0h160v-160H620v160ZM180-180h160v-160H180v160Zm440 0h160v-160H620v160Z\"/>\n",
              "  </svg>\n",
              "    </button>\n",
              "\n",
              "  <style>\n",
              "    .colab-df-container {\n",
              "      display:flex;\n",
              "      gap: 12px;\n",
              "    }\n",
              "\n",
              "    .colab-df-convert {\n",
              "      background-color: #E8F0FE;\n",
              "      border: none;\n",
              "      border-radius: 50%;\n",
              "      cursor: pointer;\n",
              "      display: none;\n",
              "      fill: #1967D2;\n",
              "      height: 32px;\n",
              "      padding: 0 0 0 0;\n",
              "      width: 32px;\n",
              "    }\n",
              "\n",
              "    .colab-df-convert:hover {\n",
              "      background-color: #E2EBFA;\n",
              "      box-shadow: 0px 1px 2px rgba(60, 64, 67, 0.3), 0px 1px 3px 1px rgba(60, 64, 67, 0.15);\n",
              "      fill: #174EA6;\n",
              "    }\n",
              "\n",
              "    .colab-df-buttons div {\n",
              "      margin-bottom: 4px;\n",
              "    }\n",
              "\n",
              "    [theme=dark] .colab-df-convert {\n",
              "      background-color: #3B4455;\n",
              "      fill: #D2E3FC;\n",
              "    }\n",
              "\n",
              "    [theme=dark] .colab-df-convert:hover {\n",
              "      background-color: #434B5C;\n",
              "      box-shadow: 0px 1px 3px 1px rgba(0, 0, 0, 0.15);\n",
              "      filter: drop-shadow(0px 1px 2px rgba(0, 0, 0, 0.3));\n",
              "      fill: #FFFFFF;\n",
              "    }\n",
              "  </style>\n",
              "\n",
              "    <script>\n",
              "      const buttonEl =\n",
              "        document.querySelector('#df-863b04ae-5b7c-42cb-a400-9319e3248e1f button.colab-df-convert');\n",
              "      buttonEl.style.display =\n",
              "        google.colab.kernel.accessAllowed ? 'block' : 'none';\n",
              "\n",
              "      async function convertToInteractive(key) {\n",
              "        const element = document.querySelector('#df-863b04ae-5b7c-42cb-a400-9319e3248e1f');\n",
              "        const dataTable =\n",
              "          await google.colab.kernel.invokeFunction('convertToInteractive',\n",
              "                                                    [key], {});\n",
              "        if (!dataTable) return;\n",
              "\n",
              "        const docLinkHtml = 'Like what you see? Visit the ' +\n",
              "          '<a target=\"_blank\" href=https://colab.research.google.com/notebooks/data_table.ipynb>data table notebook</a>'\n",
              "          + ' to learn more about interactive tables.';\n",
              "        element.innerHTML = '';\n",
              "        dataTable['output_type'] = 'display_data';\n",
              "        await google.colab.output.renderOutput(dataTable, element);\n",
              "        const docLink = document.createElement('div');\n",
              "        docLink.innerHTML = docLinkHtml;\n",
              "        element.appendChild(docLink);\n",
              "      }\n",
              "    </script>\n",
              "  </div>\n",
              "\n",
              "\n",
              "    <div id=\"df-1d266809-7be6-4be9-b942-8971eb803ddd\">\n",
              "      <button class=\"colab-df-quickchart\" onclick=\"quickchart('df-1d266809-7be6-4be9-b942-8971eb803ddd')\"\n",
              "                title=\"Suggest charts\"\n",
              "                style=\"display:none;\">\n",
              "\n",
              "<svg xmlns=\"http://www.w3.org/2000/svg\" height=\"24px\"viewBox=\"0 0 24 24\"\n",
              "     width=\"24px\">\n",
              "    <g>\n",
              "        <path d=\"M19 3H5c-1.1 0-2 .9-2 2v14c0 1.1.9 2 2 2h14c1.1 0 2-.9 2-2V5c0-1.1-.9-2-2-2zM9 17H7v-7h2v7zm4 0h-2V7h2v10zm4 0h-2v-4h2v4z\"/>\n",
              "    </g>\n",
              "</svg>\n",
              "      </button>\n",
              "\n",
              "<style>\n",
              "  .colab-df-quickchart {\n",
              "      --bg-color: #E8F0FE;\n",
              "      --fill-color: #1967D2;\n",
              "      --hover-bg-color: #E2EBFA;\n",
              "      --hover-fill-color: #174EA6;\n",
              "      --disabled-fill-color: #AAA;\n",
              "      --disabled-bg-color: #DDD;\n",
              "  }\n",
              "\n",
              "  [theme=dark] .colab-df-quickchart {\n",
              "      --bg-color: #3B4455;\n",
              "      --fill-color: #D2E3FC;\n",
              "      --hover-bg-color: #434B5C;\n",
              "      --hover-fill-color: #FFFFFF;\n",
              "      --disabled-bg-color: #3B4455;\n",
              "      --disabled-fill-color: #666;\n",
              "  }\n",
              "\n",
              "  .colab-df-quickchart {\n",
              "    background-color: var(--bg-color);\n",
              "    border: none;\n",
              "    border-radius: 50%;\n",
              "    cursor: pointer;\n",
              "    display: none;\n",
              "    fill: var(--fill-color);\n",
              "    height: 32px;\n",
              "    padding: 0;\n",
              "    width: 32px;\n",
              "  }\n",
              "\n",
              "  .colab-df-quickchart:hover {\n",
              "    background-color: var(--hover-bg-color);\n",
              "    box-shadow: 0 1px 2px rgba(60, 64, 67, 0.3), 0 1px 3px 1px rgba(60, 64, 67, 0.15);\n",
              "    fill: var(--button-hover-fill-color);\n",
              "  }\n",
              "\n",
              "  .colab-df-quickchart-complete:disabled,\n",
              "  .colab-df-quickchart-complete:disabled:hover {\n",
              "    background-color: var(--disabled-bg-color);\n",
              "    fill: var(--disabled-fill-color);\n",
              "    box-shadow: none;\n",
              "  }\n",
              "\n",
              "  .colab-df-spinner {\n",
              "    border: 2px solid var(--fill-color);\n",
              "    border-color: transparent;\n",
              "    border-bottom-color: var(--fill-color);\n",
              "    animation:\n",
              "      spin 1s steps(1) infinite;\n",
              "  }\n",
              "\n",
              "  @keyframes spin {\n",
              "    0% {\n",
              "      border-color: transparent;\n",
              "      border-bottom-color: var(--fill-color);\n",
              "      border-left-color: var(--fill-color);\n",
              "    }\n",
              "    20% {\n",
              "      border-color: transparent;\n",
              "      border-left-color: var(--fill-color);\n",
              "      border-top-color: var(--fill-color);\n",
              "    }\n",
              "    30% {\n",
              "      border-color: transparent;\n",
              "      border-left-color: var(--fill-color);\n",
              "      border-top-color: var(--fill-color);\n",
              "      border-right-color: var(--fill-color);\n",
              "    }\n",
              "    40% {\n",
              "      border-color: transparent;\n",
              "      border-right-color: var(--fill-color);\n",
              "      border-top-color: var(--fill-color);\n",
              "    }\n",
              "    60% {\n",
              "      border-color: transparent;\n",
              "      border-right-color: var(--fill-color);\n",
              "    }\n",
              "    80% {\n",
              "      border-color: transparent;\n",
              "      border-right-color: var(--fill-color);\n",
              "      border-bottom-color: var(--fill-color);\n",
              "    }\n",
              "    90% {\n",
              "      border-color: transparent;\n",
              "      border-bottom-color: var(--fill-color);\n",
              "    }\n",
              "  }\n",
              "</style>\n",
              "\n",
              "      <script>\n",
              "        async function quickchart(key) {\n",
              "          const quickchartButtonEl =\n",
              "            document.querySelector('#' + key + ' button');\n",
              "          quickchartButtonEl.disabled = true;  // To prevent multiple clicks.\n",
              "          quickchartButtonEl.classList.add('colab-df-spinner');\n",
              "          try {\n",
              "            const charts = await google.colab.kernel.invokeFunction(\n",
              "                'suggestCharts', [key], {});\n",
              "          } catch (error) {\n",
              "            console.error('Error during call to suggestCharts:', error);\n",
              "          }\n",
              "          quickchartButtonEl.classList.remove('colab-df-spinner');\n",
              "          quickchartButtonEl.classList.add('colab-df-quickchart-complete');\n",
              "        }\n",
              "        (() => {\n",
              "          let quickchartButtonEl =\n",
              "            document.querySelector('#df-1d266809-7be6-4be9-b942-8971eb803ddd button');\n",
              "          quickchartButtonEl.style.display =\n",
              "            google.colab.kernel.accessAllowed ? 'block' : 'none';\n",
              "        })();\n",
              "      </script>\n",
              "    </div>\n",
              "\n",
              "    </div>\n",
              "  </div>\n"
            ],
            "application/vnd.google.colaboratory.intrinsic+json": {
              "type": "dataframe",
              "variable_name": "doc_sim_df"
            }
          },
          "metadata": {},
          "execution_count": 34
        }
      ]
    },
    {
      "cell_type": "code",
      "source": [
        "# Mendapatkan title/judul film\n",
        "movies_list = df['title'].values\n",
        "movies_list, movies_list.shape"
      ],
      "metadata": {
        "colab": {
          "base_uri": "https://localhost:8080/"
        },
        "id": "5sRjIxuIQqbX",
        "outputId": "dd489e6e-9080-4bae-e2c3-cf1101864c00"
      },
      "execution_count": 35,
      "outputs": [
        {
          "output_type": "execute_result",
          "data": {
            "text/plain": [
              "(array(['Minions', 'Interstellar', 'Deadpool', ..., 'Penitentiary',\n",
              "        'Alien Zone', 'America Is Still the Place'], dtype=object),\n",
              " (4800,))"
            ]
          },
          "metadata": {},
          "execution_count": 35
        }
      ]
    },
    {
      "cell_type": "markdown",
      "source": [
        "Selanjutnya saya akan memilih salah satu film yaitu \"Interstellar\" untuk menemukan film yang serupa"
      ],
      "metadata": {
        "id": "4JsOHZF3RDFZ"
      }
    },
    {
      "cell_type": "code",
      "source": [
        "movie_idx = np.where(movies_list == 'Interstellar')[0][0]\n",
        "movie_idx"
      ],
      "metadata": {
        "colab": {
          "base_uri": "https://localhost:8080/"
        },
        "id": "saR9S-gZQq0P",
        "outputId": "965785da-d551-44db-a465-dfe2dcff4156"
      },
      "execution_count": 42,
      "outputs": [
        {
          "output_type": "execute_result",
          "data": {
            "text/plain": [
              "np.int64(1)"
            ]
          },
          "metadata": {},
          "execution_count": 42
        }
      ]
    },
    {
      "cell_type": "markdown",
      "source": [
        "Lalu kita akan mengambil similariti yang cocok dengan film interstellar"
      ],
      "metadata": {
        "id": "XgySxspkSghF"
      }
    },
    {
      "cell_type": "code",
      "source": [
        "movie_similarities = doc_sim_df.iloc[movie_idx].values\n",
        "movie_similarities"
      ],
      "metadata": {
        "colab": {
          "base_uri": "https://localhost:8080/"
        },
        "id": "e5PuC7WfRXzx",
        "outputId": "6daafdf4-d5bd-411c-b2c5-ab139aa32f52"
      },
      "execution_count": 43,
      "outputs": [
        {
          "output_type": "execute_result",
          "data": {
            "text/plain": [
              "array([0.        , 1.        , 0.        , ..., 0.        , 0.        ,\n",
              "       0.00796291])"
            ]
          },
          "metadata": {},
          "execution_count": 43
        }
      ]
    },
    {
      "cell_type": "markdown",
      "source": [
        "Setelah itu saya akan mengambil 5 rekomendasi film yang mirip (Similar) dengan film Interstellar"
      ],
      "metadata": {
        "id": "QmufpJ0OSvF1"
      }
    },
    {
      "cell_type": "code",
      "source": [
        "similar_movie_idxs = np.argsort(-movie_similarities)[1:6]\n",
        "similar_movie_idxs"
      ],
      "metadata": {
        "colab": {
          "base_uri": "https://localhost:8080/"
        },
        "id": "jSqzZ877SeX2",
        "outputId": "5ce6b37d-0505-497c-e202-ecda12d6c67f"
      },
      "execution_count": 44,
      "outputs": [
        {
          "output_type": "execute_result",
          "data": {
            "text/plain": [
              "array([ 219, 2215, 2105,  342,  816])"
            ]
          },
          "metadata": {},
          "execution_count": 44
        }
      ]
    },
    {
      "cell_type": "markdown",
      "source": [
        "Lalu disini saya akan menampilkan judul apa saja yang ada di array yang muncul diatas"
      ],
      "metadata": {
        "id": "uUEQfpu3Tn--"
      }
    },
    {
      "cell_type": "code",
      "source": [
        "similar_movies = movies_list[similar_movie_idxs]\n",
        "similar_movies"
      ],
      "metadata": {
        "colab": {
          "base_uri": "https://localhost:8080/"
        },
        "id": "U1iTGCd5SuKR",
        "outputId": "2aaceff6-30f3-4627-ae2d-4225477e8019"
      },
      "execution_count": 45,
      "outputs": [
        {
          "output_type": "execute_result",
          "data": {
            "text/plain": [
              "array(['Gattaca', 'Space Pirate Captain Harlock', 'Space Cowboys',\n",
              "       'Starship Troopers', 'Final Destination 2'], dtype=object)"
            ]
          },
          "metadata": {},
          "execution_count": 45
        }
      ]
    },
    {
      "cell_type": "markdown",
      "source": [
        "Saya akan membuat rekomendasi 5 film, dari film apapun"
      ],
      "metadata": {
        "id": "k-rf-ERLTxhM"
      }
    },
    {
      "cell_type": "code",
      "source": [
        "def movie_recommender(movie_title, movies=movies_list, doc_sims=doc_sim_df):\n",
        "    # Mencari id film\n",
        "    movie_idx = np.where(movies == movie_title)[0][0]\n",
        "    # Mencari Similar film\n",
        "    movie_similarities = doc_sims.iloc[movie_idx].values\n",
        "    # Mencari 5 film rekomendasi\n",
        "    similar_movie_idxs = np.argsort(-movie_similarities)[1:6]\n",
        "    # Menampilkan nama dari index yang muncul\n",
        "    similar_movies = movies[similar_movie_idxs]\n",
        "    # Mengembalikan setiap nilai yang ada\n",
        "    return similar_movies"
      ],
      "metadata": {
        "id": "Ikrll2X1TsXf"
      },
      "execution_count": 46,
      "outputs": []
    },
    {
      "cell_type": "markdown",
      "source": [
        "Mari contohkan untuk mencari 5 rekomendasi film serupa"
      ],
      "metadata": {
        "id": "C3bIBXWjUQHU"
      }
    },
    {
      "cell_type": "code",
      "source": [
        "popular_movies = ['Minions', 'Interstellar', 'Deadpool', 'Jurassic World', 'Pirates of the Caribbean: The Curse of the Black Pearl',\n",
        "              'Dawn of the Planet of the Apes', 'The Hunger Games: Mockingjay - Part 1', 'Terminator Genisys',\n",
        "              'Captain America: Civil War', 'The Dark Knight', 'The Martian', 'Batman v Superman: Dawn of Justice',\n",
        "              'Pulp Fiction', 'The Godfather', 'The Shawshank Redemption', 'The Lord of the Rings: The Fellowship of the Ring',\n",
        "              'Harry Potter and the Chamber of Secrets', 'Star Wars', 'The Hobbit: The Battle of the Five Armies',\n",
        "              'Iron Man']"
      ],
      "metadata": {
        "id": "scK4KQCeUULl"
      },
      "execution_count": 47,
      "outputs": []
    },
    {
      "cell_type": "code",
      "source": [
        "for movie in popular_movies:\n",
        "    print('Movie:', movie)\n",
        "    print('Top 5 recommended Movies:', movie_recommender(movie_title=movie, movies=movies_list, doc_sims=doc_sim_df))\n",
        "    print()"
      ],
      "metadata": {
        "colab": {
          "base_uri": "https://localhost:8080/"
        },
        "id": "y_cRSN6dUWSr",
        "outputId": "1dcd2b30-0512-460e-9ff0-ff5de1417d7d"
      },
      "execution_count": 48,
      "outputs": [
        {
          "output_type": "stream",
          "name": "stdout",
          "text": [
            "Movie: Minions\n",
            "Top 5 recommended Movies: ['Despicable Me 2' 'Despicable Me'\n",
            " 'Teenage Mutant Ninja Turtles: Out of the Shadows' 'Superman'\n",
            " 'Rise of the Guardians']\n",
            "\n",
            "Movie: Interstellar\n",
            "Top 5 recommended Movies: ['Gattaca' 'Space Pirate Captain Harlock' 'Space Cowboys'\n",
            " 'Starship Troopers' 'Final Destination 2']\n",
            "\n",
            "Movie: Deadpool\n",
            "Top 5 recommended Movies: ['Silent Trigger' 'Underworld: Evolution' 'Bronson' 'Shaft' 'Don Jon']\n",
            "\n",
            "Movie: Jurassic World\n",
            "Top 5 recommended Movies: ['Jurassic Park' 'The Lost World: Jurassic Park'\n",
            " \"National Lampoon's Vacation\" 'The Nut Job' 'Vacation']\n",
            "\n",
            "Movie: Pirates of the Caribbean: The Curse of the Black Pearl\n",
            "Top 5 recommended Movies: [\"Pirates of the Caribbean: Dead Man's Chest\"\n",
            " 'Pirates of the Caribbean: On Stranger Tides' 'The Pirate'\n",
            " 'The Pirates! In an Adventure with Scientists!' 'Joyful Noise']\n",
            "\n",
            "Movie: Dawn of the Planet of the Apes\n",
            "Top 5 recommended Movies: ['Battle for the Planet of the Apes' 'Groove' 'The Other End of the Line'\n",
            " 'Chicago Overcoat' 'Definitely, Maybe']\n",
            "\n",
            "Movie: The Hunger Games: Mockingjay - Part 1\n",
            "Top 5 recommended Movies: ['The Hunger Games: Catching Fire' 'The Hunger Games: Mockingjay - Part 2'\n",
            " 'John Carter' 'For Greater Glory - The True Story of Cristiada'\n",
            " 'The Proposition']\n",
            "\n",
            "Movie: Terminator Genisys\n",
            "Top 5 recommended Movies: ['Terminator 2: Judgment Day' 'Terminator Salvation'\n",
            " 'Terminator 3: Rise of the Machines' 'Mad Max'\n",
            " 'X-Men: Days of Future Past']\n",
            "\n",
            "Movie: Captain America: Civil War\n",
            "Top 5 recommended Movies: ['Captain America: The Winter Soldier' 'This Means War'\n",
            " 'Avengers: Age of Ultron' 'Iron Man 2' 'Escape from Tomorrow']\n",
            "\n",
            "Movie: The Dark Knight\n",
            "Top 5 recommended Movies: ['The Dark Knight Rises' 'Batman Forever' 'Batman Returns'\n",
            " 'Batman: The Dark Knight Returns, Part 2' 'JFK']\n",
            "\n",
            "Movie: The Martian\n",
            "Top 5 recommended Movies: ['The Last Days on Mars' 'Swept Away' 'Alive' 'All Is Lost' 'Red Planet']\n",
            "\n",
            "Movie: Batman v Superman: Dawn of Justice\n",
            "Top 5 recommended Movies: ['Batman Returns' 'The Punisher' 'Defendor'\n",
            " 'Batman: The Dark Knight Returns, Part 2' 'Nowhere to Run']\n",
            "\n",
            "Movie: Pulp Fiction\n",
            "Top 5 recommended Movies: ['Sliding Doors' 'You Kill Me' 'New York Stories' 'Timecrimes'\n",
            " 'All or Nothing']\n",
            "\n",
            "Movie: The Godfather\n",
            "Top 5 recommended Movies: ['The Godfather: Part II' 'Blood Ties' 'Made' 'Lords of London'\n",
            " 'Easy Money']\n",
            "\n",
            "Movie: The Shawshank Redemption\n",
            "Top 5 recommended Movies: ['Civil Brand' 'Les Misérables' 'The Chorus' 'Prison' 'Fortress']\n",
            "\n",
            "Movie: The Lord of the Rings: The Fellowship of the Ring\n",
            "Top 5 recommended Movies: ['The Lord of the Rings: The Two Towers'\n",
            " 'The Hobbit: The Desolation of Smaug'\n",
            " 'The Lord of the Rings: The Return of the King'\n",
            " \"What's the Worst That Could Happen?\" 'The Hobbit: An Unexpected Journey']\n",
            "\n",
            "Movie: Harry Potter and the Chamber of Secrets\n",
            "Top 5 recommended Movies: ['Harry Potter and the Prisoner of Azkaban'\n",
            " 'Harry Potter and the Goblet of Fire'\n",
            " 'Harry Potter and the Order of the Phoenix'\n",
            " 'Harry Potter and the Half-Blood Prince'\n",
            " \"Harry Potter and the Philosopher's Stone\"]\n",
            "\n",
            "Movie: Star Wars\n",
            "Top 5 recommended Movies: ['The Empire Strikes Back' 'Return of the Jedi' 'Shrek the Third'\n",
            " 'The Ice Pirates' 'The Tale of Despereaux']\n",
            "\n",
            "Movie: The Hobbit: The Battle of the Five Armies\n",
            "Top 5 recommended Movies: ['The Hobbit: The Desolation of Smaug' 'The Hobbit: An Unexpected Journey'\n",
            " \"Dragon Nest: Warriors' Dawn\"\n",
            " 'A Funny Thing Happened on the Way to the Forum' 'X-Men: Apocalypse']\n",
            "\n",
            "Movie: Iron Man\n",
            "Top 5 recommended Movies: ['Iron Man 2' 'Avengers: Age of Ultron' 'Hostage' 'Iron Man 3'\n",
            " 'Baahubali: The Beginning']\n",
            "\n"
          ]
        }
      ]
    },
    {
      "cell_type": "markdown",
      "source": [
        "KODE TAMBAHAN (MODEL LANJUTAN DARI TF-IDF) = FASTTEXT"
      ],
      "metadata": {
        "id": "4K5yWX9vV_ih"
      }
    },
    {
      "cell_type": "code",
      "source": [
        "!pip install gensim"
      ],
      "metadata": {
        "colab": {
          "base_uri": "https://localhost:8080/"
        },
        "id": "W7ropgt_XD92",
        "outputId": "128b5aff-d097-4739-c663-6db7236e5520"
      },
      "execution_count": 50,
      "outputs": [
        {
          "output_type": "stream",
          "name": "stdout",
          "text": [
            "Collecting gensim\n",
            "  Downloading gensim-4.4.0-cp312-cp312-manylinux_2_24_x86_64.manylinux_2_28_x86_64.whl.metadata (8.4 kB)\n",
            "Requirement already satisfied: numpy>=1.18.5 in /usr/local/lib/python3.12/dist-packages (from gensim) (2.0.2)\n",
            "Requirement already satisfied: scipy>=1.7.0 in /usr/local/lib/python3.12/dist-packages (from gensim) (1.16.2)\n",
            "Requirement already satisfied: smart_open>=1.8.1 in /usr/local/lib/python3.12/dist-packages (from gensim) (7.4.0)\n",
            "Requirement already satisfied: wrapt in /usr/local/lib/python3.12/dist-packages (from smart_open>=1.8.1->gensim) (2.0.0)\n",
            "Downloading gensim-4.4.0-cp312-cp312-manylinux_2_24_x86_64.manylinux_2_28_x86_64.whl (27.9 MB)\n",
            "\u001b[2K   \u001b[90m━━━━━━━━━━━━━━━━━━━━━━━━━━━━━━━━━━━━━━━━\u001b[0m \u001b[32m27.9/27.9 MB\u001b[0m \u001b[31m66.6 MB/s\u001b[0m eta \u001b[36m0:00:00\u001b[0m\n",
            "\u001b[?25hInstalling collected packages: gensim\n",
            "Successfully installed gensim-4.4.0\n"
          ]
        }
      ]
    },
    {
      "cell_type": "code",
      "source": [
        "# Gensim FastText\n",
        "from gensim.models import FastText\n",
        "\n",
        "tokenized_docs = [doc.split() for doc in norm_corpus]\n",
        "ft_model = FastText(tokenized_docs, window=30, min_count=2, workers=4, sg=1)"
      ],
      "metadata": {
        "id": "ugQw0PGHUYn3"
      },
      "execution_count": 51,
      "outputs": []
    },
    {
      "cell_type": "markdown",
      "source": [
        "Fungsi ini mengambil representasi vektor dari setiap kata (yang dihasilkan oleh model FastText atau Word2Vec) dan merata-ratakannya untuk menghasilkan satu vektor tunggal yang mewakili makna keseluruhan satu dokumen."
      ],
      "metadata": {
        "id": "fwvElgUBX93J"
      }
    },
    {
      "cell_type": "code",
      "source": [
        "def averaged_word2vec_vectorizer(corpus, model, num_features):\n",
        "    vocabulary = set(model.wv.index_to_key)\n",
        "\n",
        "    def average_word_vectors(words, model, vocabulary, num_features):\n",
        "        feature_vector = np.zeros((num_features,), dtype=\"float64\")\n",
        "        nwords = 0.\n",
        "\n",
        "        for word in words:\n",
        "            if word in vocabulary:\n",
        "                nwords = nwords + 1.\n",
        "                feature_vector = np.add(feature_vector, model.wv[word])\n",
        "        if nwords:\n",
        "            feature_vector = np.divide(feature_vector, nwords)\n",
        "\n",
        "        return feature_vector\n",
        "\n",
        "    features = [average_word_vectors(tokenized_sentence, model, vocabulary, num_features)\n",
        "                    for tokenized_sentence in corpus]\n",
        "    return np.array(features)"
      ],
      "metadata": {
        "id": "CPB63qflWcuO"
      },
      "execution_count": 52,
      "outputs": []
    },
    {
      "cell_type": "markdown",
      "source": [
        "Angka 100 adalah nilai untuk parameter num_features (jumlah fitur). Ini menentukan dimensi atau panjang dari vektor numerik yang mewakili setiap kata dan setiap sinopsis film."
      ],
      "metadata": {
        "id": "OBhOVXXPYOac"
      }
    },
    {
      "cell_type": "code",
      "source": [
        "doc_vecs_ft = averaged_word2vec_vectorizer(tokenized_docs, ft_model, 100)\n",
        "doc_vecs_ft.shape"
      ],
      "metadata": {
        "colab": {
          "base_uri": "https://localhost:8080/"
        },
        "id": "wMh5LFFMXoTG",
        "outputId": "d5e199d7-9385-4bc0-d841-af70be81992c"
      },
      "execution_count": 53,
      "outputs": [
        {
          "output_type": "execute_result",
          "data": {
            "text/plain": [
              "(4800, 100)"
            ]
          },
          "metadata": {},
          "execution_count": 53
        }
      ]
    },
    {
      "cell_type": "markdown",
      "source": [
        "Mengecek Similarity"
      ],
      "metadata": {
        "id": "C1xoIgT2YmBa"
      }
    },
    {
      "cell_type": "code",
      "source": [
        "doc_sim = cosine_similarity(doc_vecs_ft)\n",
        "doc_sim_df = pd.DataFrame(doc_sim)\n",
        "doc_sim_df.head()"
      ],
      "metadata": {
        "colab": {
          "base_uri": "https://localhost:8080/",
          "height": 255
        },
        "id": "3yapwnYuYBrh",
        "outputId": "63dc73d2-0416-48bb-cc16-3e53ab212a96"
      },
      "execution_count": 54,
      "outputs": [
        {
          "output_type": "execute_result",
          "data": {
            "text/plain": [
              "       0         1         2         3         4         5         6     \\\n",
              "0  1.000000  0.919827  0.969126  0.954164  0.966287  0.953822  0.985314   \n",
              "1  0.919827  1.000000  0.965330  0.957324  0.961701  0.962074  0.940203   \n",
              "2  0.969126  0.965330  1.000000  0.980635  0.984185  0.971201  0.976174   \n",
              "3  0.954164  0.957324  0.980635  1.000000  0.980791  0.973490  0.975156   \n",
              "4  0.966287  0.961701  0.984185  0.980791  1.000000  0.963683  0.977973   \n",
              "\n",
              "       7         8         9     ...      4790      4791      4792      4793  \\\n",
              "0  0.943288  0.973284  0.959846  ...  0.972857  0.942426  0.980754  0.905749   \n",
              "1  0.988819  0.951694  0.945999  ...  0.886791  0.867707  0.934966  0.835951   \n",
              "2  0.982717  0.985978  0.952889  ...  0.944190  0.923879  0.956485  0.849146   \n",
              "3  0.965486  0.970664  0.932421  ...  0.950110  0.928012  0.947804  0.821668   \n",
              "4  0.977341  0.976068  0.933863  ...  0.958211  0.935788  0.958451  0.835412   \n",
              "\n",
              "       4794      4795      4796      4797      4798      4799  \n",
              "0  0.911234  0.957443  0.978104  0.973325  0.956905  0.981285  \n",
              "1  0.837896  0.873573  0.887224  0.893891  0.880691  0.937696  \n",
              "2  0.900832  0.915779  0.962428  0.958267  0.939511  0.976293  \n",
              "3  0.905856  0.908876  0.958255  0.948827  0.935995  0.966062  \n",
              "4  0.919246  0.903552  0.965779  0.948023  0.957960  0.985714  \n",
              "\n",
              "[5 rows x 4800 columns]"
            ],
            "text/html": [
              "\n",
              "  <div id=\"df-66346e51-c23d-45d2-b2df-aa0ed4646310\" class=\"colab-df-container\">\n",
              "    <div>\n",
              "<style scoped>\n",
              "    .dataframe tbody tr th:only-of-type {\n",
              "        vertical-align: middle;\n",
              "    }\n",
              "\n",
              "    .dataframe tbody tr th {\n",
              "        vertical-align: top;\n",
              "    }\n",
              "\n",
              "    .dataframe thead th {\n",
              "        text-align: right;\n",
              "    }\n",
              "</style>\n",
              "<table border=\"1\" class=\"dataframe\">\n",
              "  <thead>\n",
              "    <tr style=\"text-align: right;\">\n",
              "      <th></th>\n",
              "      <th>0</th>\n",
              "      <th>1</th>\n",
              "      <th>2</th>\n",
              "      <th>3</th>\n",
              "      <th>4</th>\n",
              "      <th>5</th>\n",
              "      <th>6</th>\n",
              "      <th>7</th>\n",
              "      <th>8</th>\n",
              "      <th>9</th>\n",
              "      <th>...</th>\n",
              "      <th>4790</th>\n",
              "      <th>4791</th>\n",
              "      <th>4792</th>\n",
              "      <th>4793</th>\n",
              "      <th>4794</th>\n",
              "      <th>4795</th>\n",
              "      <th>4796</th>\n",
              "      <th>4797</th>\n",
              "      <th>4798</th>\n",
              "      <th>4799</th>\n",
              "    </tr>\n",
              "  </thead>\n",
              "  <tbody>\n",
              "    <tr>\n",
              "      <th>0</th>\n",
              "      <td>1.000000</td>\n",
              "      <td>0.919827</td>\n",
              "      <td>0.969126</td>\n",
              "      <td>0.954164</td>\n",
              "      <td>0.966287</td>\n",
              "      <td>0.953822</td>\n",
              "      <td>0.985314</td>\n",
              "      <td>0.943288</td>\n",
              "      <td>0.973284</td>\n",
              "      <td>0.959846</td>\n",
              "      <td>...</td>\n",
              "      <td>0.972857</td>\n",
              "      <td>0.942426</td>\n",
              "      <td>0.980754</td>\n",
              "      <td>0.905749</td>\n",
              "      <td>0.911234</td>\n",
              "      <td>0.957443</td>\n",
              "      <td>0.978104</td>\n",
              "      <td>0.973325</td>\n",
              "      <td>0.956905</td>\n",
              "      <td>0.981285</td>\n",
              "    </tr>\n",
              "    <tr>\n",
              "      <th>1</th>\n",
              "      <td>0.919827</td>\n",
              "      <td>1.000000</td>\n",
              "      <td>0.965330</td>\n",
              "      <td>0.957324</td>\n",
              "      <td>0.961701</td>\n",
              "      <td>0.962074</td>\n",
              "      <td>0.940203</td>\n",
              "      <td>0.988819</td>\n",
              "      <td>0.951694</td>\n",
              "      <td>0.945999</td>\n",
              "      <td>...</td>\n",
              "      <td>0.886791</td>\n",
              "      <td>0.867707</td>\n",
              "      <td>0.934966</td>\n",
              "      <td>0.835951</td>\n",
              "      <td>0.837896</td>\n",
              "      <td>0.873573</td>\n",
              "      <td>0.887224</td>\n",
              "      <td>0.893891</td>\n",
              "      <td>0.880691</td>\n",
              "      <td>0.937696</td>\n",
              "    </tr>\n",
              "    <tr>\n",
              "      <th>2</th>\n",
              "      <td>0.969126</td>\n",
              "      <td>0.965330</td>\n",
              "      <td>1.000000</td>\n",
              "      <td>0.980635</td>\n",
              "      <td>0.984185</td>\n",
              "      <td>0.971201</td>\n",
              "      <td>0.976174</td>\n",
              "      <td>0.982717</td>\n",
              "      <td>0.985978</td>\n",
              "      <td>0.952889</td>\n",
              "      <td>...</td>\n",
              "      <td>0.944190</td>\n",
              "      <td>0.923879</td>\n",
              "      <td>0.956485</td>\n",
              "      <td>0.849146</td>\n",
              "      <td>0.900832</td>\n",
              "      <td>0.915779</td>\n",
              "      <td>0.962428</td>\n",
              "      <td>0.958267</td>\n",
              "      <td>0.939511</td>\n",
              "      <td>0.976293</td>\n",
              "    </tr>\n",
              "    <tr>\n",
              "      <th>3</th>\n",
              "      <td>0.954164</td>\n",
              "      <td>0.957324</td>\n",
              "      <td>0.980635</td>\n",
              "      <td>1.000000</td>\n",
              "      <td>0.980791</td>\n",
              "      <td>0.973490</td>\n",
              "      <td>0.975156</td>\n",
              "      <td>0.965486</td>\n",
              "      <td>0.970664</td>\n",
              "      <td>0.932421</td>\n",
              "      <td>...</td>\n",
              "      <td>0.950110</td>\n",
              "      <td>0.928012</td>\n",
              "      <td>0.947804</td>\n",
              "      <td>0.821668</td>\n",
              "      <td>0.905856</td>\n",
              "      <td>0.908876</td>\n",
              "      <td>0.958255</td>\n",
              "      <td>0.948827</td>\n",
              "      <td>0.935995</td>\n",
              "      <td>0.966062</td>\n",
              "    </tr>\n",
              "    <tr>\n",
              "      <th>4</th>\n",
              "      <td>0.966287</td>\n",
              "      <td>0.961701</td>\n",
              "      <td>0.984185</td>\n",
              "      <td>0.980791</td>\n",
              "      <td>1.000000</td>\n",
              "      <td>0.963683</td>\n",
              "      <td>0.977973</td>\n",
              "      <td>0.977341</td>\n",
              "      <td>0.976068</td>\n",
              "      <td>0.933863</td>\n",
              "      <td>...</td>\n",
              "      <td>0.958211</td>\n",
              "      <td>0.935788</td>\n",
              "      <td>0.958451</td>\n",
              "      <td>0.835412</td>\n",
              "      <td>0.919246</td>\n",
              "      <td>0.903552</td>\n",
              "      <td>0.965779</td>\n",
              "      <td>0.948023</td>\n",
              "      <td>0.957960</td>\n",
              "      <td>0.985714</td>\n",
              "    </tr>\n",
              "  </tbody>\n",
              "</table>\n",
              "<p>5 rows × 4800 columns</p>\n",
              "</div>\n",
              "    <div class=\"colab-df-buttons\">\n",
              "\n",
              "  <div class=\"colab-df-container\">\n",
              "    <button class=\"colab-df-convert\" onclick=\"convertToInteractive('df-66346e51-c23d-45d2-b2df-aa0ed4646310')\"\n",
              "            title=\"Convert this dataframe to an interactive table.\"\n",
              "            style=\"display:none;\">\n",
              "\n",
              "  <svg xmlns=\"http://www.w3.org/2000/svg\" height=\"24px\" viewBox=\"0 -960 960 960\">\n",
              "    <path d=\"M120-120v-720h720v720H120Zm60-500h600v-160H180v160Zm220 220h160v-160H400v160Zm0 220h160v-160H400v160ZM180-400h160v-160H180v160Zm440 0h160v-160H620v160ZM180-180h160v-160H180v160Zm440 0h160v-160H620v160Z\"/>\n",
              "  </svg>\n",
              "    </button>\n",
              "\n",
              "  <style>\n",
              "    .colab-df-container {\n",
              "      display:flex;\n",
              "      gap: 12px;\n",
              "    }\n",
              "\n",
              "    .colab-df-convert {\n",
              "      background-color: #E8F0FE;\n",
              "      border: none;\n",
              "      border-radius: 50%;\n",
              "      cursor: pointer;\n",
              "      display: none;\n",
              "      fill: #1967D2;\n",
              "      height: 32px;\n",
              "      padding: 0 0 0 0;\n",
              "      width: 32px;\n",
              "    }\n",
              "\n",
              "    .colab-df-convert:hover {\n",
              "      background-color: #E2EBFA;\n",
              "      box-shadow: 0px 1px 2px rgba(60, 64, 67, 0.3), 0px 1px 3px 1px rgba(60, 64, 67, 0.15);\n",
              "      fill: #174EA6;\n",
              "    }\n",
              "\n",
              "    .colab-df-buttons div {\n",
              "      margin-bottom: 4px;\n",
              "    }\n",
              "\n",
              "    [theme=dark] .colab-df-convert {\n",
              "      background-color: #3B4455;\n",
              "      fill: #D2E3FC;\n",
              "    }\n",
              "\n",
              "    [theme=dark] .colab-df-convert:hover {\n",
              "      background-color: #434B5C;\n",
              "      box-shadow: 0px 1px 3px 1px rgba(0, 0, 0, 0.15);\n",
              "      filter: drop-shadow(0px 1px 2px rgba(0, 0, 0, 0.3));\n",
              "      fill: #FFFFFF;\n",
              "    }\n",
              "  </style>\n",
              "\n",
              "    <script>\n",
              "      const buttonEl =\n",
              "        document.querySelector('#df-66346e51-c23d-45d2-b2df-aa0ed4646310 button.colab-df-convert');\n",
              "      buttonEl.style.display =\n",
              "        google.colab.kernel.accessAllowed ? 'block' : 'none';\n",
              "\n",
              "      async function convertToInteractive(key) {\n",
              "        const element = document.querySelector('#df-66346e51-c23d-45d2-b2df-aa0ed4646310');\n",
              "        const dataTable =\n",
              "          await google.colab.kernel.invokeFunction('convertToInteractive',\n",
              "                                                    [key], {});\n",
              "        if (!dataTable) return;\n",
              "\n",
              "        const docLinkHtml = 'Like what you see? Visit the ' +\n",
              "          '<a target=\"_blank\" href=https://colab.research.google.com/notebooks/data_table.ipynb>data table notebook</a>'\n",
              "          + ' to learn more about interactive tables.';\n",
              "        element.innerHTML = '';\n",
              "        dataTable['output_type'] = 'display_data';\n",
              "        await google.colab.output.renderOutput(dataTable, element);\n",
              "        const docLink = document.createElement('div');\n",
              "        docLink.innerHTML = docLinkHtml;\n",
              "        element.appendChild(docLink);\n",
              "      }\n",
              "    </script>\n",
              "  </div>\n",
              "\n",
              "\n",
              "    <div id=\"df-7e62ab63-2c94-44bc-a012-3e760e8703a6\">\n",
              "      <button class=\"colab-df-quickchart\" onclick=\"quickchart('df-7e62ab63-2c94-44bc-a012-3e760e8703a6')\"\n",
              "                title=\"Suggest charts\"\n",
              "                style=\"display:none;\">\n",
              "\n",
              "<svg xmlns=\"http://www.w3.org/2000/svg\" height=\"24px\"viewBox=\"0 0 24 24\"\n",
              "     width=\"24px\">\n",
              "    <g>\n",
              "        <path d=\"M19 3H5c-1.1 0-2 .9-2 2v14c0 1.1.9 2 2 2h14c1.1 0 2-.9 2-2V5c0-1.1-.9-2-2-2zM9 17H7v-7h2v7zm4 0h-2V7h2v10zm4 0h-2v-4h2v4z\"/>\n",
              "    </g>\n",
              "</svg>\n",
              "      </button>\n",
              "\n",
              "<style>\n",
              "  .colab-df-quickchart {\n",
              "      --bg-color: #E8F0FE;\n",
              "      --fill-color: #1967D2;\n",
              "      --hover-bg-color: #E2EBFA;\n",
              "      --hover-fill-color: #174EA6;\n",
              "      --disabled-fill-color: #AAA;\n",
              "      --disabled-bg-color: #DDD;\n",
              "  }\n",
              "\n",
              "  [theme=dark] .colab-df-quickchart {\n",
              "      --bg-color: #3B4455;\n",
              "      --fill-color: #D2E3FC;\n",
              "      --hover-bg-color: #434B5C;\n",
              "      --hover-fill-color: #FFFFFF;\n",
              "      --disabled-bg-color: #3B4455;\n",
              "      --disabled-fill-color: #666;\n",
              "  }\n",
              "\n",
              "  .colab-df-quickchart {\n",
              "    background-color: var(--bg-color);\n",
              "    border: none;\n",
              "    border-radius: 50%;\n",
              "    cursor: pointer;\n",
              "    display: none;\n",
              "    fill: var(--fill-color);\n",
              "    height: 32px;\n",
              "    padding: 0;\n",
              "    width: 32px;\n",
              "  }\n",
              "\n",
              "  .colab-df-quickchart:hover {\n",
              "    background-color: var(--hover-bg-color);\n",
              "    box-shadow: 0 1px 2px rgba(60, 64, 67, 0.3), 0 1px 3px 1px rgba(60, 64, 67, 0.15);\n",
              "    fill: var(--button-hover-fill-color);\n",
              "  }\n",
              "\n",
              "  .colab-df-quickchart-complete:disabled,\n",
              "  .colab-df-quickchart-complete:disabled:hover {\n",
              "    background-color: var(--disabled-bg-color);\n",
              "    fill: var(--disabled-fill-color);\n",
              "    box-shadow: none;\n",
              "  }\n",
              "\n",
              "  .colab-df-spinner {\n",
              "    border: 2px solid var(--fill-color);\n",
              "    border-color: transparent;\n",
              "    border-bottom-color: var(--fill-color);\n",
              "    animation:\n",
              "      spin 1s steps(1) infinite;\n",
              "  }\n",
              "\n",
              "  @keyframes spin {\n",
              "    0% {\n",
              "      border-color: transparent;\n",
              "      border-bottom-color: var(--fill-color);\n",
              "      border-left-color: var(--fill-color);\n",
              "    }\n",
              "    20% {\n",
              "      border-color: transparent;\n",
              "      border-left-color: var(--fill-color);\n",
              "      border-top-color: var(--fill-color);\n",
              "    }\n",
              "    30% {\n",
              "      border-color: transparent;\n",
              "      border-left-color: var(--fill-color);\n",
              "      border-top-color: var(--fill-color);\n",
              "      border-right-color: var(--fill-color);\n",
              "    }\n",
              "    40% {\n",
              "      border-color: transparent;\n",
              "      border-right-color: var(--fill-color);\n",
              "      border-top-color: var(--fill-color);\n",
              "    }\n",
              "    60% {\n",
              "      border-color: transparent;\n",
              "      border-right-color: var(--fill-color);\n",
              "    }\n",
              "    80% {\n",
              "      border-color: transparent;\n",
              "      border-right-color: var(--fill-color);\n",
              "      border-bottom-color: var(--fill-color);\n",
              "    }\n",
              "    90% {\n",
              "      border-color: transparent;\n",
              "      border-bottom-color: var(--fill-color);\n",
              "    }\n",
              "  }\n",
              "</style>\n",
              "\n",
              "      <script>\n",
              "        async function quickchart(key) {\n",
              "          const quickchartButtonEl =\n",
              "            document.querySelector('#' + key + ' button');\n",
              "          quickchartButtonEl.disabled = true;  // To prevent multiple clicks.\n",
              "          quickchartButtonEl.classList.add('colab-df-spinner');\n",
              "          try {\n",
              "            const charts = await google.colab.kernel.invokeFunction(\n",
              "                'suggestCharts', [key], {});\n",
              "          } catch (error) {\n",
              "            console.error('Error during call to suggestCharts:', error);\n",
              "          }\n",
              "          quickchartButtonEl.classList.remove('colab-df-spinner');\n",
              "          quickchartButtonEl.classList.add('colab-df-quickchart-complete');\n",
              "        }\n",
              "        (() => {\n",
              "          let quickchartButtonEl =\n",
              "            document.querySelector('#df-7e62ab63-2c94-44bc-a012-3e760e8703a6 button');\n",
              "          quickchartButtonEl.style.display =\n",
              "            google.colab.kernel.accessAllowed ? 'block' : 'none';\n",
              "        })();\n",
              "      </script>\n",
              "    </div>\n",
              "\n",
              "    </div>\n",
              "  </div>\n"
            ],
            "application/vnd.google.colaboratory.intrinsic+json": {
              "type": "dataframe",
              "variable_name": "doc_sim_df"
            }
          },
          "metadata": {},
          "execution_count": 54
        }
      ]
    },
    {
      "cell_type": "code",
      "source": [
        "for movie in popular_movies:\n",
        "    print('Movie:', movie)\n",
        "    print('Top 5 recommended Movies:', movie_recommender(movie_title=movie, movies=movies_list, doc_sims=doc_sim_df))\n",
        "    print()"
      ],
      "metadata": {
        "colab": {
          "base_uri": "https://localhost:8080/"
        },
        "id": "NQXjRN1qYj5B",
        "outputId": "c74b02bc-4071-4032-e025-50cf5aedda72"
      },
      "execution_count": 55,
      "outputs": [
        {
          "output_type": "stream",
          "name": "stdout",
          "text": [
            "Movie: Minions\n",
            "Top 5 recommended Movies: ['Quigley Down Under' 'The Fan' 'The Pursuit of D.B. Cooper'\n",
            " 'Heroes of Dirt' 'The Mask']\n",
            "\n",
            "Movie: Interstellar\n",
            "Top 5 recommended Movies: ['The Inhabited Island' 'Sea Rex 3D: Journey to a Prehistoric World'\n",
            " 'Gattaca' 'Beneath the Planet of the Apes'\n",
            " 'Dawn of the Planet of the Apes']\n",
            "\n",
            "Movie: Deadpool\n",
            "Top 5 recommended Movies: ['Stake Land' 'Jakob the Liar' 'A Most Wanted Man'\n",
            " 'Signed, Sealed, Delivered' 'The Girl with the Dragon Tattoo']\n",
            "\n",
            "Movie: Jurassic World\n",
            "Top 5 recommended Movies: ['Short Cut to Nirvana: Kumbh Mela' 'Samsara'\n",
            " 'Dolphins and Whales: Tribes of the Ocean' '4 Months, 3 Weeks and 2 Days'\n",
            " 'Jurassic Park']\n",
            "\n",
            "Movie: Pirates of the Caribbean: The Curse of the Black Pearl\n",
            "Top 5 recommended Movies: ['Dylan Dog: Dead of Night' 'Tycoon' 'The Collection' 'Shanghai Surprise'\n",
            " 'Extraordinary Measures']\n",
            "\n",
            "Movie: Dawn of the Planet of the Apes\n",
            "Top 5 recommended Movies: ['Super Mario Bros.' 'Mutant World' 'Transformers: Dark of the Moon'\n",
            " 'Doomsday' 'Iron Man 3']\n",
            "\n",
            "Movie: The Hunger Games: Mockingjay - Part 1\n",
            "Top 5 recommended Movies: ['Dances with Wolves' 'Maggie' 'Equilibrium' 'The Scorpion King'\n",
            " \"Heaven's Gate\"]\n",
            "\n",
            "Movie: Terminator Genisys\n",
            "Top 5 recommended Movies: ['Dawn of the Planet of the Apes' 'Pacific Rim'\n",
            " 'Transformers: Dark of the Moon' 'The Last Emperor'\n",
            " 'The Andromeda Strain']\n",
            "\n",
            "Movie: Captain America: Civil War\n",
            "Top 5 recommended Movies: ['The Bridge on the River Kwai' 'A Bridge Too Far' 'The Longest Day'\n",
            " 'Tank Girl' '55 Days at Peking']\n",
            "\n",
            "Movie: The Dark Knight\n",
            "Top 5 recommended Movies: ['The Raid' 'Die Hard 2' 'Saw IV' 'Broken City'\n",
            " 'The Marine 4: Moving Target']\n",
            "\n",
            "Movie: The Martian\n",
            "Top 5 recommended Movies: ['Star Trek IV: The Voyage Home' 'Supernova' 'Pitch Black' 'Serenity'\n",
            " 'Star Trek III: The Search for Spock']\n",
            "\n",
            "Movie: Batman v Superman: Dawn of Justice\n",
            "Top 5 recommended Movies: ['The Shadow' 'Inspector Gadget' 'Ultramarines: A Warhammer 40,000 Movie'\n",
            " 'Equilibrium' 'The Manchurian Candidate']\n",
            "\n",
            "Movie: Pulp Fiction\n",
            "Top 5 recommended Movies: ['Get on the Bus' 'Free Birds' 'The Internship'\n",
            " 'Harold & Kumar Escape from Guantanamo Bay'\n",
            " 'The Outrageous Sophie Tucker']\n",
            "\n",
            "Movie: The Godfather\n",
            "Top 5 recommended Movies: ['Eastern Promises' 'The Last Godfather' 'Butterfly'\n",
            " 'Welcome to Mooseport' 'Eye for an Eye']\n",
            "\n",
            "Movie: The Shawshank Redemption\n",
            "Top 5 recommended Movies: ['The Client' 'Diamond Ruff' 'Welcome to Mooseport' 'Wild Target'\n",
            " 'Sleepers']\n",
            "\n",
            "Movie: The Lord of the Rings: The Fellowship of the Ring\n",
            "Top 5 recommended Movies: ['Friday the 13th Part VII: The New Blood' 'The Legend of Drunken Master'\n",
            " 'Jurassic Park III' 'Yogi Bear' 'Godzilla 2000']\n",
            "\n",
            "Movie: Harry Potter and the Chamber of Secrets\n",
            "Top 5 recommended Movies: ['The Fourth Kind' 'The Last Days on Mars'\n",
            " 'Transformers: Revenge of the Fallen' 'The Relic' 'Snakes on a Plane']\n",
            "\n",
            "Movie: Star Wars\n",
            "Top 5 recommended Movies: ['Gods of Egypt' 'Beowulf' 'Iron Man'\n",
            " 'Beastmaster 2: Through the Portal of Time'\n",
            " 'Highlander: The Final Dimension']\n",
            "\n",
            "Movie: The Hobbit: The Battle of the Five Armies\n",
            "Top 5 recommended Movies: ['Pacific Rim' 'Free State of Jones' 'Highlander: The Final Dimension'\n",
            " 'Freedom' 'Of Gods and Men']\n",
            "\n",
            "Movie: Iron Man\n",
            "Top 5 recommended Movies: ['Star Wars: Episode III - Revenge of the Sith' 'Star Wars'\n",
            " 'Return of the Jedi' 'The Empire Strikes Back'\n",
            " 'Beastmaster 2: Through the Portal of Time']\n",
            "\n"
          ]
        }
      ]
    },
    {
      "cell_type": "code",
      "source": [],
      "metadata": {
        "id": "c10gHanmYqkW"
      },
      "execution_count": null,
      "outputs": []
    }
  ]
}