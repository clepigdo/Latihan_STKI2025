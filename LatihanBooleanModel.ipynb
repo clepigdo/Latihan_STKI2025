{
  "cells": [
    {
      "cell_type": "markdown",
      "metadata": {
        "id": "view-in-github",
        "colab_type": "text"
      },
      "source": [
        "<a href=\"https://colab.research.google.com/github/clepigdo/Latihan_STKI2025/blob/main/LatihanBooleanModel.ipynb\" target=\"_parent\"><img src=\"https://colab.research.google.com/assets/colab-badge.svg\" alt=\"Open In Colab\"/></a>"
      ]
    },
    {
      "cell_type": "code",
      "source": [
        "!ls \"/content/drive/MyDrive/Colab Notebooks/Minggu 3/data/\""
      ],
      "metadata": {
        "colab": {
          "base_uri": "https://localhost:8080/"
        },
        "id": "tajQSl_H3BDL",
        "outputId": "c0ee206a-4a41-411a-9fe7-59fabb33f60f"
      },
      "id": "tajQSl_H3BDL",
      "execution_count": 10,
      "outputs": [
        {
          "output_type": "stream",
          "name": "stdout",
          "text": [
            " badminton.txt\t     gambar.webp\t 'queen elizabeth.txt'\n",
            "'barack obama.txt'  'lee quan yew.txt'\t 'shinzo abe.txt'\n",
            " baseball.txt\t    'narendra modi.txt'  'table tennis.txt'\n"
          ]
        }
      ]
    },
    {
      "cell_type": "code",
      "execution_count": 11,
      "id": "0bd86a33-0ffd-48d2-9056-c7574bf13168",
      "metadata": {
        "tags": [],
        "colab": {
          "base_uri": "https://localhost:8080/"
        },
        "id": "0bd86a33-0ffd-48d2-9056-c7574bf13168",
        "outputId": "0521efd1-5a88-4119-8f92-ef6a5af17804"
      },
      "outputs": [
        {
          "output_type": "stream",
          "name": "stderr",
          "text": [
            "[nltk_data] Downloading package stopwords to /root/nltk_data...\n",
            "[nltk_data]   Package stopwords is already up-to-date!\n",
            "[nltk_data] Downloading package punkt to /root/nltk_data...\n",
            "[nltk_data]   Package punkt is already up-to-date!\n"
          ]
        }
      ],
      "source": [
        "import nltk\n",
        "nltk.download('stopwords')\n",
        "nltk.download('punkt')\n",
        "from nltk.corpus import stopwords\n",
        "from nltk.stem import WordNetLemmatizer, PorterStemmer\n",
        "from nltk.tokenize import sent_tokenize , word_tokenize\n",
        "import glob\n",
        "import re\n",
        "import os\n",
        "import numpy as np\n",
        "import sys\n",
        "Stopwords = set(stopwords.words('english'))"
      ]
    },
    {
      "cell_type": "code",
      "source": [
        "from google.colab import drive\n",
        "drive.mount('/content/drive', force_remount=True)"
      ],
      "metadata": {
        "colab": {
          "base_uri": "https://localhost:8080/"
        },
        "id": "_CYpAskX1cq9",
        "outputId": "ed667798-1035-4b26-bdb2-d5a037553936"
      },
      "id": "_CYpAskX1cq9",
      "execution_count": 12,
      "outputs": [
        {
          "output_type": "stream",
          "name": "stdout",
          "text": [
            "Mounted at /content/drive\n"
          ]
        }
      ]
    },
    {
      "cell_type": "markdown",
      "id": "47e13e23-7240-4a95-81c4-864f003c0854",
      "metadata": {
        "id": "47e13e23-7240-4a95-81c4-864f003c0854"
      },
      "source": [
        "Implementing helper functions"
      ]
    },
    {
      "cell_type": "code",
      "execution_count": 17,
      "id": "aa0b41d0-8d2c-4235-b9ef-5fd8aeb1da27",
      "metadata": {
        "tags": [],
        "id": "aa0b41d0-8d2c-4235-b9ef-5fd8aeb1da27"
      },
      "outputs": [],
      "source": [
        "def finding_all_unique_words_and_freq(words):\n",
        "    words_unique = []\n",
        "    word_freq = {}\n",
        "    for word in words:\n",
        "        if word not in words_unique:\n",
        "            words_unique.append(word)\n",
        "    for word in words_unique:\n",
        "        word_freq[word] = words.count(word)\n",
        "    return word_freq\n",
        "def finding_freq_of_word_in_doc(word,words):\n",
        "    freq = words.count(word)\n",
        "\n",
        "def remove_special_characters(text):\n",
        "    regex = re.compile(r'[^a-zA-Z0-9\\s]')\n",
        "    text_returned = re.sub(regex,'',text)\n",
        "    return text_returned"
      ]
    },
    {
      "cell_type": "markdown",
      "id": "b2f7584e-7a8e-4824-a547-0753f8e31cf4",
      "metadata": {
        "id": "b2f7584e-7a8e-4824-a547-0753f8e31cf4"
      },
      "source": [
        "Finding the set of unique words from all documents of the data set"
      ]
    },
    {
      "cell_type": "code",
      "execution_count": 34,
      "id": "a355cc37-4092-430a-8ae8-6f2625b56acb",
      "metadata": {
        "tags": [],
        "colab": {
          "base_uri": "https://localhost:8080/"
        },
        "id": "a355cc37-4092-430a-8ae8-6f2625b56acb",
        "outputId": "340a5428-d0ff-4166-f6e4-8c22aed9b880"
      },
      "outputs": [
        {
          "output_type": "stream",
          "name": "stdout",
          "text": [
            "/content/drive/MyDrive/Colab Notebooks/Minggu 3/data/narendra modi.txt\n",
            "/content/drive/MyDrive/Colab Notebooks/Minggu 3/data/gambar.webp\n",
            "/content/drive/MyDrive/Colab Notebooks/Minggu 3/data/baseball.txt\n",
            "/content/drive/MyDrive/Colab Notebooks/Minggu 3/data/shinzo abe.txt\n",
            "/content/drive/MyDrive/Colab Notebooks/Minggu 3/data/badminton.txt\n",
            "/content/drive/MyDrive/Colab Notebooks/Minggu 3/data/table tennis.txt\n",
            "/content/drive/MyDrive/Colab Notebooks/Minggu 3/data/barack obama.txt\n",
            "/content/drive/MyDrive/Colab Notebooks/Minggu 3/data/lee quan yew.txt\n",
            "/content/drive/MyDrive/Colab Notebooks/Minggu 3/data/queen elizabeth.txt\n"
          ]
        }
      ],
      "source": [
        "all_words = []\n",
        "dict_global = {}\n",
        "file_folder = \"/content/drive/MyDrive/Colab Notebooks/Minggu 3/data/*\"\n",
        "idx = 1\n",
        "files_with_index = {}\n",
        "for file in glob.glob(file_folder):\n",
        "    print(file)\n",
        "    fname = file\n",
        "    file = open(file, \"r\", encoding=\"utf-8\", errors=\"ignore\")\n",
        "    text = file.read()\n",
        "    text = remove_special_characters(text)\n",
        "    text = re.sub(re.compile(r'\\d'),'',text)\n",
        "    sentences = sent_tokenize(text)\n",
        "    words = word_tokenize(text)\n",
        "    words = [word for word in words if len(words)>1]\n",
        "    words = [word.lower() for word in words]\n",
        "    words = [word for word in words if word not in Stopwords]\n",
        "    dict_global.update(finding_all_unique_words_and_freq(words))\n",
        "    files_with_index[idx] = os.path.basename(fname)\n",
        "    idx = idx + 1\n",
        "\n",
        "unique_words_all = set(dict_global.keys())"
      ]
    },
    {
      "cell_type": "markdown",
      "id": "a6ebae2f-46dd-4e54-ad45-f21382a01cea",
      "metadata": {
        "id": "a6ebae2f-46dd-4e54-ad45-f21382a01cea"
      },
      "source": [
        "Defining the linked list"
      ]
    },
    {
      "cell_type": "code",
      "execution_count": 35,
      "id": "3ba2475f-1013-4cbc-b9b7-007766d893a6",
      "metadata": {
        "tags": [],
        "id": "3ba2475f-1013-4cbc-b9b7-007766d893a6"
      },
      "outputs": [],
      "source": [
        "class Node:\n",
        "    def __init__(self ,docId, freq = None):\n",
        "        self.freq = freq\n",
        "        self.doc = docId\n",
        "        self.nextval = None\n",
        "\n",
        "class SlinkedList:\n",
        "    def __init__(self ,head = None):\n",
        "        self.head = head"
      ]
    },
    {
      "cell_type": "markdown",
      "id": "c5f8513f-75df-4277-a684-a91c551ea399",
      "metadata": {
        "id": "c5f8513f-75df-4277-a684-a91c551ea399"
      },
      "source": [
        "Making a linkedlist for each word and storing all the nodes (containing the file name and frequency of the respective word ) in the linkedlist."
      ]
    },
    {
      "cell_type": "code",
      "execution_count": 37,
      "id": "aeaea509-d82e-4679-bbfd-93d65b8d8c36",
      "metadata": {
        "tags": [],
        "id": "aeaea509-d82e-4679-bbfd-93d65b8d8c36"
      },
      "outputs": [],
      "source": [
        "linked_list_data = {}\n",
        "for word in unique_words_all:\n",
        "    linked_list_data[word] = SlinkedList()\n",
        "    linked_list_data[word].head = Node(1,Node)\n",
        "word_freq_in_doc = {}\n",
        "idx = 1\n",
        "for file in glob.glob(file_folder):\n",
        "    file = open(file, \"r\", encoding=\"utf-8\", errors=\"ignore\")\n",
        "    text = file.read()\n",
        "    text = remove_special_characters(text)\n",
        "    text = re.sub(re.compile(r'\\d'),'',text)\n",
        "    sentences = sent_tokenize(text)\n",
        "    words = word_tokenize(text)\n",
        "    words = [word for word in words if len(words)>1]\n",
        "    words = [word.lower() for word in words]\n",
        "    words = [word for word in words if word not in Stopwords]\n",
        "    word_freq_in_doc = finding_all_unique_words_and_freq(words)\n",
        "    for word in word_freq_in_doc.keys():\n",
        "        linked_list = linked_list_data[word].head\n",
        "        while linked_list.nextval is not None:\n",
        "            linked_list = linked_list.nextval\n",
        "        linked_list.nextval = Node(idx ,word_freq_in_doc[word])\n",
        "    idx = idx + 1"
      ]
    },
    {
      "cell_type": "markdown",
      "id": "ed32a56b-b2d7-40b2-8885-143d5a979710",
      "metadata": {
        "id": "ed32a56b-b2d7-40b2-8885-143d5a979710"
      },
      "source": [
        "Query processing and output generation"
      ]
    },
    {
      "cell_type": "code",
      "source": [
        "import nltk\n",
        "nltk.download('punkt')"
      ],
      "metadata": {
        "colab": {
          "base_uri": "https://localhost:8080/"
        },
        "id": "m_O2bV9I4pK0",
        "outputId": "d44acab9-40d9-467c-eeba-2540b8814d77"
      },
      "id": "m_O2bV9I4pK0",
      "execution_count": 38,
      "outputs": [
        {
          "output_type": "stream",
          "name": "stderr",
          "text": [
            "[nltk_data] Downloading package punkt to /root/nltk_data...\n",
            "[nltk_data]   Package punkt is already up-to-date!\n"
          ]
        },
        {
          "output_type": "execute_result",
          "data": {
            "text/plain": [
              "True"
            ]
          },
          "metadata": {},
          "execution_count": 38
        }
      ]
    },
    {
      "cell_type": "code",
      "source": [
        "import nltk\n",
        "nltk.download('punkt_tab')"
      ],
      "metadata": {
        "colab": {
          "base_uri": "https://localhost:8080/"
        },
        "id": "uMbED1Yx5OwW",
        "outputId": "52fa0f01-052b-4662-fa0d-311a95b5760c"
      },
      "id": "uMbED1Yx5OwW",
      "execution_count": 39,
      "outputs": [
        {
          "output_type": "stream",
          "name": "stderr",
          "text": [
            "[nltk_data] Downloading package punkt_tab to /root/nltk_data...\n",
            "[nltk_data]   Package punkt_tab is already up-to-date!\n"
          ]
        },
        {
          "output_type": "execute_result",
          "data": {
            "text/plain": [
              "True"
            ]
          },
          "metadata": {},
          "execution_count": 39
        }
      ]
    },
    {
      "cell_type": "code",
      "execution_count": 41,
      "id": "74ecadb9-7fe8-4321-a736-2d5aa213130a",
      "metadata": {
        "tags": [],
        "colab": {
          "base_uri": "https://localhost:8080/"
        },
        "id": "74ecadb9-7fe8-4321-a736-2d5aa213130a",
        "outputId": "d85b4c27-9c59-4808-a345-ee68e0daa9d8"
      },
      "outputs": [
        {
          "output_type": "stream",
          "name": "stdout",
          "text": [
            "Enter your query:badminton\n",
            "[]\n",
            "badminton\n",
            "[[0, 0, 0, 0, 1, 0, 0, 0, 0]]\n",
            "[]\n"
          ]
        }
      ],
      "source": [
        "from nltk.tokenize import word_tokenize\n",
        "query = input('Enter your query:')\n",
        "query = word_tokenize(query)\n",
        "connecting_words = []\n",
        "cnt = 1\n",
        "different_words = []\n",
        "bitwise_op = []\n",
        "for word in query:\n",
        "    if word.lower() != \"and\" and word.lower() != \"or\" and word.lower() != \"not\":\n",
        "        different_words.append(word.lower())\n",
        "    else:\n",
        "        connecting_words.append(word.lower())\n",
        "print(connecting_words)\n",
        "total_files = len(files_with_index)\n",
        "zeroes_and_ones = []\n",
        "zeroes_and_ones_of_all_words = []\n",
        "for word in (different_words):\n",
        "    if word.lower() in unique_words_all:\n",
        "        zeroes_and_ones = [0] * total_files\n",
        "        linkedlist = linked_list_data[word].head\n",
        "        print(word)\n",
        "        while linkedlist.nextval is not None:\n",
        "            zeroes_and_ones[linkedlist.nextval.doc - 1] = 1\n",
        "            linkedlist = linkedlist.nextval\n",
        "        zeroes_and_ones_of_all_words.append(zeroes_and_ones)\n",
        "    else:\n",
        "        print(word,\" not found\")\n",
        "        sys.exit()\n",
        "print(zeroes_and_ones_of_all_words)\n",
        "for word in connecting_words:\n",
        "    word_list1 = zeroes_and_ones_of_all_words[0]\n",
        "    word_list2 = zeroes_and_ones_of_all_words[1]\n",
        "    if word == \"and\":\n",
        "        bitwise_op = [w1 & w2 for (w1,w2) in zip(word_list1,word_list2)]\n",
        "        zeroes_and_ones_of_all_words.remove(word_list1)\n",
        "        zeroes_and_ones_of_all_words.remove(word_list2)\n",
        "        zeroes_and_ones_of_all_words.insert(0, bitwise_op);\n",
        "    elif word == \"or\":\n",
        "        bitwise_op = [w1 | w2 for (w1,w2) in zip(word_list1,word_list2)]\n",
        "        zeroes_and_ones_of_all_words.remove(word_list1)\n",
        "        zeroes_and_ones_of_all_words.remove(word_list2)\n",
        "        zeroes_and_ones_of_all_words.insert(0, bitwise_op);\n",
        "    elif word == \"not\":\n",
        "        bitwise_op = [not w1 for w1 in word_list2]\n",
        "        bitwise_op = [int(b == True) for b in bitwise_op]\n",
        "        zeroes_and_ones_of_all_words.remove(word_list2)\n",
        "        zeroes_and_ones_of_all_words.remove(word_list1)\n",
        "        bitwise_op = [w1 & w2 for (w1,w2) in zip(word_list1,bitwise_op)]\n",
        "zeroes_and_ones_of_all_words.insert(0, bitwise_op);\n",
        "\n",
        "files = []\n",
        "# print(zeroes_and_ones_of_all_words)\n",
        "lis = zeroes_and_ones_of_all_words[0]\n",
        "cnt = 1\n",
        "for index in lis:\n",
        "    if index == 1:\n",
        "        files.append(files_with_index[cnt])\n",
        "    cnt = cnt+1\n",
        "\n",
        "print(files)"
      ]
    },
    {
      "cell_type": "code",
      "execution_count": null,
      "id": "b28590aa-7b5c-407e-8420-ae808e0e4af5",
      "metadata": {
        "id": "b28590aa-7b5c-407e-8420-ae808e0e4af5"
      },
      "outputs": [],
      "source": []
    }
  ],
  "metadata": {
    "kernelspec": {
      "display_name": "Python 3",
      "language": "python",
      "name": "python3"
    },
    "language_info": {
      "codemirror_mode": {
        "name": "ipython",
        "version": 3
      },
      "file_extension": ".py",
      "mimetype": "text/x-python",
      "name": "python",
      "nbconvert_exporter": "python",
      "pygments_lexer": "ipython3",
      "version": "3.13.7"
    },
    "colab": {
      "provenance": [],
      "include_colab_link": true
    }
  },
  "nbformat": 4,
  "nbformat_minor": 5
}